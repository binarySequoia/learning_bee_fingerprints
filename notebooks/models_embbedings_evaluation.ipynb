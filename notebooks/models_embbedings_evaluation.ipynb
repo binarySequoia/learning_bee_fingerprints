{
 "cells": [
  {
   "cell_type": "code",
   "execution_count": 1,
   "metadata": {},
   "outputs": [
    {
     "name": "stderr",
     "output_type": "stream",
     "text": [
      "Using TensorFlow backend.\n"
     ]
    }
   ],
   "source": [
    "%matplotlib inline\n",
    "from keras.models import load_model\n",
    "from keras.layers import Input\n",
    "from sklearn.metrics import roc_curve, roc_auc_score\n",
    "\n",
    "from skimage import io\n",
    "import pandas as pd\n",
    "import os\n",
    "import sys\n",
    "import numpy as np\n",
    "import matplotlib.pyplot as plt\n",
    "import seaborn as sns\n",
    "\n",
    "sys.path.append(\"../networks\")\n",
    "sys.path.append(\"../\")\n",
    "\n",
    "from utils.load_data import *\n",
    "from networks import *\n",
    "\n",
    "MODELS_DIR = '../models'\n",
    "WEIGHTS_DIR = '../weights'\n",
    "DOCS_DIR = '../docs'\n",
    "CSV_DIR = '../data/csv/'\n",
    "\n",
    "ALEX_NET_W = os.path.join(WEIGHTS_DIR, 'alex_net_dbl_sigmoid-w.h5')\n",
    "VGG_10_W = os.path.join(WEIGHTS_DIR, 'vgg_10_sigmoid-w.h5')\n",
    "VGG_14_W = os.path.join(WEIGHTS_DIR, 'vgg_14_sigmoid-w.h5')\n",
    "\n",
    "\n",
    "\n",
    "def distance(x, y):\n",
    "    return np.sqrt(np.sum((x - y)**2, axis=1))"
   ]
  },
  {
   "cell_type": "markdown",
   "metadata": {},
   "source": [
    "### Load Data"
   ]
  },
  {
   "cell_type": "code",
   "execution_count": 2,
   "metadata": {},
   "outputs": [],
   "source": [
    "([X1, X2], y), ([X1_test, X2_test], y_test) = load_data(os.path.join(CSV_DIR, 'train_pairs.csv'), os.path.join(CSV_DIR, 'test_pairs.csv'))"
   ]
  },
  {
   "cell_type": "code",
   "execution_count": 7,
   "metadata": {},
   "outputs": [
    {
     "data": {
      "text/plain": [
       "((46907, 230, 105, 3),\n",
       " (46907, 230, 105, 3),\n",
       " (46907,),\n",
       " (24779, 230, 105, 3),\n",
       " (24779, 230, 105, 3),\n",
       " (24779,))"
      ]
     },
     "execution_count": 7,
     "metadata": {},
     "output_type": "execute_result"
    }
   ],
   "source": [
    "X1.shape, X2.shape, y.shape, X1_test.shape, X2_test.shape, y_test.shape"
   ]
  },
  {
   "cell_type": "markdown",
   "metadata": {},
   "source": [
    "### Build networks architectures"
   ]
  },
  {
   "cell_type": "code",
   "execution_count": 9,
   "metadata": {},
   "outputs": [],
   "source": [
    "alex_net = alex_net_dbl_sigmoid([230, 105, 3])\n",
    "# vgg10_net = vggnet_10_sigmoid([230, 105, 3])\n",
    "# vgg14_net = vggnet_14_sigmoid([230, 105, 3])"
   ]
  },
  {
   "cell_type": "markdown",
   "metadata": {},
   "source": [
    "### Loading weights from pre-trained AlexNet network"
   ]
  },
  {
   "cell_type": "code",
   "execution_count": 10,
   "metadata": {},
   "outputs": [
    {
     "name": "stdout",
     "output_type": "stream",
     "text": [
      "_________________________________________________________________\n",
      "Layer (type)                 Output Shape              Param #   \n",
      "=================================================================\n",
      "input_1 (InputLayer)         (None, 230, 105, 3)       0         \n",
      "_________________________________________________________________\n",
      "sequential_1 (Sequential)    (None, 64)                35171392  \n",
      "=================================================================\n",
      "Total params: 35,171,392\n",
      "Trainable params: 35,171,008\n",
      "Non-trainable params: 384\n",
      "_________________________________________________________________\n"
     ]
    }
   ],
   "source": [
    "alex_net_input = Input([230, 105, 3])\n",
    "\n",
    "alexnet_model = alex_net(alex_net_input)\n",
    "\n",
    "alexnet_model = Model(alex_net_input, alexnet_model)\n",
    "\n",
    "alexnet_model.summary()\n",
    "\n",
    "alexnet_model.load_weights(ALEX_NET_W)"
   ]
  },
  {
   "cell_type": "markdown",
   "metadata": {},
   "source": [
    "### Loading weights from pre-trained VGG 10 network"
   ]
  },
  {
   "cell_type": "code",
   "execution_count": 33,
   "metadata": {},
   "outputs": [
    {
     "name": "stdout",
     "output_type": "stream",
     "text": [
      "_________________________________________________________________\n",
      "Layer (type)                 Output Shape              Param #   \n",
      "=================================================================\n",
      "input_9 (InputLayer)         (None, 230, 105, 3)       0         \n",
      "_________________________________________________________________\n",
      "model_6 (Model)              (None, 64)                26004608  \n",
      "=================================================================\n",
      "Total params: 26,004,608\n",
      "Trainable params: 24,269,120\n",
      "Non-trainable params: 1,735,488\n",
      "_________________________________________________________________\n"
     ]
    }
   ],
   "source": [
    "vgg10_input = Input([230, 105, 3])\n",
    "\n",
    "vgg10_model = vgg10_net(vgg10_input)\n",
    "\n",
    "vgg10_model = Model(vgg10_input, vgg10_model)\n",
    "\n",
    "vgg10_model.summary()\n",
    "\n",
    "vgg10_model.load_weights(VGG_10_W)"
   ]
  },
  {
   "cell_type": "markdown",
   "metadata": {},
   "source": [
    "### Loading weights from pre-trained VGG 14 network"
   ]
  },
  {
   "cell_type": "code",
   "execution_count": 34,
   "metadata": {},
   "outputs": [
    {
     "name": "stdout",
     "output_type": "stream",
     "text": [
      "_________________________________________________________________\n",
      "Layer (type)                 Output Shape              Param #   \n",
      "=================================================================\n",
      "input_10 (InputLayer)        (None, 230, 105, 3)       0         \n",
      "_________________________________________________________________\n",
      "model_7 (Model)              (None, 64)                26004608  \n",
      "=================================================================\n",
      "Total params: 26,004,608\n",
      "Trainable params: 18,369,344\n",
      "Non-trainable params: 7,635,264\n",
      "_________________________________________________________________\n"
     ]
    }
   ],
   "source": [
    "vgg14_input = Input([230, 105, 3])\n",
    "\n",
    "vgg14_model = vgg14_net(vgg14_input)\n",
    "\n",
    "vgg14_model = Model(vgg14_input, vgg14_model)\n",
    "\n",
    "vgg14_model.summary()\n",
    "\n",
    "vgg14_model.load_weights(VGG_14_W)"
   ]
  },
  {
   "cell_type": "markdown",
   "metadata": {},
   "source": [
    "### ROC ALEX NET"
   ]
  },
  {
   "cell_type": "code",
   "execution_count": 11,
   "metadata": {},
   "outputs": [],
   "source": [
    "y1_alexnet = alexnet_model.predict(X1_test)"
   ]
  },
  {
   "cell_type": "code",
   "execution_count": 12,
   "metadata": {},
   "outputs": [],
   "source": [
    "y2_alexnet = alexnet_model.predict(X2_test)"
   ]
  },
  {
   "cell_type": "code",
   "execution_count": 13,
   "metadata": {},
   "outputs": [],
   "source": [
    "alexnet_dist = distance(y1_alexnet, y2_alexnet)"
   ]
  },
  {
   "cell_type": "code",
   "execution_count": 14,
   "metadata": {},
   "outputs": [
    {
     "data": {
      "text/plain": [
       "19129"
      ]
     },
     "execution_count": 14,
     "metadata": {},
     "output_type": "execute_result"
    }
   ],
   "source": [
    "np.sum(alexnet_dist > 1)"
   ]
  },
  {
   "cell_type": "code",
   "execution_count": 15,
   "metadata": {},
   "outputs": [],
   "source": [
    "fpr, tpr, thr = roc_curve(y_test, alexnet_dist)"
   ]
  },
  {
   "cell_type": "code",
   "execution_count": 16,
   "metadata": {},
   "outputs": [
    {
     "data": {
      "text/plain": [
       "0.89601568478554106"
      ]
     },
     "execution_count": 16,
     "metadata": {},
     "output_type": "execute_result"
    }
   ],
   "source": [
    "roc_auc_score(y_test, alexnet_dist)"
   ]
  },
  {
   "cell_type": "code",
   "execution_count": 17,
   "metadata": {},
   "outputs": [
    {
     "data": {
      "image/png": "[encoded data removed]",
      "text/plain": [
       "<matplotlib.figure.Figure at 0x7f88406935f8>"
      ]
     },
     "metadata": {},
     "output_type": "display_data"
    }
   ],
   "source": [
    "plt.plot(fpr, tpr)\n",
    "plt.title(\"AlexNet with double sigmoid ROC curve\")\n",
    "plt.ylabel(\"True Positive Rate\")\n",
    "plt.xlabel(\"False Positive Rate\");\n",
    "plt.savefig(os.path.join(DOCS_DIR, \"ALexNetDblSigmoid-ROC.png\"))"
   ]
  },
  {
   "cell_type": "code",
   "execution_count": 18,
   "metadata": {},
   "outputs": [],
   "source": [
    "not_same = alexnet_dist[y_test == 1]\n",
    "same = alexnet_dist[y_test == 0] "
   ]
  },
  {
   "cell_type": "code",
   "execution_count": 19,
   "metadata": {},
   "outputs": [
    {
     "data": {
      "text/plain": [
       "<matplotlib.legend.Legend at 0x7f884063b518>"
      ]
     },
     "execution_count": 19,
     "metadata": {},
     "output_type": "execute_result"
    },
    {
     "data": {
      "image/png": "[encoded data removed]",
      "text/plain": [
       "<matplotlib.figure.Figure at 0x7f884071a6a0>"
      ]
     },
     "metadata": {},
     "output_type": "display_data"
    }
   ],
   "source": [
    "fig, ax = plt.subplots(2, 1, sharex=True, sharey=True, figsize=(8,8))\n",
    "\n",
    "ax[0].hist(same, label=\"Same\");\n",
    "ax[0].legend()\n",
    "ax[1].hist(not_same, label=\"Not Same\", color='orange');\n",
    "ax[1].legend()\n"
   ]
  },
  {
   "cell_type": "code",
   "execution_count": 20,
   "metadata": {},
   "outputs": [
    {
     "data": {
      "image/png": "[encoded data removed]",
      "text/plain": [
       "<matplotlib.figure.Figure at 0x7f884069ee80>"
      ]
     },
     "metadata": {},
     "output_type": "display_data"
    }
   ],
   "source": [
    "plt.figure(figsize=(12, 8))\n",
    "sns.distplot(same, label='same')\n",
    "sns.distplot(not_same, label='not same')\n",
    "plt.legend()\n",
    "plt.title(\"Same or not same distance distribution\",  fontsize=14)\n",
    "plt.xlabel(\"distance\", fontsize=12)\n",
    "plt.ylabel(\"frequency\", fontsize=12);\n"
   ]
  },
  {
   "cell_type": "markdown",
   "metadata": {},
   "source": [
    "### ROC VGG10 NET"
   ]
  },
  {
   "cell_type": "code",
   "execution_count": 41,
   "metadata": {},
   "outputs": [],
   "source": [
    "y1_vgg10 = vgg10_model.predict(X1_test)"
   ]
  },
  {
   "cell_type": "code",
   "execution_count": 42,
   "metadata": {},
   "outputs": [],
   "source": [
    "y2_vgg10 = vgg10_model.predict(X2_test)"
   ]
  },
  {
   "cell_type": "code",
   "execution_count": 43,
   "metadata": {},
   "outputs": [],
   "source": [
    "vgg10_dist = distance(y1_vgg10, y2_vgg10)"
   ]
  },
  {
   "cell_type": "code",
   "execution_count": 44,
   "metadata": {},
   "outputs": [
    {
     "data": {
      "text/plain": [
       "0"
      ]
     },
     "execution_count": 44,
     "metadata": {},
     "output_type": "execute_result"
    }
   ],
   "source": [
    "np.sum(vgg10_dist > 1)"
   ]
  },
  {
   "cell_type": "code",
   "execution_count": 45,
   "metadata": {},
   "outputs": [],
   "source": [
    "fpr, tpr, thr = roc_curve(y_test, vgg10_dist)"
   ]
  },
  {
   "cell_type": "code",
   "execution_count": 46,
   "metadata": {},
   "outputs": [
    {
     "data": {
      "image/png": "[encoded data removed]",
      "text/plain": [
       "<matplotlib.figure.Figure at 0x7f6e300ba2b0>"
      ]
     },
     "metadata": {},
     "output_type": "display_data"
    }
   ],
   "source": [
    "plt.plot(fpr, tpr)\n",
    "plt.title(\"Vgg 10 with sigmoid ROC curve\")\n",
    "plt.ylabel(\"True Positive Rate\")\n",
    "plt.xlabel(\"False Positive Rate\");\n",
    "plt.savefig(os.path.join(DOCS_DIR, \"Vgg10Sigmoid-ROC.png\"))"
   ]
  },
  {
   "cell_type": "code",
   "execution_count": null,
   "metadata": {},
   "outputs": [],
   "source": []
  },
  {
   "cell_type": "markdown",
   "metadata": {},
   "source": [
    "### ROC VGG14 NET"
   ]
  },
  {
   "cell_type": "code",
   "execution_count": 47,
   "metadata": {},
   "outputs": [],
   "source": [
    "y1_vgg14 = vgg14_model.predict(X1_test)"
   ]
  },
  {
   "cell_type": "code",
   "execution_count": 48,
   "metadata": {},
   "outputs": [],
   "source": [
    "y2_vgg14 = vgg14_model.predict(X2_test)"
   ]
  },
  {
   "cell_type": "code",
   "execution_count": 49,
   "metadata": {},
   "outputs": [],
   "source": [
    "vgg14_dist = distance(y1_vgg14, y2_vgg14)"
   ]
  },
  {
   "cell_type": "code",
   "execution_count": 50,
   "metadata": {},
   "outputs": [
    {
     "data": {
      "text/plain": [
       "0"
      ]
     },
     "execution_count": 50,
     "metadata": {},
     "output_type": "execute_result"
    }
   ],
   "source": [
    "np.sum(vgg14_dist > 1)"
   ]
  },
  {
   "cell_type": "code",
   "execution_count": 51,
   "metadata": {},
   "outputs": [],
   "source": [
    "fpr, tpr, thr = roc_curve(y_test, vgg14_dist)"
   ]
  },
  {
   "cell_type": "code",
   "execution_count": 52,
   "metadata": {},
   "outputs": [
    {
     "data": {
      "image/png": "[encoded data removed]",
      "text/plain": [
       "<matplotlib.figure.Figure at 0x7f6e587c96a0>"
      ]
     },
     "metadata": {},
     "output_type": "display_data"
    }
   ],
   "source": [
    "plt.plot(fpr, tpr)\n",
    "plt.title(\"Vgg 14 with sigmoid ROC curve\")\n",
    "plt.ylabel(\"True Positive Rate\")\n",
    "plt.xlabel(\"False Positive Rate\");\n",
    "plt.savefig(os.path.join(DOCS_DIR, \"Vgg14Sigmoid-ROC.png\"))"
   ]
  },
  {
   "cell_type": "code",
   "execution_count": null,
   "metadata": {},
   "outputs": [],
   "source": []
  }
 ],
 "metadata": {
  "kernelspec": {
   "display_name": "Python 3",
   "language": "python",
   "name": "python3"
  },
  "language_info": {
   "codemirror_mode": {
    "name": "ipython",
    "version": 3
   },
   "file_extension": ".py",
   "mimetype": "text/x-python",
   "name": "python",
   "nbconvert_exporter": "python",
   "pygments_lexer": "ipython3",
   "version": "3.6.3"
  }
 },
 "nbformat": 4,
 "nbformat_minor": 2
}
