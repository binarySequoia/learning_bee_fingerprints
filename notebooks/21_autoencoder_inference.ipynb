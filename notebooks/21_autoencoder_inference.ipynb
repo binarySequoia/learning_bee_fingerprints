{
 "cells": [
  {
   "cell_type": "code",
   "execution_count": 12,
   "metadata": {},
   "outputs": [],
   "source": [
    "import random\n",
    "from skimage import io\n",
    "import matplotlib.pyplot as plt\n",
    "from ipywidgets import interact\n",
    "from keras.models import Model, Sequential \n",
    "from keras.models import load_model\n",
    "from keras.callbacks import ModelCheckpoint, EarlyStopping, TensorBoard\n",
    "from keras.applications.vgg16 import VGG16\n",
    "from keras.optimizers import SGD\n",
    "import numpy as np\n",
    "from keras.layers import Input, Flatten, Dense, Dropout, Conv2D, MaxPooling2D, Merge, UpSampling2D\n",
    "from keras.layers import Reshape\n",
    "from keras.layers.normalization import BatchNormalization\n",
    "from keras.losses import mse, binary_crossentropy\n",
    "from keras.optimizers import RMSprop\n",
    "from keras import backend as K\n",
    "from keras.applications.vgg16 import VGG16, preprocess_input, decode_predictions\n",
    "from keras.preprocessing.image import img_to_array\n",
    "from keras.utils import to_categorical\n",
    "from keras.layers.core import Lambda\n",
    "import keras\n",
    "import os\n",
    "from sklearn.metrics import accuracy_score\n",
    "import seaborn as sns\n",
    "from keras.utils.vis_utils import plot_model\n",
    "import pandas as pd\n",
    "import sys\n",
    "sys.path.append(\"../\")\n",
    "from networks.networks import *\n",
    "import h5py\n",
    "from utils.load_data import *\n",
    "from utils.utils import *"
   ]
  },
  {
   "cell_type": "code",
   "execution_count": 4,
   "metadata": {},
   "outputs": [],
   "source": [
    "TRAIN_CSV = '../datasets/dataset2/train_pairs.csv'\n",
    "TEST_CSV = '../datasets/dataset2/test_pairs.csv'"
   ]
  },
  {
   "cell_type": "code",
   "execution_count": 5,
   "metadata": {},
   "outputs": [],
   "source": [
    "data = load_data(TRAIN_CSV, TEST_CSV)\n",
    "\n",
    "[X1, X2] = data[\"X\"]\n",
    "y = data[\"y\"]\n",
    "[X1_fn, X2_fn] = data[\"X_fn\"]\n",
    "\n",
    "[X1_test, X2_test] = data[\"X_test\"]\n",
    "y_test = data[\"y_test\"]\n",
    "[X1_test_fn, X2_test_fn] = data[\"X_test_fn\"]\n"
   ]
  },
  {
   "cell_type": "code",
   "execution_count": 7,
   "metadata": {},
   "outputs": [
    {
     "name": "stderr",
     "output_type": "stream",
     "text": [
      "/home/jchan/anaconda3/lib/python3.6/site-packages/keras/models.py:255: UserWarning: No training configuration found in save file: the model was *not* compiled. Compile it manually.\n",
      "  warnings.warn('No training configuration found in save file: '\n"
     ]
    }
   ],
   "source": [
    "encoder = load_model(\"../models/encoder512.h5\")"
   ]
  },
  {
   "cell_type": "code",
   "execution_count": 9,
   "metadata": {},
   "outputs": [],
   "source": [
    "X1 = X1[:, 3:-3, 1:, :]\n",
    "X2 = X2[:, 3:-3, 1:, :]\n",
    "\n",
    "X1_test = X1_test[:, 3:-3, 1:, :]\n",
    "X2_test = X2_test[:, 3:-3, 1:, :]"
   ]
  },
  {
   "cell_type": "code",
   "execution_count": 10,
   "metadata": {},
   "outputs": [
    {
     "name": "stdout",
     "output_type": "stream",
     "text": [
      "Predicting Training Data with ...\n",
      "Predicting Testing Data with ...\n"
     ]
    }
   ],
   "source": [
    "print(\"Predicting Training Data with ...\")\n",
    "train_pred_x1 = encoder.predict(X1)\n",
    "train_pred_x2 = encoder.predict(X2)\n",
    "\n",
    "print(\"Predicting Testing Data with ...\")\n",
    "test_pred_x1 = encoder.predict(X1_test)\n",
    "test_pred_x2 = encoder.predict(X2_test)"
   ]
  },
  {
   "cell_type": "code",
   "execution_count": 23,
   "metadata": {},
   "outputs": [],
   "source": [
    "train_dist = distance(np.array(train_pred_x1)[2], np.array(train_pred_x2)[2])\n",
    "test_dist = distance(np.array(test_pred_x1)[2], np.array(test_pred_x2)[2]) "
   ]
  },
  {
   "cell_type": "code",
   "execution_count": 24,
   "metadata": {},
   "outputs": [],
   "source": [
    "CURRENT_OUTPUT_PATH = \"../stats/encoder512\"\n",
    "\n",
    "df_dict_train = {\n",
    "    \"X1\": X1_fn,\n",
    "    \"X2\": X2_fn,\n",
    "    \"y_pred\": train_dist,\n",
    "    \"y_true\": y\n",
    "}\n",
    "\n",
    "df_dict_test = {\n",
    "    \"X1\": X1_test_fn,\n",
    "    \"X2\": X2_test_fn,\n",
    "    \"y_pred\": test_dist,\n",
    "    \"y_true\": y_test\n",
    "}\n",
    "\n",
    "train_csv_filename = CURRENT_OUTPUT_PATH + \"/{0}-train_results.csv\".format(\"encoder512\")\n",
    "test_csv_filename = CURRENT_OUTPUT_PATH + \"/{0}-test_results.csv\".format(\"encoder512\")"
   ]
  },
  {
   "cell_type": "code",
   "execution_count": 26,
   "metadata": {},
   "outputs": [
    {
     "name": "stdout",
     "output_type": "stream",
     "text": [
      "Saving train csv in ../stats/encoder512/encoder512-train_results.csv\n",
      "Saving test csv in ../stats/encoder512/encoder512-test_results.csv\n"
     ]
    }
   ],
   "source": [
    "train_df = pd.DataFrame.from_dict(df_dict_train)\n",
    "train_df[\"training\"] = 1\n",
    "print(\"Saving train csv in {}\".format(train_csv_filename))\n",
    "train_df.to_csv(train_csv_filename, index=False)\n",
    "\n",
    "test_df = pd.DataFrame.from_dict(df_dict_test)\n",
    "test_df[\"training\"] = 0\n",
    "print(\"Saving test csv in {}\".format(test_csv_filename))\n",
    "test_df.to_csv(test_csv_filename, index=False)"
   ]
  },
  {
   "cell_type": "code",
   "execution_count": null,
   "metadata": {},
   "outputs": [],
   "source": []
  }
 ],
 "metadata": {
  "kernelspec": {
   "display_name": "Python 3",
   "language": "python",
   "name": "python3"
  },
  "language_info": {
   "codemirror_mode": {
    "name": "ipython",
    "version": 3
   },
   "file_extension": ".py",
   "mimetype": "text/x-python",
   "name": "python",
   "nbconvert_exporter": "python",
   "pygments_lexer": "ipython3",
   "version": "3.6.3"
  }
 },
 "nbformat": 4,
 "nbformat_minor": 2
}
