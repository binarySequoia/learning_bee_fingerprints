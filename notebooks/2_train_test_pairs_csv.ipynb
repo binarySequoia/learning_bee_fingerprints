{
 "cells": [
  {
   "cell_type": "code",
   "execution_count": 17,
   "metadata": {
    "collapsed": true
   },
   "outputs": [],
   "source": [
    "%matplotlib inline\n",
    "import numpy as np\n",
    "from skimage import io\n",
    "import pandas as pd\n",
    "import matplotlib.pyplot as plt\n",
    "from sklearn.utils import shuffle\n",
    "import os\n",
    "import json\n",
    "\n",
    "import sys\n",
    "sys.path.append(\"../\")\n",
    "from utils.metadata import *\n",
    "\n",
    "OUTPUT_DIR = '../datasets/body_sept/'\n",
    "PREPROCCESSED_DATA_DIR = '../datasets/body_sept/'"
   ]
  },
  {
   "cell_type": "code",
   "execution_count": 18,
   "metadata": {
    "collapsed": true
   },
   "outputs": [],
   "source": [
    "def get_pairs(bee_list, path, y):\n",
    "    size = len(bee_list)\n",
    "    pairs = list()\n",
    "    for i in range(size):\n",
    "        for j in range(i+1, size):\n",
    "            X1 = os.path.join(path, bee_list[i])\n",
    "            X2 = os.path.join(path, bee_list[j])\n",
    "            pairs.append({'X1': X1, 'X2': X2, 'y':y})\n",
    "    return pairs"
   ]
  },
  {
   "cell_type": "code",
   "execution_count": 19,
   "metadata": {
    "collapsed": true
   },
   "outputs": [],
   "source": [
    "def load_frame_data(path):\n",
    "    df = pd.DataFrame(columns=['X1', 'X2', 'y'])\n",
    "    frames = os.listdir(path)[::2]\n",
    "    \n",
    "    for fr in frames:\n",
    "        fr_path = os.path.join(path, fr)\n",
    "        frame_bees = os.listdir(fr_path)\n",
    "        pairs = get_pairs(frame_bees, fr_path, 1)\n",
    "        if(len(pairs) == 0):\n",
    "            continue\n",
    "        df = df.append(pairs,  ignore_index=True)\n",
    "    return df\n",
    "    "
   ]
  },
  {
   "cell_type": "code",
   "execution_count": 20,
   "metadata": {},
   "outputs": [],
   "source": [
    "def load_track_data(path):\n",
    "    df = pd.DataFrame(columns=['X1', 'X2', 'y'])\n",
    "    tracks = os.listdir(path)\n",
    "    \n",
    "    for tr in tracks:\n",
    "        tr_path = os.path.join(path, tr)\n",
    "        track_bees = os.listdir(tr_path)\n",
    "        if(len(track_bees) < 2):\n",
    "            continue\n",
    "        pairs = get_pairs(track_bees, tr_path, 0)\n",
    "        df = df.append(pairs)\n",
    "    return df"
   ]
  },
  {
   "cell_type": "code",
   "execution_count": 21,
   "metadata": {
    "collapsed": true
   },
   "outputs": [],
   "source": [
    "def create_csv():\n",
    "    train_path = os.path.join(PREPROCCESSED_DATA_DIR, 'train_data')\n",
    "    train_frame_path = os.path.join(train_path, 'frame')\n",
    "    train_track_path = os.path.join(train_path, 'track')\n",
    "    \n",
    "    train_frame_df = load_frame_data(train_frame_path)\n",
    "    train_track_df = load_track_data(train_track_path)\n",
    "    train_df = train_frame_df.append(train_track_df, ignore_index=True)\n",
    "    \n",
    "    test_path = os.path.join(PREPROCCESSED_DATA_DIR, 'test_data')\n",
    "    test_frame_path = os.path.join(test_path, 'frame')\n",
    "    test_track_path = os.path.join( test_path, 'track')\n",
    "    \n",
    "    test_frame_df = load_frame_data(test_frame_path)\n",
    "    test_track_df = load_track_data(test_track_path)\n",
    "    test_df = test_frame_df.append(test_track_df, ignore_index=True)\n",
    "    \n",
    "    train_df = shuffle(train_df)\n",
    "    test_df = shuffle(test_df)\n",
    "    return train_df, test_df"
   ]
  },
  {
   "cell_type": "code",
   "execution_count": 22,
   "metadata": {},
   "outputs": [],
   "source": [
    "train_df, test_df = create_csv()"
   ]
  },
  {
   "cell_type": "code",
   "execution_count": 23,
   "metadata": {},
   "outputs": [
    {
     "data": {
      "text/html": [
       "<div>\n",
       "<style>\n",
       "    .dataframe thead tr:only-child th {\n",
       "        text-align: right;\n",
       "    }\n",
       "\n",
       "    .dataframe thead th {\n",
       "        text-align: left;\n",
       "    }\n",
       "\n",
       "    .dataframe tbody tr th {\n",
       "        vertical-align: top;\n",
       "    }\n",
       "</style>\n",
       "<table border=\"1\" class=\"dataframe\">\n",
       "  <thead>\n",
       "    <tr style=\"text-align: right;\">\n",
       "      <th></th>\n",
       "      <th>X1</th>\n",
       "      <th>X2</th>\n",
       "      <th>y</th>\n",
       "    </tr>\n",
       "  </thead>\n",
       "  <tbody>\n",
       "    <tr>\n",
       "      <th>494</th>\n",
       "      <td>../datasets/body_sept/train_data/frame/001356/...</td>\n",
       "      <td>../datasets/body_sept/train_data/frame/001356/...</td>\n",
       "      <td>1</td>\n",
       "    </tr>\n",
       "    <tr>\n",
       "      <th>199138</th>\n",
       "      <td>../datasets/body_sept/train_data/frame/007325/...</td>\n",
       "      <td>../datasets/body_sept/train_data/frame/007325/...</td>\n",
       "      <td>1</td>\n",
       "    </tr>\n",
       "    <tr>\n",
       "      <th>120221</th>\n",
       "      <td>../datasets/body_sept/train_data/frame/007673/...</td>\n",
       "      <td>../datasets/body_sept/train_data/frame/007673/...</td>\n",
       "      <td>1</td>\n",
       "    </tr>\n",
       "    <tr>\n",
       "      <th>349392</th>\n",
       "      <td>../datasets/body_sept/train_data/track/001719/...</td>\n",
       "      <td>../datasets/body_sept/train_data/track/001719/...</td>\n",
       "      <td>0</td>\n",
       "    </tr>\n",
       "    <tr>\n",
       "      <th>223821</th>\n",
       "      <td>../datasets/body_sept/train_data/frame/008181/...</td>\n",
       "      <td>../datasets/body_sept/train_data/frame/008181/...</td>\n",
       "      <td>1</td>\n",
       "    </tr>\n",
       "  </tbody>\n",
       "</table>\n",
       "</div>"
      ],
      "text/plain": [
       "                                                       X1  \\\n",
       "494     ../datasets/body_sept/train_data/frame/001356/...   \n",
       "199138  ../datasets/body_sept/train_data/frame/007325/...   \n",
       "120221  ../datasets/body_sept/train_data/frame/007673/...   \n",
       "349392  ../datasets/body_sept/train_data/track/001719/...   \n",
       "223821  ../datasets/body_sept/train_data/frame/008181/...   \n",
       "\n",
       "                                                       X2  y  \n",
       "494     ../datasets/body_sept/train_data/frame/001356/...  1  \n",
       "199138  ../datasets/body_sept/train_data/frame/007325/...  1  \n",
       "120221  ../datasets/body_sept/train_data/frame/007673/...  1  \n",
       "349392  ../datasets/body_sept/train_data/track/001719/...  0  \n",
       "223821  ../datasets/body_sept/train_data/frame/008181/...  1  "
      ]
     },
     "execution_count": 23,
     "metadata": {},
     "output_type": "execute_result"
    }
   ],
   "source": [
    "train_df.head()"
   ]
  },
  {
   "cell_type": "code",
   "execution_count": 24,
   "metadata": {},
   "outputs": [
    {
     "data": {
      "text/plain": [
       "(236090, 222307)"
      ]
     },
     "execution_count": 24,
     "metadata": {},
     "output_type": "execute_result"
    }
   ],
   "source": [
    "train_df.y[train_df.y==1].size, train_df.y[train_df.y==0].size"
   ]
  },
  {
   "cell_type": "code",
   "execution_count": 25,
   "metadata": {},
   "outputs": [
    {
     "data": {
      "text/html": [
       "<div>\n",
       "<style>\n",
       "    .dataframe thead tr:only-child th {\n",
       "        text-align: right;\n",
       "    }\n",
       "\n",
       "    .dataframe thead th {\n",
       "        text-align: left;\n",
       "    }\n",
       "\n",
       "    .dataframe tbody tr th {\n",
       "        vertical-align: top;\n",
       "    }\n",
       "</style>\n",
       "<table border=\"1\" class=\"dataframe\">\n",
       "  <thead>\n",
       "    <tr style=\"text-align: right;\">\n",
       "      <th></th>\n",
       "      <th>X1</th>\n",
       "      <th>X2</th>\n",
       "      <th>y</th>\n",
       "    </tr>\n",
       "  </thead>\n",
       "  <tbody>\n",
       "    <tr>\n",
       "      <th>114599</th>\n",
       "      <td>../datasets/body_sept/test_data/track/003403/B...</td>\n",
       "      <td>../datasets/body_sept/test_data/track/003403/B...</td>\n",
       "      <td>0</td>\n",
       "    </tr>\n",
       "    <tr>\n",
       "      <th>29521</th>\n",
       "      <td>../datasets/body_sept/test_data/frame/017443/B...</td>\n",
       "      <td>../datasets/body_sept/test_data/frame/017443/B...</td>\n",
       "      <td>1</td>\n",
       "    </tr>\n",
       "    <tr>\n",
       "      <th>40710</th>\n",
       "      <td>../datasets/body_sept/test_data/frame/017047/B...</td>\n",
       "      <td>../datasets/body_sept/test_data/frame/017047/B...</td>\n",
       "      <td>1</td>\n",
       "    </tr>\n",
       "    <tr>\n",
       "      <th>161357</th>\n",
       "      <td>../datasets/body_sept/test_data/track/003068/B...</td>\n",
       "      <td>../datasets/body_sept/test_data/track/003068/B...</td>\n",
       "      <td>0</td>\n",
       "    </tr>\n",
       "    <tr>\n",
       "      <th>162363</th>\n",
       "      <td>../datasets/body_sept/test_data/track/003506/B...</td>\n",
       "      <td>../datasets/body_sept/test_data/track/003506/B...</td>\n",
       "      <td>0</td>\n",
       "    </tr>\n",
       "  </tbody>\n",
       "</table>\n",
       "</div>"
      ],
      "text/plain": [
       "                                                       X1  \\\n",
       "114599  ../datasets/body_sept/test_data/track/003403/B...   \n",
       "29521   ../datasets/body_sept/test_data/frame/017443/B...   \n",
       "40710   ../datasets/body_sept/test_data/frame/017047/B...   \n",
       "161357  ../datasets/body_sept/test_data/track/003068/B...   \n",
       "162363  ../datasets/body_sept/test_data/track/003506/B...   \n",
       "\n",
       "                                                       X2  y  \n",
       "114599  ../datasets/body_sept/test_data/track/003403/B...  0  \n",
       "29521   ../datasets/body_sept/test_data/frame/017443/B...  1  \n",
       "40710   ../datasets/body_sept/test_data/frame/017047/B...  1  \n",
       "161357  ../datasets/body_sept/test_data/track/003068/B...  0  \n",
       "162363  ../datasets/body_sept/test_data/track/003506/B...  0  "
      ]
     },
     "execution_count": 25,
     "metadata": {},
     "output_type": "execute_result"
    }
   ],
   "source": [
    "test_df.head()"
   ]
  },
  {
   "cell_type": "code",
   "execution_count": 26,
   "metadata": {},
   "outputs": [
    {
     "data": {
      "text/plain": [
       "(96647, 67787)"
      ]
     },
     "execution_count": 26,
     "metadata": {},
     "output_type": "execute_result"
    }
   ],
   "source": [
    "test_df.y[test_df.y==1].size, test_df.y[test_df.y==0].size"
   ]
  },
  {
   "cell_type": "code",
   "execution_count": 27,
   "metadata": {},
   "outputs": [],
   "source": [
    "train_df.to_csv(os.path.join(OUTPUT_DIR, \"train_pairs.csv\"))\n",
    "test_df.to_csv(os.path.join(OUTPUT_DIR, \"test_pairs.csv\"))"
   ]
  },
  {
   "cell_type": "code",
   "execution_count": 28,
   "metadata": {},
   "outputs": [],
   "source": [
    "meta = Metadata()\n",
    "meta.read_data_metadata(os.path.join(OUTPUT_DIR, \"metadata\"))"
   ]
  },
  {
   "cell_type": "code",
   "execution_count": 29,
   "metadata": {},
   "outputs": [
    {
     "data": {
      "text/plain": [
       "{'csv_metadata': {'class_info': {'test_not_same_class': 192190,\n",
       "   'test_same_class': 67787,\n",
       "   'train_not_same_class': 470929,\n",
       "   'train_same_class': 222307},\n",
       "  'test_fn': 'test_pairs.csv',\n",
       "  'test_size': 259977,\n",
       "  'train_fn': 'train_pairs.csv',\n",
       "  'train_size': 693236},\n",
       " 'dataset_meta': {'info': {'test_frames': 'Test data frames was created by taking the frames after the first 800',\n",
       "   'test_track_count': 304,\n",
       "   'test_tracks': 'Test data tracks was created by taking the tracks after the first 800 frames, but each track need to be more than 25 frames long.',\n",
       "   'train_frames': 'Train data frames was created by taking the first 600 frames',\n",
       "   'train_track_count': 0,\n",
       "   'train_tracks': 'Train data tracks was created by taking the tracks in the first 600 frames, but each track need to be more than 25 frames long.'}}}"
      ]
     },
     "execution_count": 29,
     "metadata": {},
     "output_type": "execute_result"
    }
   ],
   "source": [
    "meta.metadata"
   ]
  },
  {
   "cell_type": "code",
   "execution_count": 30,
   "metadata": {},
   "outputs": [],
   "source": [
    "meta.add_metadata(\"csv_metadata\", {\n",
    "    \"train_fn\" : \"train_pairs.csv\",\n",
    "    \"test_fn\" : \"test_pairs.csv\",\n",
    "    \"train_size\" :  len(train_df),\n",
    "    \"test_size\" : len(test_df),\n",
    "    \"class_info\" : {\n",
    "        \"train_not_same_class\" : train_df.y[train_df.y==1].size,\n",
    "        \"train_same_class\" : train_df.y[train_df.y==0].size,\n",
    "        \"test_not_same_class\" : test_df.y[test_df.y==1].size,\n",
    "        \"test_same_class\" : test_df.y[test_df.y==0].size,\n",
    "    }\n",
    "})"
   ]
  },
  {
   "cell_type": "code",
   "execution_count": 31,
   "metadata": {},
   "outputs": [],
   "source": [
    "meta.save(os.path.join(OUTPUT_DIR, \"metadata\"))"
   ]
  },
  {
   "cell_type": "code",
   "execution_count": 32,
   "metadata": {},
   "outputs": [
    {
     "data": {
      "text/plain": [
       "{'csv_metadata': {'class_info': {'test_not_same_class': 96647,\n",
       "   'test_same_class': 67787,\n",
       "   'train_not_same_class': 236090,\n",
       "   'train_same_class': 222307},\n",
       "  'test_fn': 'test_pairs.csv',\n",
       "  'test_size': 164434,\n",
       "  'train_fn': 'train_pairs.csv',\n",
       "  'train_size': 458397},\n",
       " 'dataset_meta': {'info': {'test_frames': 'Test data frames was created by taking the frames after the first 800',\n",
       "   'test_track_count': 304,\n",
       "   'test_tracks': 'Test data tracks was created by taking the tracks after the first 800 frames, but each track need to be more than 25 frames long.',\n",
       "   'train_frames': 'Train data frames was created by taking the first 600 frames',\n",
       "   'train_track_count': 0,\n",
       "   'train_tracks': 'Train data tracks was created by taking the tracks in the first 600 frames, but each track need to be more than 25 frames long.'}}}"
      ]
     },
     "execution_count": 32,
     "metadata": {},
     "output_type": "execute_result"
    }
   ],
   "source": [
    "meta.metadata"
   ]
  },
  {
   "cell_type": "code",
   "execution_count": null,
   "metadata": {},
   "outputs": [],
   "source": []
  }
 ],
 "metadata": {
  "kernelspec": {
   "display_name": "Python 3",
   "language": "python",
   "name": "python3"
  },
  "language_info": {
   "codemirror_mode": {
    "name": "ipython",
    "version": 3
   },
   "file_extension": ".py",
   "mimetype": "text/x-python",
   "name": "python",
   "nbconvert_exporter": "python",
   "pygments_lexer": "ipython3",
   "version": "3.6.3"
  }
 },
 "nbformat": 4,
 "nbformat_minor": 2
}
