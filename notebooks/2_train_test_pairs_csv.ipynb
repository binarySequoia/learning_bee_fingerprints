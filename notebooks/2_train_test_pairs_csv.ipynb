{
 "cells": [
  {
   "cell_type": "code",
   "execution_count": 18,
   "metadata": {
    "collapsed": true
   },
   "outputs": [],
   "source": [
    "%matplotlib inline\n",
    "import numpy as np\n",
    "from skimage import io\n",
    "import pandas as pd\n",
    "import matplotlib.pyplot as plt\n",
    "from sklearn.utils import shuffle\n",
    "import os\n",
    "import json\n",
    "\n",
    "OUTPUT_DIR = '../datasets/dataset1/'\n",
    "PREPROCCESSED_DATA_DIR = '../datasets/dataset1/'"
   ]
  },
  {
   "cell_type": "code",
   "execution_count": 19,
   "metadata": {},
   "outputs": [],
   "source": [
    "def read_data_metadata(fn):\n",
    "    data = None\n",
    "    with open(fn, \"r\") as f:\n",
    "        data = json.load(f)\n",
    "    return data"
   ]
  },
  {
   "cell_type": "code",
   "execution_count": 20,
   "metadata": {
    "collapsed": true
   },
   "outputs": [],
   "source": [
    "def get_pairs(bee_list, path, y):\n",
    "    size = len(bee_list)\n",
    "    pairs = list()\n",
    "    for i in range(size):\n",
    "        for j in range(i+1, size):\n",
    "            X1 = os.path.join(path, bee_list[i])\n",
    "            X2 = os.path.join(path, bee_list[j])\n",
    "            pairs.append({'X1': X1, 'X2': X2, 'y':y})\n",
    "    return pairs\n",
    "            "
   ]
  },
  {
   "cell_type": "code",
   "execution_count": 21,
   "metadata": {
    "collapsed": true
   },
   "outputs": [],
   "source": [
    "def load_frame_data(path):\n",
    "    df = pd.DataFrame(columns=['X1', 'X2', 'y'])\n",
    "    frames = os.listdir(path)\n",
    "    \n",
    "    for fr in frames:\n",
    "        fr_path = os.path.join(path, fr)\n",
    "        frame_bees = os.listdir(fr_path)\n",
    "        pairs = get_pairs(frame_bees, fr_path, 1)\n",
    "        df = df.append(pairs, ignore_index=True)\n",
    "    return df\n",
    "    "
   ]
  },
  {
   "cell_type": "code",
   "execution_count": 22,
   "metadata": {},
   "outputs": [],
   "source": [
    "def load_track_data(path):\n",
    "    df = pd.DataFrame(columns=['X1', 'X2', 'y'])\n",
    "    tracks = os.listdir(path)\n",
    "    \n",
    "    for tr in tracks:\n",
    "        tr_path = os.path.join(path, tr)\n",
    "        track_bees = os.listdir(tr_path)\n",
    "        if(len(track_bees) < 2):\n",
    "            continue\n",
    "        pairs = get_pairs(track_bees, tr_path, 0)\n",
    "        df = df.append(pairs)\n",
    "    return df"
   ]
  },
  {
   "cell_type": "code",
   "execution_count": 23,
   "metadata": {
    "collapsed": true
   },
   "outputs": [],
   "source": [
    "def create_csv():\n",
    "    train_path = os.path.join(PREPROCCESSED_DATA_DIR, 'train_data')\n",
    "    train_frame_path = os.path.join(train_path, 'frame')\n",
    "    train_track_path = os.path.join(train_path, 'track')\n",
    "    \n",
    "    train_frame_df = load_frame_data(train_frame_path)\n",
    "    train_track_df = load_track_data(train_track_path)\n",
    "    train_df = train_frame_df.append(train_track_df, ignore_index=True)\n",
    "    \n",
    "    test_path = os.path.join(PREPROCCESSED_DATA_DIR, 'test_data')\n",
    "    test_frame_path = os.path.join(test_path, 'frame')\n",
    "    test_track_path = os.path.join( test_path, 'track')\n",
    "    \n",
    "    test_frame_df = load_frame_data(test_frame_path)\n",
    "    test_track_df = load_track_data(test_track_path)\n",
    "    test_df = test_frame_df.append(test_track_df, ignore_index=True)\n",
    "    \n",
    "    train_df = shuffle(train_df)\n",
    "    test_df = shuffle(test_df)\n",
    "    return train_df, test_df"
   ]
  },
  {
   "cell_type": "code",
   "execution_count": 24,
   "metadata": {},
   "outputs": [],
   "source": [
    "train_df, test_df = create_csv()"
   ]
  },
  {
   "cell_type": "code",
   "execution_count": 25,
   "metadata": {},
   "outputs": [
    {
     "data": {
      "text/html": [
       "<div>\n",
       "<style>\n",
       "    .dataframe thead tr:only-child th {\n",
       "        text-align: right;\n",
       "    }\n",
       "\n",
       "    .dataframe thead th {\n",
       "        text-align: left;\n",
       "    }\n",
       "\n",
       "    .dataframe tbody tr th {\n",
       "        vertical-align: top;\n",
       "    }\n",
       "</style>\n",
       "<table border=\"1\" class=\"dataframe\">\n",
       "  <thead>\n",
       "    <tr style=\"text-align: right;\">\n",
       "      <th></th>\n",
       "      <th>X1</th>\n",
       "      <th>X2</th>\n",
       "      <th>y</th>\n",
       "    </tr>\n",
       "  </thead>\n",
       "  <tbody>\n",
       "    <tr>\n",
       "      <th>13510</th>\n",
       "      <td>../datasets/dataset1/train_data/frame/0582/bee...</td>\n",
       "      <td>../datasets/dataset1/train_data/frame/0582/bee...</td>\n",
       "      <td>1</td>\n",
       "    </tr>\n",
       "    <tr>\n",
       "      <th>39159</th>\n",
       "      <td>../datasets/dataset1/train_data/track/0153/bee...</td>\n",
       "      <td>../datasets/dataset1/train_data/track/0153/bee...</td>\n",
       "      <td>0</td>\n",
       "    </tr>\n",
       "    <tr>\n",
       "      <th>41041</th>\n",
       "      <td>../datasets/dataset1/train_data/track/0147/bee...</td>\n",
       "      <td>../datasets/dataset1/train_data/track/0147/bee...</td>\n",
       "      <td>0</td>\n",
       "    </tr>\n",
       "    <tr>\n",
       "      <th>30285</th>\n",
       "      <td>../datasets/dataset1/train_data/track/0038/bee...</td>\n",
       "      <td>../datasets/dataset1/train_data/track/0038/bee...</td>\n",
       "      <td>0</td>\n",
       "    </tr>\n",
       "    <tr>\n",
       "      <th>44191</th>\n",
       "      <td>../datasets/dataset1/train_data/track/0071/bee...</td>\n",
       "      <td>../datasets/dataset1/train_data/track/0071/bee...</td>\n",
       "      <td>0</td>\n",
       "    </tr>\n",
       "  </tbody>\n",
       "</table>\n",
       "</div>"
      ],
      "text/plain": [
       "                                                      X1  \\\n",
       "13510  ../datasets/dataset1/train_data/frame/0582/bee...   \n",
       "39159  ../datasets/dataset1/train_data/track/0153/bee...   \n",
       "41041  ../datasets/dataset1/train_data/track/0147/bee...   \n",
       "30285  ../datasets/dataset1/train_data/track/0038/bee...   \n",
       "44191  ../datasets/dataset1/train_data/track/0071/bee...   \n",
       "\n",
       "                                                      X2  y  \n",
       "13510  ../datasets/dataset1/train_data/frame/0582/bee...  1  \n",
       "39159  ../datasets/dataset1/train_data/track/0153/bee...  0  \n",
       "41041  ../datasets/dataset1/train_data/track/0147/bee...  0  \n",
       "30285  ../datasets/dataset1/train_data/track/0038/bee...  0  \n",
       "44191  ../datasets/dataset1/train_data/track/0071/bee...  0  "
      ]
     },
     "execution_count": 25,
     "metadata": {},
     "output_type": "execute_result"
    }
   ],
   "source": [
    "train_df.head()"
   ]
  },
  {
   "cell_type": "code",
   "execution_count": 26,
   "metadata": {},
   "outputs": [
    {
     "data": {
      "text/plain": [
       "(21460, 25447)"
      ]
     },
     "execution_count": 26,
     "metadata": {},
     "output_type": "execute_result"
    }
   ],
   "source": [
    "train_df.y[train_df.y==1].size, train_df.y[train_df.y==0].size"
   ]
  },
  {
   "cell_type": "code",
   "execution_count": 27,
   "metadata": {},
   "outputs": [
    {
     "data": {
      "text/html": [
       "<div>\n",
       "<style>\n",
       "    .dataframe thead tr:only-child th {\n",
       "        text-align: right;\n",
       "    }\n",
       "\n",
       "    .dataframe thead th {\n",
       "        text-align: left;\n",
       "    }\n",
       "\n",
       "    .dataframe tbody tr th {\n",
       "        vertical-align: top;\n",
       "    }\n",
       "</style>\n",
       "<table border=\"1\" class=\"dataframe\">\n",
       "  <thead>\n",
       "    <tr style=\"text-align: right;\">\n",
       "      <th></th>\n",
       "      <th>X1</th>\n",
       "      <th>X2</th>\n",
       "      <th>y</th>\n",
       "    </tr>\n",
       "  </thead>\n",
       "  <tbody>\n",
       "    <tr>\n",
       "      <th>19339</th>\n",
       "      <td>../datasets/dataset1/test_data/track/0232/bee0...</td>\n",
       "      <td>../datasets/dataset1/test_data/track/0232/bee0...</td>\n",
       "      <td>0</td>\n",
       "    </tr>\n",
       "    <tr>\n",
       "      <th>17010</th>\n",
       "      <td>../datasets/dataset1/test_data/track/0261/bee0...</td>\n",
       "      <td>../datasets/dataset1/test_data/track/0261/bee0...</td>\n",
       "      <td>0</td>\n",
       "    </tr>\n",
       "    <tr>\n",
       "      <th>13273</th>\n",
       "      <td>../datasets/dataset1/test_data/track/0235/bee0...</td>\n",
       "      <td>../datasets/dataset1/test_data/track/0235/bee0...</td>\n",
       "      <td>0</td>\n",
       "    </tr>\n",
       "    <tr>\n",
       "      <th>6608</th>\n",
       "      <td>../datasets/dataset1/test_data/frame/0866/bee0...</td>\n",
       "      <td>../datasets/dataset1/test_data/frame/0866/bee0...</td>\n",
       "      <td>1</td>\n",
       "    </tr>\n",
       "    <tr>\n",
       "      <th>9932</th>\n",
       "      <td>../datasets/dataset1/test_data/frame/0803/bee0...</td>\n",
       "      <td>../datasets/dataset1/test_data/frame/0803/bee0...</td>\n",
       "      <td>1</td>\n",
       "    </tr>\n",
       "  </tbody>\n",
       "</table>\n",
       "</div>"
      ],
      "text/plain": [
       "                                                      X1  \\\n",
       "19339  ../datasets/dataset1/test_data/track/0232/bee0...   \n",
       "17010  ../datasets/dataset1/test_data/track/0261/bee0...   \n",
       "13273  ../datasets/dataset1/test_data/track/0235/bee0...   \n",
       "6608   ../datasets/dataset1/test_data/frame/0866/bee0...   \n",
       "9932   ../datasets/dataset1/test_data/frame/0803/bee0...   \n",
       "\n",
       "                                                      X2  y  \n",
       "19339  ../datasets/dataset1/test_data/track/0232/bee0...  0  \n",
       "17010  ../datasets/dataset1/test_data/track/0261/bee0...  0  \n",
       "13273  ../datasets/dataset1/test_data/track/0235/bee0...  0  \n",
       "6608   ../datasets/dataset1/test_data/frame/0866/bee0...  1  \n",
       "9932   ../datasets/dataset1/test_data/frame/0803/bee0...  1  "
      ]
     },
     "execution_count": 27,
     "metadata": {},
     "output_type": "execute_result"
    }
   ],
   "source": [
    "test_df.head()"
   ]
  },
  {
   "cell_type": "code",
   "execution_count": 28,
   "metadata": {},
   "outputs": [
    {
     "data": {
      "text/plain": [
       "(12737, 12042)"
      ]
     },
     "execution_count": 28,
     "metadata": {},
     "output_type": "execute_result"
    }
   ],
   "source": [
    "test_df.y[test_df.y==1].size, test_df.y[test_df.y==0].size"
   ]
  },
  {
   "cell_type": "code",
   "execution_count": 29,
   "metadata": {},
   "outputs": [],
   "source": [
    "train_df.to_csv(os.path.join(OUTPUT_DIR, \"train_pairs.csv\"))\n",
    "test_df.to_csv(os.path.join(OUTPUT_DIR, \"test_pairs.csv\"))"
   ]
  },
  {
   "cell_type": "code",
   "execution_count": 30,
   "metadata": {},
   "outputs": [],
   "source": [
    "meta = read_data_metadata(os.path.join(OUTPUT_DIR, \"metadata\"))"
   ]
  },
  {
   "cell_type": "code",
   "execution_count": 31,
   "metadata": {},
   "outputs": [],
   "source": [
    "meta[\"csv_metadata\"] = {\n",
    "    \"train_fn\" : \"train_pairs.csv\",\n",
    "    \"test_fn\" : \"test_pairs.csv\",\n",
    "    \"train_size\" :  len(train_df),\n",
    "    \"test_size\" : len(test_df),\n",
    "    \"class_info\" : {\n",
    "        \"train_not_same_class\" : train_df.y[train_df.y==1].size,\n",
    "        \"train_same_class\" : train_df.y[train_df.y==0].size,\n",
    "        \"test_not_same_class\" : test_df.y[test_df.y==1].size,\n",
    "        \"test_same_class\" : test_df.y[test_df.y==0].size,\n",
    "    }\n",
    "}"
   ]
  },
  {
   "cell_type": "code",
   "execution_count": 32,
   "metadata": {},
   "outputs": [],
   "source": [
    "with open(os.path.join(OUTPUT_DIR, \"metadata\"), \"w\") as f:\n",
    "    f.write(json.dumps(meta, indent=2))"
   ]
  },
  {
   "cell_type": "code",
   "execution_count": null,
   "metadata": {},
   "outputs": [],
   "source": []
  }
 ],
 "metadata": {
  "kernelspec": {
   "display_name": "Python 3",
   "language": "python",
   "name": "python3"
  },
  "language_info": {
   "codemirror_mode": {
    "name": "ipython",
    "version": 3
   },
   "file_extension": ".py",
   "mimetype": "text/x-python",
   "name": "python",
   "nbconvert_exporter": "python",
   "pygments_lexer": "ipython3",
   "version": "3.6.3"
  }
 },
 "nbformat": 4,
 "nbformat_minor": 2
}
