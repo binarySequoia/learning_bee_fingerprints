{
 "cells": [
  {
   "cell_type": "code",
   "execution_count": 1,
   "metadata": {
    "collapsed": true
   },
   "outputs": [],
   "source": [
    "%matplotlib inline\n",
    "import numpy as np\n",
    "from skimage import io\n",
    "import pandas as pd\n",
    "import matplotlib.pyplot as plt\n",
    "from sklearn.utils import shuffle\n",
    "import os\n",
    "import json\n",
    "\n",
    "import sys\n",
    "sys.path.append(\"../\")\n",
    "from utils.metadata import *\n",
    "\n",
    "OUTPUT_DIR = '../datasets/dataset1/'\n",
    "PREPROCCESSED_DATA_DIR = '../datasets/dataset1/'"
   ]
  },
  {
   "cell_type": "code",
   "execution_count": 2,
   "metadata": {
    "collapsed": true
   },
   "outputs": [],
   "source": [
    "def get_pairs(bee_list, path, y):\n",
    "    size = len(bee_list)\n",
    "    pairs = list()\n",
    "    for i in range(size):\n",
    "        for j in range(i+1, size):\n",
    "            X1 = os.path.join(path, bee_list[i])\n",
    "            X2 = os.path.join(path, bee_list[j])\n",
    "            pairs.append({'X1': X1, 'X2': X2, 'y':y})\n",
    "    return pairs\n",
    "            "
   ]
  },
  {
   "cell_type": "code",
   "execution_count": 3,
   "metadata": {
    "collapsed": true
   },
   "outputs": [],
   "source": [
    "def load_frame_data(path):\n",
    "    df = pd.DataFrame(columns=['X1', 'X2', 'y'])\n",
    "    frames = os.listdir(path)\n",
    "    \n",
    "    for fr in frames:\n",
    "        fr_path = os.path.join(path, fr)\n",
    "        frame_bees = os.listdir(fr_path)\n",
    "        pairs = get_pairs(frame_bees, fr_path, 1)\n",
    "        df = df.append(pairs, ignore_index=True)\n",
    "    return df\n",
    "    "
   ]
  },
  {
   "cell_type": "code",
   "execution_count": 4,
   "metadata": {},
   "outputs": [],
   "source": [
    "def load_track_data(path):\n",
    "    df = pd.DataFrame(columns=['X1', 'X2', 'y'])\n",
    "    tracks = os.listdir(path)\n",
    "    \n",
    "    for tr in tracks:\n",
    "        tr_path = os.path.join(path, tr)\n",
    "        track_bees = os.listdir(tr_path)\n",
    "        if(len(track_bees) < 2):\n",
    "            continue\n",
    "        pairs = get_pairs(track_bees, tr_path, 0)\n",
    "        df = df.append(pairs)\n",
    "    return df"
   ]
  },
  {
   "cell_type": "code",
   "execution_count": 5,
   "metadata": {
    "collapsed": true
   },
   "outputs": [],
   "source": [
    "def create_csv():\n",
    "    train_path = os.path.join(PREPROCCESSED_DATA_DIR, 'train_data')\n",
    "    train_frame_path = os.path.join(train_path, 'frame')\n",
    "    train_track_path = os.path.join(train_path, 'track')\n",
    "    \n",
    "    train_frame_df = load_frame_data(train_frame_path)\n",
    "    train_track_df = load_track_data(train_track_path)\n",
    "    train_df = train_frame_df.append(train_track_df, ignore_index=True)\n",
    "    \n",
    "    test_path = os.path.join(PREPROCCESSED_DATA_DIR, 'test_data')\n",
    "    test_frame_path = os.path.join(test_path, 'frame')\n",
    "    test_track_path = os.path.join( test_path, 'track')\n",
    "    \n",
    "    test_frame_df = load_frame_data(test_frame_path)\n",
    "    test_track_df = load_track_data(test_track_path)\n",
    "    test_df = test_frame_df.append(test_track_df, ignore_index=True)\n",
    "    \n",
    "    train_df = shuffle(train_df)\n",
    "    test_df = shuffle(test_df)\n",
    "    return train_df, test_df"
   ]
  },
  {
   "cell_type": "code",
   "execution_count": 6,
   "metadata": {},
   "outputs": [],
   "source": [
    "train_df, test_df = create_csv()"
   ]
  },
  {
   "cell_type": "code",
   "execution_count": 7,
   "metadata": {},
   "outputs": [
    {
     "data": {
      "text/html": [
       "<div>\n",
       "<style>\n",
       "    .dataframe thead tr:only-child th {\n",
       "        text-align: right;\n",
       "    }\n",
       "\n",
       "    .dataframe thead th {\n",
       "        text-align: left;\n",
       "    }\n",
       "\n",
       "    .dataframe tbody tr th {\n",
       "        vertical-align: top;\n",
       "    }\n",
       "</style>\n",
       "<table border=\"1\" class=\"dataframe\">\n",
       "  <thead>\n",
       "    <tr style=\"text-align: right;\">\n",
       "      <th></th>\n",
       "      <th>X1</th>\n",
       "      <th>X2</th>\n",
       "      <th>y</th>\n",
       "    </tr>\n",
       "  </thead>\n",
       "  <tbody>\n",
       "    <tr>\n",
       "      <th>39643</th>\n",
       "      <td>../datasets/dataset1/train_data/track/0133/bee...</td>\n",
       "      <td>../datasets/dataset1/train_data/track/0133/bee...</td>\n",
       "      <td>0</td>\n",
       "    </tr>\n",
       "    <tr>\n",
       "      <th>24899</th>\n",
       "      <td>../datasets/dataset1/train_data/track/0055/bee...</td>\n",
       "      <td>../datasets/dataset1/train_data/track/0055/bee...</td>\n",
       "      <td>0</td>\n",
       "    </tr>\n",
       "    <tr>\n",
       "      <th>34874</th>\n",
       "      <td>../datasets/dataset1/train_data/track/0053/bee...</td>\n",
       "      <td>../datasets/dataset1/train_data/track/0053/bee...</td>\n",
       "      <td>0</td>\n",
       "    </tr>\n",
       "    <tr>\n",
       "      <th>30967</th>\n",
       "      <td>../datasets/dataset1/train_data/track/0006/bee...</td>\n",
       "      <td>../datasets/dataset1/train_data/track/0006/bee...</td>\n",
       "      <td>0</td>\n",
       "    </tr>\n",
       "    <tr>\n",
       "      <th>13982</th>\n",
       "      <td>../datasets/dataset1/train_data/frame/0025/bee...</td>\n",
       "      <td>../datasets/dataset1/train_data/frame/0025/bee...</td>\n",
       "      <td>1</td>\n",
       "    </tr>\n",
       "  </tbody>\n",
       "</table>\n",
       "</div>"
      ],
      "text/plain": [
       "                                                      X1  \\\n",
       "39643  ../datasets/dataset1/train_data/track/0133/bee...   \n",
       "24899  ../datasets/dataset1/train_data/track/0055/bee...   \n",
       "34874  ../datasets/dataset1/train_data/track/0053/bee...   \n",
       "30967  ../datasets/dataset1/train_data/track/0006/bee...   \n",
       "13982  ../datasets/dataset1/train_data/frame/0025/bee...   \n",
       "\n",
       "                                                      X2  y  \n",
       "39643  ../datasets/dataset1/train_data/track/0133/bee...  0  \n",
       "24899  ../datasets/dataset1/train_data/track/0055/bee...  0  \n",
       "34874  ../datasets/dataset1/train_data/track/0053/bee...  0  \n",
       "30967  ../datasets/dataset1/train_data/track/0006/bee...  0  \n",
       "13982  ../datasets/dataset1/train_data/frame/0025/bee...  1  "
      ]
     },
     "execution_count": 7,
     "metadata": {},
     "output_type": "execute_result"
    }
   ],
   "source": [
    "train_df.head()"
   ]
  },
  {
   "cell_type": "code",
   "execution_count": 8,
   "metadata": {},
   "outputs": [
    {
     "data": {
      "text/plain": [
       "(21460, 25447)"
      ]
     },
     "execution_count": 8,
     "metadata": {},
     "output_type": "execute_result"
    }
   ],
   "source": [
    "train_df.y[train_df.y==1].size, train_df.y[train_df.y==0].size"
   ]
  },
  {
   "cell_type": "code",
   "execution_count": 9,
   "metadata": {},
   "outputs": [
    {
     "data": {
      "text/html": [
       "<div>\n",
       "<style>\n",
       "    .dataframe thead tr:only-child th {\n",
       "        text-align: right;\n",
       "    }\n",
       "\n",
       "    .dataframe thead th {\n",
       "        text-align: left;\n",
       "    }\n",
       "\n",
       "    .dataframe tbody tr th {\n",
       "        vertical-align: top;\n",
       "    }\n",
       "</style>\n",
       "<table border=\"1\" class=\"dataframe\">\n",
       "  <thead>\n",
       "    <tr style=\"text-align: right;\">\n",
       "      <th></th>\n",
       "      <th>X1</th>\n",
       "      <th>X2</th>\n",
       "      <th>y</th>\n",
       "    </tr>\n",
       "  </thead>\n",
       "  <tbody>\n",
       "    <tr>\n",
       "      <th>16580</th>\n",
       "      <td>../datasets/dataset1/test_data/track/0290/bee0...</td>\n",
       "      <td>../datasets/dataset1/test_data/track/0290/bee0...</td>\n",
       "      <td>0</td>\n",
       "    </tr>\n",
       "    <tr>\n",
       "      <th>20779</th>\n",
       "      <td>../datasets/dataset1/test_data/track/0238/bee0...</td>\n",
       "      <td>../datasets/dataset1/test_data/track/0238/bee0...</td>\n",
       "      <td>0</td>\n",
       "    </tr>\n",
       "    <tr>\n",
       "      <th>20238</th>\n",
       "      <td>../datasets/dataset1/test_data/track/0294/bee0...</td>\n",
       "      <td>../datasets/dataset1/test_data/track/0294/bee0...</td>\n",
       "      <td>0</td>\n",
       "    </tr>\n",
       "    <tr>\n",
       "      <th>6680</th>\n",
       "      <td>../datasets/dataset1/test_data/frame/0866/bee0...</td>\n",
       "      <td>../datasets/dataset1/test_data/frame/0866/bee0...</td>\n",
       "      <td>1</td>\n",
       "    </tr>\n",
       "    <tr>\n",
       "      <th>9825</th>\n",
       "      <td>../datasets/dataset1/test_data/frame/0853/bee0...</td>\n",
       "      <td>../datasets/dataset1/test_data/frame/0853/bee0...</td>\n",
       "      <td>1</td>\n",
       "    </tr>\n",
       "  </tbody>\n",
       "</table>\n",
       "</div>"
      ],
      "text/plain": [
       "                                                      X1  \\\n",
       "16580  ../datasets/dataset1/test_data/track/0290/bee0...   \n",
       "20779  ../datasets/dataset1/test_data/track/0238/bee0...   \n",
       "20238  ../datasets/dataset1/test_data/track/0294/bee0...   \n",
       "6680   ../datasets/dataset1/test_data/frame/0866/bee0...   \n",
       "9825   ../datasets/dataset1/test_data/frame/0853/bee0...   \n",
       "\n",
       "                                                      X2  y  \n",
       "16580  ../datasets/dataset1/test_data/track/0290/bee0...  0  \n",
       "20779  ../datasets/dataset1/test_data/track/0238/bee0...  0  \n",
       "20238  ../datasets/dataset1/test_data/track/0294/bee0...  0  \n",
       "6680   ../datasets/dataset1/test_data/frame/0866/bee0...  1  \n",
       "9825   ../datasets/dataset1/test_data/frame/0853/bee0...  1  "
      ]
     },
     "execution_count": 9,
     "metadata": {},
     "output_type": "execute_result"
    }
   ],
   "source": [
    "test_df.head()"
   ]
  },
  {
   "cell_type": "code",
   "execution_count": 10,
   "metadata": {},
   "outputs": [
    {
     "data": {
      "text/plain": [
       "(12737, 12042)"
      ]
     },
     "execution_count": 10,
     "metadata": {},
     "output_type": "execute_result"
    }
   ],
   "source": [
    "test_df.y[test_df.y==1].size, test_df.y[test_df.y==0].size"
   ]
  },
  {
   "cell_type": "code",
   "execution_count": 11,
   "metadata": {},
   "outputs": [],
   "source": [
    "train_df.to_csv(os.path.join(OUTPUT_DIR, \"train_pairs.csv\"))\n",
    "test_df.to_csv(os.path.join(OUTPUT_DIR, \"test_pairs.csv\"))"
   ]
  },
  {
   "cell_type": "code",
   "execution_count": 15,
   "metadata": {},
   "outputs": [],
   "source": [
    "meta = Metadata()\n",
    "meta.read_data_metadata(os.path.join(OUTPUT_DIR, \"metadata\"))"
   ]
  },
  {
   "cell_type": "code",
   "execution_count": 17,
   "metadata": {},
   "outputs": [
    {
     "data": {
      "text/plain": [
       "{'dataset_meta': {'info': {'test_frames': 'Test data frames was created by taking the frames after the first 800',\n",
       "   'test_track_count': 0,\n",
       "   'test_tracks': 'Test data tracks was created by taking the tracks after the first 800 frames, but each track need to be more than 25 frames long.',\n",
       "   'train_frames': 'Train data frames was created by taking the first 600 frames',\n",
       "   'train_track_count': 0,\n",
       "   'train_tracks': 'Train data tracks was created by taking the tracks in the first 600 frames, but each track need to be more than 25 frames long.'}},\n",
       " 'raw_data_meta': {'folder': 'raw_data/dataset1/',\n",
       "  'format': 'bee{id}--{frame}.jpg',\n",
       "  'frames_amount': 1000,\n",
       "  'id_amount': 304,\n",
       "  'images_amount': 9171,\n",
       "  'images_dim': [230, 105, 3],\n",
       "  'title': 'Dataset 1 Metadata file'}}"
      ]
     },
     "execution_count": 17,
     "metadata": {},
     "output_type": "execute_result"
    }
   ],
   "source": [
    "meta.metadata"
   ]
  },
  {
   "cell_type": "code",
   "execution_count": 18,
   "metadata": {},
   "outputs": [],
   "source": [
    "meta.add_metadata(\"csv_metadata\", {\n",
    "    \"train_fn\" : \"train_pairs.csv\",\n",
    "    \"test_fn\" : \"test_pairs.csv\",\n",
    "    \"train_size\" :  len(train_df),\n",
    "    \"test_size\" : len(test_df),\n",
    "    \"class_info\" : {\n",
    "        \"train_not_same_class\" : train_df.y[train_df.y==1].size,\n",
    "        \"train_same_class\" : train_df.y[train_df.y==0].size,\n",
    "        \"test_not_same_class\" : test_df.y[test_df.y==1].size,\n",
    "        \"test_same_class\" : test_df.y[test_df.y==0].size,\n",
    "    }\n",
    "})"
   ]
  },
  {
   "cell_type": "code",
   "execution_count": 19,
   "metadata": {},
   "outputs": [],
   "source": [
    "meta.save(os.path.join(OUTPUT_DIR, \"metadata\"))"
   ]
  },
  {
   "cell_type": "code",
   "execution_count": 20,
   "metadata": {},
   "outputs": [
    {
     "data": {
      "text/plain": [
       "{'csv_metadata': {'class_info': {'test_not_same_class': 12737,\n",
       "   'test_same_class': 12042,\n",
       "   'train_not_same_class': 21460,\n",
       "   'train_same_class': 25447},\n",
       "  'test_fn': 'test_pairs.csv',\n",
       "  'test_size': 24779,\n",
       "  'train_fn': 'train_pairs.csv',\n",
       "  'train_size': 46907},\n",
       " 'dataset_meta': {'info': {'test_frames': 'Test data frames was created by taking the frames after the first 800',\n",
       "   'test_track_count': 0,\n",
       "   'test_tracks': 'Test data tracks was created by taking the tracks after the first 800 frames, but each track need to be more than 25 frames long.',\n",
       "   'train_frames': 'Train data frames was created by taking the first 600 frames',\n",
       "   'train_track_count': 0,\n",
       "   'train_tracks': 'Train data tracks was created by taking the tracks in the first 600 frames, but each track need to be more than 25 frames long.'}},\n",
       " 'raw_data_meta': {'folder': 'raw_data/dataset1/',\n",
       "  'format': 'bee{id}--{frame}.jpg',\n",
       "  'frames_amount': 1000,\n",
       "  'id_amount': 304,\n",
       "  'images_amount': 9171,\n",
       "  'images_dim': [230, 105, 3],\n",
       "  'title': 'Dataset 1 Metadata file'}}"
      ]
     },
     "execution_count": 20,
     "metadata": {},
     "output_type": "execute_result"
    }
   ],
   "source": [
    "meta.metadata"
   ]
  },
  {
   "cell_type": "code",
   "execution_count": null,
   "metadata": {},
   "outputs": [],
   "source": []
  }
 ],
 "metadata": {
  "kernelspec": {
   "display_name": "Python 3",
   "language": "python",
   "name": "python3"
  },
  "language_info": {
   "codemirror_mode": {
    "name": "ipython",
    "version": 3
   },
   "file_extension": ".py",
   "mimetype": "text/x-python",
   "name": "python",
   "nbconvert_exporter": "python",
   "pygments_lexer": "ipython3",
   "version": "3.6.3"
  }
 },
 "nbformat": 4,
 "nbformat_minor": 2
}
