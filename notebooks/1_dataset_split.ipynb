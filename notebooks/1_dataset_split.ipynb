{
 "cells": [
  {
   "cell_type": "code",
   "execution_count": 59,
   "metadata": {
    "collapsed": true
   },
   "outputs": [],
   "source": [
    "%matplotlib inline\n",
    "import numpy as np\n",
    "from skimage import io\n",
    "import matplotlib.pyplot as plt\n",
    "import seaborn as sns\n",
    "import os\n",
    "import json"
   ]
  },
  {
   "cell_type": "code",
   "execution_count": 90,
   "metadata": {},
   "outputs": [],
   "source": [
    "IMG_DIR = '../raw_data/dataset1'\n",
    "DOCS_DIR = '../docs/exp2/'\n",
    "OUTPUT_DIR = '../datasets/dataset1'"
   ]
  },
  {
   "cell_type": "code",
   "execution_count": 93,
   "metadata": {},
   "outputs": [],
   "source": [
    "def read_raw_data_metadata(fn):\n",
    "    data = None\n",
    "    with open(fn, \"r\") as f:\n",
    "        data = json.load(f)\n",
    "    return data\n",
    "\n",
    "raw_data_meta = read_raw_data_metadata(\"../raw_data/dataset1/metadata\")"
   ]
  },
  {
   "cell_type": "code",
   "execution_count": 94,
   "metadata": {
    "collapsed": true
   },
   "outputs": [],
   "source": [
    "def get_frame_id(fname):\n",
    "    return fname.split(\"--\")[1].split('.')[0]\n",
    "\n",
    "def get_track_id(fname):\n",
    "    return fname.split(\"--\")[0].split('bee')[1]\n",
    "\n",
    "def get_name(fname):\n",
    "    return fname.split('/')[-1]"
   ]
  },
  {
   "cell_type": "code",
   "execution_count": 95,
   "metadata": {
    "collapsed": true
   },
   "outputs": [],
   "source": [
    "images = io.imread_collection(os.path.join(IMG_DIR, \"bee*\"))"
   ]
  },
  {
   "cell_type": "markdown",
   "metadata": {},
   "source": [
    "## Count Bees By Frames"
   ]
  },
  {
   "cell_type": "code",
   "execution_count": 96,
   "metadata": {
    "collapsed": true
   },
   "outputs": [],
   "source": [
    "bees_count_by_frame = dict()\n",
    "for fname in images.files:\n",
    "    frame = get_frame_id(fname)\n",
    "    if frame in bees_count_by_frame:\n",
    "        bees_count_by_frame[frame] += 1\n",
    "    else:\n",
    "        bees_count_by_frame[frame] = 1"
   ]
  },
  {
   "cell_type": "code",
   "execution_count": 97,
   "metadata": {
    "collapsed": true
   },
   "outputs": [],
   "source": [
    "frames_bee_count = list()\n",
    "for key, val in bees_count_by_frame.items():\n",
    "#     print(key, val)\n",
    "    frames_bee_count.append(val)\n",
    "frames_bee_count = np.array(frames_bee_count)"
   ]
  },
  {
   "cell_type": "code",
   "execution_count": 98,
   "metadata": {
    "collapsed": true
   },
   "outputs": [],
   "source": [
    "# sorted(bees_count_by_frame.keys())"
   ]
  },
  {
   "cell_type": "code",
   "execution_count": 99,
   "metadata": {
    "scrolled": true
   },
   "outputs": [
    {
     "data": {
      "image/png": "[encoded data removed]",
      "text/plain": [
       "<matplotlib.figure.Figure at 0x7f3a7f7410b8>"
      ]
     },
     "metadata": {},
     "output_type": "display_data"
    }
   ],
   "source": [
    "plt.hist(frames_bee_count, bins=10)\n",
    "plt.xticks(np.arange(20));\n",
    "plt.title(\"Histogram of bee counts per frame\");\n",
    "plt.savefig(os.path.join(DOCS_DIR, \"histogram_of_bee_counts_per_frame.png\"))"
   ]
  },
  {
   "cell_type": "markdown",
   "metadata": {},
   "source": [
    "## Count Bees by Tracks"
   ]
  },
  {
   "cell_type": "code",
   "execution_count": 100,
   "metadata": {
    "collapsed": true
   },
   "outputs": [],
   "source": [
    "bees_count_by_track = dict()\n",
    "for fname in images.files:\n",
    "    track = get_track_id(fname)\n",
    "    if track in bees_count_by_track:\n",
    "        bees_count_by_track[track] += 1\n",
    "    else:\n",
    "        bees_count_by_track[track] = 1"
   ]
  },
  {
   "cell_type": "code",
   "execution_count": 101,
   "metadata": {
    "collapsed": true
   },
   "outputs": [],
   "source": [
    "tracks_bee_count = list()\n",
    "for key, val in bees_count_by_track.items():\n",
    "#     print(key, val)\n",
    "    tracks_bee_count.append(val)\n",
    "tracks_bee_count = np.array(tracks_bee_count)"
   ]
  },
  {
   "cell_type": "code",
   "execution_count": 102,
   "metadata": {
    "collapsed": true
   },
   "outputs": [],
   "source": [
    "# sorted(bees_count_by_track.keys())"
   ]
  },
  {
   "cell_type": "code",
   "execution_count": 103,
   "metadata": {},
   "outputs": [
    {
     "data": {
      "image/png": "[encoded data removed]",
      "text/plain": [
       "<matplotlib.figure.Figure at 0x7f3a7f49ecf8>"
      ]
     },
     "metadata": {},
     "output_type": "display_data"
    }
   ],
   "source": [
    "plt.figure(figsize=(12, 8))\n",
    "plt.hist(tracks_bee_count, bins=600);\n",
    "plt.xticks(np.arange(0, 700, 50));\n",
    "plt.title(\"Histogram of track length per bee\");\n",
    "plt.savefig(os.path.join(DOCS_DIR, \"histogram_of_track_length_per_bee.png\"))"
   ]
  },
  {
   "cell_type": "code",
   "execution_count": 104,
   "metadata": {},
   "outputs": [
    {
     "data": {
      "image/png": "[encoded data removed]",
      "text/plain": [
       "<matplotlib.figure.Figure at 0x7f3a7ef3ccf8>"
      ]
     },
     "metadata": {},
     "output_type": "display_data"
    }
   ],
   "source": [
    "plt.figure(figsize=(12, 8))\n",
    "plt.hist(tracks_bee_count[tracks_bee_count < 100], bins=20);\n",
    "plt.xticks(np.arange(0, 100, 5));\n",
    "plt.title(\"Histogram of track length per bee [filtering posibles outliers]\");\n",
    "plt.savefig(os.path.join(DOCS_DIR, \"histogram_of_track_length_per_bee_filtered.png\"))"
   ]
  },
  {
   "cell_type": "code",
   "execution_count": 105,
   "metadata": {},
   "outputs": [
    {
     "data": {
      "text/plain": [
       "9169"
      ]
     },
     "execution_count": 105,
     "metadata": {},
     "output_type": "execute_result"
    }
   ],
   "source": [
    "images_size = len(images.files)\n",
    "images_size"
   ]
  },
  {
   "cell_type": "code",
   "execution_count": 106,
   "metadata": {},
   "outputs": [
    {
     "data": {
      "text/plain": [
       "7335"
      ]
     },
     "execution_count": 106,
     "metadata": {},
     "output_type": "execute_result"
    }
   ],
   "source": [
    "train_size = int(images_size * .8)\n",
    "train_size"
   ]
  },
  {
   "cell_type": "code",
   "execution_count": 107,
   "metadata": {},
   "outputs": [
    {
     "data": {
      "text/plain": [
       "1833"
      ]
     },
     "execution_count": 107,
     "metadata": {},
     "output_type": "execute_result"
    }
   ],
   "source": [
    "test_size = int(images_size * .2)\n",
    "test_size"
   ]
  },
  {
   "cell_type": "code",
   "execution_count": 108,
   "metadata": {},
   "outputs": [
    {
     "data": {
      "text/plain": [
       "9168"
      ]
     },
     "execution_count": 108,
     "metadata": {},
     "output_type": "execute_result"
    }
   ],
   "source": [
    "test_size + train_size"
   ]
  },
  {
   "cell_type": "markdown",
   "metadata": {},
   "source": [
    "## Store Train data by frame"
   ]
  },
  {
   "cell_type": "code",
   "execution_count": 109,
   "metadata": {
    "collapsed": true
   },
   "outputs": [],
   "source": [
    "train_data_path = os.path.join(OUTPUT_DIR, 'train_data')\n",
    "train_frame_data_path = os.path.join(OUTPUT_DIR, 'train_data', 'frame')\n",
    "train_track_data_path = os.path.join(OUTPUT_DIR, 'train_data', 'track')\n",
    "\n",
    "test_data_path = os.path.join(OUTPUT_DIR, 'test_data')\n",
    "test_frame_data_path = os.path.join(OUTPUT_DIR, 'test_data', 'frame')\n",
    "test_track_data_path = os.path.join(OUTPUT_DIR, 'test_data', 'track')\n",
    "\n",
    "if not os.path.isdir(OUTPUT_DIR):\n",
    "    os.mkdir(OUTPUT_DIR)\n",
    "\n",
    "\n",
    "if not os.path.isdir(train_data_path):\n",
    "    os.mkdir(train_data_path)\n",
    "if not os.path.isdir(train_frame_data_path):\n",
    "    os.mkdir(train_frame_data_path)\n",
    "if not os.path.isdir(train_track_data_path):\n",
    "    os.mkdir(train_track_data_path)\n",
    "\n",
    "if not os.path.isdir(test_data_path):\n",
    "    os.mkdir(test_data_path)\n",
    "if not os.path.isdir(test_frame_data_path):\n",
    "    os.mkdir(test_frame_data_path)\n",
    "if not os.path.isdir(test_track_data_path):\n",
    "    os.mkdir(test_track_data_path)\n"
   ]
  },
  {
   "cell_type": "code",
   "execution_count": 110,
   "metadata": {
    "collapsed": true
   },
   "outputs": [],
   "source": [
    "for img, fname in zip(images, images.files):\n",
    "    frame = get_frame_id(fname)\n",
    "    \n",
    "    if int(frame) > 600:\n",
    "        continue\n",
    "    \n",
    "    frame_path = os.path.join(train_frame_data_path , frame)\n",
    "    filepath = os.path.join(frame_path, get_name(fname))\n",
    "    if os.path.isdir(frame_path):\n",
    "        io.imsave(filepath, img)\n",
    "    else:\n",
    "        os.mkdir(frame_path)\n",
    "        io.imsave(filepath, img)\n",
    "       "
   ]
  },
  {
   "cell_type": "code",
   "execution_count": 111,
   "metadata": {},
   "outputs": [],
   "source": [
    "train_frame_info = \"Train data frames was created by taking the first 600 frames\""
   ]
  },
  {
   "cell_type": "markdown",
   "metadata": {},
   "source": [
    "## Store Train data by track"
   ]
  },
  {
   "cell_type": "code",
   "execution_count": 112,
   "metadata": {
    "collapsed": true
   },
   "outputs": [
    {
     "name": "stdout",
     "output_type": "stream",
     "text": [
      "../datasets/dataset1/train_data/track/0000\n",
      "../datasets/dataset1/train_data/track/0001\n",
      "../datasets/dataset1/train_data/track/0002\n",
      "../datasets/dataset1/train_data/track/0003\n",
      "../datasets/dataset1/train_data/track/0004\n",
      "../datasets/dataset1/train_data/track/0005\n",
      "../datasets/dataset1/train_data/track/0006\n",
      "../datasets/dataset1/train_data/track/0007\n",
      "../datasets/dataset1/train_data/track/0008\n",
      "../datasets/dataset1/train_data/track/0009\n",
      "../datasets/dataset1/train_data/track/0010\n",
      "../datasets/dataset1/train_data/track/0011\n",
      "../datasets/dataset1/train_data/track/0012\n",
      "../datasets/dataset1/train_data/track/0013\n",
      "../datasets/dataset1/train_data/track/0014\n",
      "../datasets/dataset1/train_data/track/0015\n",
      "../datasets/dataset1/train_data/track/0016\n",
      "../datasets/dataset1/train_data/track/0017\n",
      "../datasets/dataset1/train_data/track/0018\n",
      "../datasets/dataset1/train_data/track/0020\n",
      "../datasets/dataset1/train_data/track/0021\n",
      "../datasets/dataset1/train_data/track/0022\n",
      "../datasets/dataset1/train_data/track/0024\n",
      "../datasets/dataset1/train_data/track/0025\n",
      "../datasets/dataset1/train_data/track/0026\n",
      "../datasets/dataset1/train_data/track/0027\n",
      "../datasets/dataset1/train_data/track/0028\n",
      "../datasets/dataset1/train_data/track/0029\n",
      "../datasets/dataset1/train_data/track/0030\n",
      "../datasets/dataset1/train_data/track/0031\n",
      "../datasets/dataset1/train_data/track/0032\n",
      "../datasets/dataset1/train_data/track/0033\n",
      "../datasets/dataset1/train_data/track/0034\n",
      "../datasets/dataset1/train_data/track/0035\n",
      "../datasets/dataset1/train_data/track/0036\n",
      "../datasets/dataset1/train_data/track/0038\n",
      "../datasets/dataset1/train_data/track/0039\n",
      "../datasets/dataset1/train_data/track/0041\n",
      "../datasets/dataset1/train_data/track/0042\n",
      "../datasets/dataset1/train_data/track/0044\n",
      "../datasets/dataset1/train_data/track/0045\n",
      "../datasets/dataset1/train_data/track/0046\n",
      "../datasets/dataset1/train_data/track/0047\n",
      "../datasets/dataset1/train_data/track/0048\n",
      "../datasets/dataset1/train_data/track/0049\n",
      "../datasets/dataset1/train_data/track/0050\n",
      "../datasets/dataset1/train_data/track/0051\n",
      "../datasets/dataset1/train_data/track/0052\n",
      "../datasets/dataset1/train_data/track/0053\n",
      "../datasets/dataset1/train_data/track/0054\n",
      "../datasets/dataset1/train_data/track/0055\n",
      "../datasets/dataset1/train_data/track/0056\n",
      "../datasets/dataset1/train_data/track/0057\n",
      "../datasets/dataset1/train_data/track/0058\n",
      "../datasets/dataset1/train_data/track/0059\n",
      "../datasets/dataset1/train_data/track/0060\n",
      "../datasets/dataset1/train_data/track/0061\n",
      "../datasets/dataset1/train_data/track/0062\n",
      "../datasets/dataset1/train_data/track/0063\n",
      "../datasets/dataset1/train_data/track/0064\n",
      "../datasets/dataset1/train_data/track/0065\n",
      "../datasets/dataset1/train_data/track/0066\n",
      "../datasets/dataset1/train_data/track/0067\n",
      "../datasets/dataset1/train_data/track/0068\n",
      "../datasets/dataset1/train_data/track/0069\n",
      "../datasets/dataset1/train_data/track/0071\n",
      "../datasets/dataset1/train_data/track/0072\n",
      "../datasets/dataset1/train_data/track/0073\n",
      "../datasets/dataset1/train_data/track/0074\n",
      "../datasets/dataset1/train_data/track/0075\n",
      "../datasets/dataset1/train_data/track/0076\n",
      "../datasets/dataset1/train_data/track/0077\n",
      "../datasets/dataset1/train_data/track/0078\n",
      "../datasets/dataset1/train_data/track/0079\n",
      "../datasets/dataset1/train_data/track/0080\n",
      "../datasets/dataset1/train_data/track/0081\n",
      "../datasets/dataset1/train_data/track/0082\n",
      "../datasets/dataset1/train_data/track/0083\n",
      "../datasets/dataset1/train_data/track/0085\n",
      "../datasets/dataset1/train_data/track/0086\n",
      "../datasets/dataset1/train_data/track/0087\n",
      "../datasets/dataset1/train_data/track/0088\n",
      "../datasets/dataset1/train_data/track/0089\n",
      "../datasets/dataset1/train_data/track/0091\n",
      "../datasets/dataset1/train_data/track/0092\n",
      "../datasets/dataset1/train_data/track/0093\n",
      "../datasets/dataset1/train_data/track/0095\n",
      "../datasets/dataset1/train_data/track/0096\n",
      "../datasets/dataset1/train_data/track/0099\n",
      "../datasets/dataset1/train_data/track/0100\n",
      "../datasets/dataset1/train_data/track/0101\n",
      "../datasets/dataset1/train_data/track/0102\n",
      "../datasets/dataset1/train_data/track/0103\n",
      "../datasets/dataset1/train_data/track/0104\n",
      "../datasets/dataset1/train_data/track/0105\n",
      "../datasets/dataset1/train_data/track/0106\n",
      "../datasets/dataset1/train_data/track/0107\n",
      "../datasets/dataset1/train_data/track/0108\n",
      "../datasets/dataset1/train_data/track/0111\n",
      "../datasets/dataset1/train_data/track/0112\n",
      "../datasets/dataset1/train_data/track/0113\n",
      "../datasets/dataset1/train_data/track/0114\n",
      "../datasets/dataset1/train_data/track/0115\n",
      "../datasets/dataset1/train_data/track/0116\n",
      "../datasets/dataset1/train_data/track/0117\n",
      "../datasets/dataset1/train_data/track/0118\n",
      "../datasets/dataset1/train_data/track/0119\n",
      "../datasets/dataset1/train_data/track/0121\n",
      "../datasets/dataset1/train_data/track/0122\n",
      "../datasets/dataset1/train_data/track/0124\n",
      "../datasets/dataset1/train_data/track/0125\n",
      "../datasets/dataset1/train_data/track/0126\n",
      "../datasets/dataset1/train_data/track/0127\n",
      "../datasets/dataset1/train_data/track/0129\n",
      "../datasets/dataset1/train_data/track/0130\n",
      "../datasets/dataset1/train_data/track/0131\n",
      "../datasets/dataset1/train_data/track/0133\n",
      "../datasets/dataset1/train_data/track/0135\n",
      "../datasets/dataset1/train_data/track/0136\n",
      "../datasets/dataset1/train_data/track/0137\n",
      "../datasets/dataset1/train_data/track/0138\n",
      "../datasets/dataset1/train_data/track/0140\n",
      "../datasets/dataset1/train_data/track/0141\n",
      "../datasets/dataset1/train_data/track/0142\n",
      "../datasets/dataset1/train_data/track/0144\n",
      "../datasets/dataset1/train_data/track/0145\n",
      "../datasets/dataset1/train_data/track/0146\n",
      "../datasets/dataset1/train_data/track/0147\n",
      "../datasets/dataset1/train_data/track/0148\n",
      "../datasets/dataset1/train_data/track/0149\n",
      "../datasets/dataset1/train_data/track/0150\n",
      "../datasets/dataset1/train_data/track/0151\n",
      "../datasets/dataset1/train_data/track/0152\n",
      "../datasets/dataset1/train_data/track/0153\n",
      "../datasets/dataset1/train_data/track/0154\n",
      "../datasets/dataset1/train_data/track/0156\n",
      "../datasets/dataset1/train_data/track/0157\n",
      "../datasets/dataset1/train_data/track/0158\n",
      "../datasets/dataset1/train_data/track/0159\n",
      "../datasets/dataset1/train_data/track/0160\n",
      "../datasets/dataset1/train_data/track/0161\n",
      "../datasets/dataset1/train_data/track/0162\n",
      "../datasets/dataset1/train_data/track/0163\n",
      "../datasets/dataset1/train_data/track/0164\n",
      "../datasets/dataset1/train_data/track/0165\n",
      "../datasets/dataset1/train_data/track/0166\n",
      "../datasets/dataset1/train_data/track/0168\n",
      "../datasets/dataset1/train_data/track/0169\n",
      "../datasets/dataset1/train_data/track/0170\n",
      "../datasets/dataset1/train_data/track/0171\n",
      "../datasets/dataset1/train_data/track/0172\n",
      "../datasets/dataset1/train_data/track/0173\n",
      "../datasets/dataset1/train_data/track/0174\n",
      "../datasets/dataset1/train_data/track/0175\n",
      "../datasets/dataset1/train_data/track/0176\n",
      "../datasets/dataset1/train_data/track/0177\n",
      "../datasets/dataset1/train_data/track/0179\n",
      "../datasets/dataset1/train_data/track/0180\n",
      "../datasets/dataset1/train_data/track/0181\n",
      "../datasets/dataset1/train_data/track/0182\n"
     ]
    }
   ],
   "source": [
    "TRACK_COUNTS = 0\n",
    "for img, fname in zip(images, images.files):\n",
    "    frame = get_frame_id(fname)\n",
    "    track = get_track_id(fname)\n",
    "    \n",
    "    if int(frame) > 600:\n",
    "        continue\n",
    "    \n",
    "    track_path = os.path.join(train_track_data_path , track)\n",
    "    filepath = os.path.join(track_path, get_name(fname))\n",
    "    \n",
    "    \n",
    "    if os.path.isdir(track_path):\n",
    "        if len(os.listdir(track_path)) > 25:\n",
    "            continue\n",
    "        io.imsave(filepath, img)\n",
    "    else:\n",
    "        os.mkdir(track_path)\n",
    "        TRACK_COUNTS += 1\n",
    "        print(track_path)\n",
    "        io.imsave(filepath, img)\n",
    "       "
   ]
  },
  {
   "cell_type": "code",
   "execution_count": 113,
   "metadata": {},
   "outputs": [],
   "source": [
    "train_tracks_info = \"Train data tracks was created by taking the tracks in the first 600 frames, but each track need to be more than 25 frames long.\"\n",
    "train_tracks_count = TRACK_COUNTS"
   ]
  },
  {
   "cell_type": "markdown",
   "metadata": {},
   "source": [
    "## Store Test data by frame"
   ]
  },
  {
   "cell_type": "code",
   "execution_count": 114,
   "metadata": {
    "collapsed": true
   },
   "outputs": [],
   "source": [
    "for img, fname in zip(images, images.files):\n",
    "    frame = get_frame_id(fname)\n",
    "    \n",
    "    if int(frame) < 800:\n",
    "        continue\n",
    "    \n",
    "    frame_path = os.path.join(test_frame_data_path , frame)\n",
    "    filepath = os.path.join(frame_path, get_name(fname))\n",
    "    if os.path.isdir(frame_path):\n",
    "        io.imsave(filepath, img)\n",
    "    else:\n",
    "        os.mkdir(frame_path)\n",
    "        io.imsave(filepath, img)\n",
    "       "
   ]
  },
  {
   "cell_type": "code",
   "execution_count": 115,
   "metadata": {},
   "outputs": [],
   "source": [
    "test_frame_info = \"Test data frames was created by taking the frames after the first 800\""
   ]
  },
  {
   "cell_type": "markdown",
   "metadata": {},
   "source": [
    "## Store Test data by track"
   ]
  },
  {
   "cell_type": "code",
   "execution_count": 116,
   "metadata": {
    "collapsed": true
   },
   "outputs": [],
   "source": [
    "TRACK_COUNTS_T = 0\n",
    "for img, fname in zip(images, images.files):\n",
    "    frame = get_frame_id(fname)\n",
    "    track = get_track_id(fname)\n",
    "    \n",
    "    if int(frame) < 800:\n",
    "        continue\n",
    "    \n",
    "    track_path = os.path.join(test_track_data_path , track)\n",
    "    filepath = os.path.join(track_path, get_name(fname))\n",
    "    \n",
    "    \n",
    "    if os.path.isdir(track_path):\n",
    "        if len(os.listdir(track_path)) > 25:\n",
    "            continue\n",
    "        io.imsave(filepath, img)\n",
    "    else:\n",
    "        os.mkdir(track_path)\n",
    "        TRACK_COUNTS_T += 1\n",
    "        io.imsave(filepath, img)\n",
    "       "
   ]
  },
  {
   "cell_type": "code",
   "execution_count": 117,
   "metadata": {},
   "outputs": [],
   "source": [
    "test_tracks_info = \"Test data tracks was created by taking the tracks after the first 800 frames, but each track need to be more than 25 frames long.\"\n",
    "test_tracks_count = TRACK_COUNTS_T"
   ]
  },
  {
   "cell_type": "code",
   "execution_count": 118,
   "metadata": {},
   "outputs": [],
   "source": [
    "dataset_meta = {\n",
    "    \"raw_data_meta\" : raw_data_meta,\n",
    "    \"dataset_meta\": { \n",
    "        \"info\" :  {\n",
    "            \"train_frames\" : train_frame_info,\n",
    "            \"train_tracks\" : train_tracks_info,\n",
    "            \"train_track_count\" : train_tracks_count,\n",
    "            \"test_frames\" : test_frame_info,\n",
    "            \"test_tracks\" : test_tracks_info,\n",
    "            \"test_track_count\" : test_tracks_count,\n",
    "        }\n",
    "    },\n",
    "}"
   ]
  },
  {
   "cell_type": "code",
   "execution_count": 119,
   "metadata": {},
   "outputs": [
    {
     "data": {
      "text/plain": [
       "{'dataset_meta': {'info': {'test_frames': 'Test data frames was created by taking the frames after the first 800',\n",
       "   'test_track_count': 69,\n",
       "   'test_tracks': 'Test data tracks was created by taking the tracks after the first 800 frames, but each track need to be more than 25 frames long.',\n",
       "   'train_frames': 'Train data frames was created by taking the first 600 frames',\n",
       "   'train_track_count': 160,\n",
       "   'train_tracks': 'Train data tracks was created by taking the tracks in the first 600 frames, but each track need to be more than 25 frames long.'}},\n",
       " 'raw_data_meta': {'folder': 'raw_data/dataset1/',\n",
       "  'format': 'bee{id}--{frame}.jpg',\n",
       "  'frames_amount': 1000,\n",
       "  'id_amount': 304,\n",
       "  'images_amount': 9171,\n",
       "  'images_dim': [230, 105, 3],\n",
       "  'title': 'Dataset 1 Metadata file'}}"
      ]
     },
     "execution_count": 119,
     "metadata": {},
     "output_type": "execute_result"
    }
   ],
   "source": [
    "dataset_meta"
   ]
  },
  {
   "cell_type": "code",
   "execution_count": 120,
   "metadata": {},
   "outputs": [],
   "source": [
    "with open(os.path.join(OUTPUT_DIR, \"metadata\"), \"w\") as f:\n",
    "    f.write(json.dumps(dataset_meta, indent=2))"
   ]
  },
  {
   "cell_type": "code",
   "execution_count": null,
   "metadata": {},
   "outputs": [],
   "source": []
  }
 ],
 "metadata": {
  "kernelspec": {
   "display_name": "Python 3",
   "language": "python",
   "name": "python3"
  },
  "language_info": {
   "codemirror_mode": {
    "name": "ipython",
    "version": 3
   },
   "file_extension": ".py",
   "mimetype": "text/x-python",
   "name": "python",
   "nbconvert_exporter": "python",
   "pygments_lexer": "ipython3",
   "version": "3.6.3"
  }
 },
 "nbformat": 4,
 "nbformat_minor": 2
}
