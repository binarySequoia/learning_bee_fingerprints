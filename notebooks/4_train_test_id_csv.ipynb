{
 "cells": [
  {
   "cell_type": "code",
   "execution_count": 1,
   "metadata": {
    "collapsed": true
   },
   "outputs": [],
   "source": [
    "%matplotlib inline\n",
    "import numpy as np\n",
    "from skimage import io\n",
    "import pandas as pd\n",
    "import matplotlib.pyplot as plt\n",
    "from sklearn.utils import shuffle\n",
    "import os\n",
    "\n",
    "OUTPUT_DIR = '../data/csv/'\n",
    "PREPROCCESSED_DATA_DIR = '../data/preprocess_data'"
   ]
  },
  {
   "cell_type": "code",
   "execution_count": 2,
   "metadata": {
    "collapsed": true
   },
   "outputs": [],
   "source": [
    "def get_frame_id(fname):\n",
    "    return fname.split(\"--\")[1].split('.')[0]\n",
    "\n",
    "def get_track_id(fname):\n",
    "    return fname.split(\"--\")[0].split('bee')[1]"
   ]
  },
  {
   "cell_type": "code",
   "execution_count": 3,
   "metadata": {},
   "outputs": [],
   "source": [
    "train_path = os.path.join(PREPROCCESSED_DATA_DIR, 'train_data', 'id')\n",
    "train_files = os.listdir(train_path)\n",
    "\n",
    "test_path = os.path.join(PREPROCCESSED_DATA_DIR, 'test_data', 'id')\n",
    "test_files = os.listdir(test_path)"
   ]
  },
  {
   "cell_type": "code",
   "execution_count": 4,
   "metadata": {},
   "outputs": [],
   "source": [
    "# train_files"
   ]
  },
  {
   "cell_type": "code",
   "execution_count": 5,
   "metadata": {},
   "outputs": [],
   "source": [
    "# test_files"
   ]
  },
  {
   "cell_type": "code",
   "execution_count": 6,
   "metadata": {},
   "outputs": [],
   "source": [
    "ids = [get_track_id(i) for i in train_files]\n",
    "ids = list(np.unique(ids))"
   ]
  },
  {
   "cell_type": "code",
   "execution_count": 7,
   "metadata": {},
   "outputs": [
    {
     "data": {
      "text/plain": [
       "['0196', '0226', '0235', '0240', '0248']"
      ]
     },
     "execution_count": 7,
     "metadata": {},
     "output_type": "execute_result"
    }
   ],
   "source": [
    "ids"
   ]
  },
  {
   "cell_type": "code",
   "execution_count": 8,
   "metadata": {
    "collapsed": true
   },
   "outputs": [],
   "source": [
    "train_ids = list()\n",
    "\n",
    "for fname in train_files:\n",
    "    train_ids.append(ids.index(get_track_id(fname)))"
   ]
  },
  {
   "cell_type": "code",
   "execution_count": 9,
   "metadata": {},
   "outputs": [],
   "source": [
    "# train_ids"
   ]
  },
  {
   "cell_type": "code",
   "execution_count": 10,
   "metadata": {
    "collapsed": true
   },
   "outputs": [],
   "source": [
    "test_ids = list()\n",
    "\n",
    "for fname in test_files:\n",
    "    test_ids.append(ids.index(get_track_id(fname)))"
   ]
  },
  {
   "cell_type": "code",
   "execution_count": 11,
   "metadata": {},
   "outputs": [],
   "source": [
    "# test_ids"
   ]
  },
  {
   "cell_type": "code",
   "execution_count": 12,
   "metadata": {
    "collapsed": true
   },
   "outputs": [],
   "source": [
    "train_files = [os.path.join(train_path, fname) for fname in train_files]"
   ]
  },
  {
   "cell_type": "code",
   "execution_count": 13,
   "metadata": {},
   "outputs": [],
   "source": [
    "# train_files"
   ]
  },
  {
   "cell_type": "code",
   "execution_count": 14,
   "metadata": {
    "collapsed": true
   },
   "outputs": [],
   "source": [
    "test_files = [os.path.join(test_path, fname) for fname in test_files]"
   ]
  },
  {
   "cell_type": "code",
   "execution_count": 15,
   "metadata": {},
   "outputs": [],
   "source": [
    "# test_files"
   ]
  },
  {
   "cell_type": "code",
   "execution_count": 16,
   "metadata": {
    "collapsed": true
   },
   "outputs": [],
   "source": [
    "train_df_dict = {'X_train': train_files, 'y':train_ids}\n",
    "train_df = pd.DataFrame(train_df_dict)"
   ]
  },
  {
   "cell_type": "code",
   "execution_count": 17,
   "metadata": {
    "collapsed": true
   },
   "outputs": [],
   "source": [
    "train_df.to_csv(os.path.join(OUTPUT_DIR, 'train_id.csv'), index=False)"
   ]
  },
  {
   "cell_type": "code",
   "execution_count": 18,
   "metadata": {},
   "outputs": [],
   "source": [
    "# train_df"
   ]
  },
  {
   "cell_type": "code",
   "execution_count": 19,
   "metadata": {
    "collapsed": true
   },
   "outputs": [],
   "source": [
    "test_df_dict = {'X_test': test_files, 'y':test_ids}\n",
    "test_df = pd.DataFrame(test_df_dict)"
   ]
  },
  {
   "cell_type": "code",
   "execution_count": 20,
   "metadata": {
    "collapsed": true
   },
   "outputs": [],
   "source": [
    "test_df.to_csv(os.path.join(OUTPUT_DIR, 'test_id.csv'), index=False)"
   ]
  },
  {
   "cell_type": "code",
   "execution_count": 21,
   "metadata": {},
   "outputs": [
    {
     "data": {
      "text/html": [
       "<div>\n",
       "<style>\n",
       "    .dataframe thead tr:only-child th {\n",
       "        text-align: right;\n",
       "    }\n",
       "\n",
       "    .dataframe thead th {\n",
       "        text-align: left;\n",
       "    }\n",
       "\n",
       "    .dataframe tbody tr th {\n",
       "        vertical-align: top;\n",
       "    }\n",
       "</style>\n",
       "<table border=\"1\" class=\"dataframe\">\n",
       "  <thead>\n",
       "    <tr style=\"text-align: right;\">\n",
       "      <th></th>\n",
       "      <th>X_test</th>\n",
       "      <th>y</th>\n",
       "    </tr>\n",
       "  </thead>\n",
       "  <tbody>\n",
       "    <tr>\n",
       "      <th>0</th>\n",
       "      <td>../data/preprocess_data/test_data/id/bee0196--...</td>\n",
       "      <td>0</td>\n",
       "    </tr>\n",
       "    <tr>\n",
       "      <th>1</th>\n",
       "      <td>../data/preprocess_data/test_data/id/bee0248--...</td>\n",
       "      <td>4</td>\n",
       "    </tr>\n",
       "    <tr>\n",
       "      <th>2</th>\n",
       "      <td>../data/preprocess_data/test_data/id/bee0196--...</td>\n",
       "      <td>0</td>\n",
       "    </tr>\n",
       "    <tr>\n",
       "      <th>3</th>\n",
       "      <td>../data/preprocess_data/test_data/id/bee0226--...</td>\n",
       "      <td>1</td>\n",
       "    </tr>\n",
       "    <tr>\n",
       "      <th>4</th>\n",
       "      <td>../data/preprocess_data/test_data/id/bee0196--...</td>\n",
       "      <td>0</td>\n",
       "    </tr>\n",
       "    <tr>\n",
       "      <th>5</th>\n",
       "      <td>../data/preprocess_data/test_data/id/bee0235--...</td>\n",
       "      <td>2</td>\n",
       "    </tr>\n",
       "    <tr>\n",
       "      <th>6</th>\n",
       "      <td>../data/preprocess_data/test_data/id/bee0240--...</td>\n",
       "      <td>3</td>\n",
       "    </tr>\n",
       "    <tr>\n",
       "      <th>7</th>\n",
       "      <td>../data/preprocess_data/test_data/id/bee0196--...</td>\n",
       "      <td>0</td>\n",
       "    </tr>\n",
       "    <tr>\n",
       "      <th>8</th>\n",
       "      <td>../data/preprocess_data/test_data/id/bee0235--...</td>\n",
       "      <td>2</td>\n",
       "    </tr>\n",
       "    <tr>\n",
       "      <th>9</th>\n",
       "      <td>../data/preprocess_data/test_data/id/bee0226--...</td>\n",
       "      <td>1</td>\n",
       "    </tr>\n",
       "    <tr>\n",
       "      <th>10</th>\n",
       "      <td>../data/preprocess_data/test_data/id/bee0248--...</td>\n",
       "      <td>4</td>\n",
       "    </tr>\n",
       "    <tr>\n",
       "      <th>11</th>\n",
       "      <td>../data/preprocess_data/test_data/id/bee0240--...</td>\n",
       "      <td>3</td>\n",
       "    </tr>\n",
       "    <tr>\n",
       "      <th>12</th>\n",
       "      <td>../data/preprocess_data/test_data/id/bee0235--...</td>\n",
       "      <td>2</td>\n",
       "    </tr>\n",
       "    <tr>\n",
       "      <th>13</th>\n",
       "      <td>../data/preprocess_data/test_data/id/bee0248--...</td>\n",
       "      <td>4</td>\n",
       "    </tr>\n",
       "    <tr>\n",
       "      <th>14</th>\n",
       "      <td>../data/preprocess_data/test_data/id/bee0240--...</td>\n",
       "      <td>3</td>\n",
       "    </tr>\n",
       "    <tr>\n",
       "      <th>15</th>\n",
       "      <td>../data/preprocess_data/test_data/id/bee0226--...</td>\n",
       "      <td>1</td>\n",
       "    </tr>\n",
       "    <tr>\n",
       "      <th>16</th>\n",
       "      <td>../data/preprocess_data/test_data/id/bee0196--...</td>\n",
       "      <td>0</td>\n",
       "    </tr>\n",
       "    <tr>\n",
       "      <th>17</th>\n",
       "      <td>../data/preprocess_data/test_data/id/bee0240--...</td>\n",
       "      <td>3</td>\n",
       "    </tr>\n",
       "    <tr>\n",
       "      <th>18</th>\n",
       "      <td>../data/preprocess_data/test_data/id/bee0248--...</td>\n",
       "      <td>4</td>\n",
       "    </tr>\n",
       "    <tr>\n",
       "      <th>19</th>\n",
       "      <td>../data/preprocess_data/test_data/id/bee0248--...</td>\n",
       "      <td>4</td>\n",
       "    </tr>\n",
       "    <tr>\n",
       "      <th>20</th>\n",
       "      <td>../data/preprocess_data/test_data/id/bee0248--...</td>\n",
       "      <td>4</td>\n",
       "    </tr>\n",
       "    <tr>\n",
       "      <th>21</th>\n",
       "      <td>../data/preprocess_data/test_data/id/bee0240--...</td>\n",
       "      <td>3</td>\n",
       "    </tr>\n",
       "    <tr>\n",
       "      <th>22</th>\n",
       "      <td>../data/preprocess_data/test_data/id/bee0248--...</td>\n",
       "      <td>4</td>\n",
       "    </tr>\n",
       "    <tr>\n",
       "      <th>23</th>\n",
       "      <td>../data/preprocess_data/test_data/id/bee0196--...</td>\n",
       "      <td>0</td>\n",
       "    </tr>\n",
       "    <tr>\n",
       "      <th>24</th>\n",
       "      <td>../data/preprocess_data/test_data/id/bee0235--...</td>\n",
       "      <td>2</td>\n",
       "    </tr>\n",
       "    <tr>\n",
       "      <th>25</th>\n",
       "      <td>../data/preprocess_data/test_data/id/bee0196--...</td>\n",
       "      <td>0</td>\n",
       "    </tr>\n",
       "    <tr>\n",
       "      <th>26</th>\n",
       "      <td>../data/preprocess_data/test_data/id/bee0240--...</td>\n",
       "      <td>3</td>\n",
       "    </tr>\n",
       "    <tr>\n",
       "      <th>27</th>\n",
       "      <td>../data/preprocess_data/test_data/id/bee0226--...</td>\n",
       "      <td>1</td>\n",
       "    </tr>\n",
       "    <tr>\n",
       "      <th>28</th>\n",
       "      <td>../data/preprocess_data/test_data/id/bee0248--...</td>\n",
       "      <td>4</td>\n",
       "    </tr>\n",
       "    <tr>\n",
       "      <th>29</th>\n",
       "      <td>../data/preprocess_data/test_data/id/bee0226--...</td>\n",
       "      <td>1</td>\n",
       "    </tr>\n",
       "    <tr>\n",
       "      <th>...</th>\n",
       "      <td>...</td>\n",
       "      <td>...</td>\n",
       "    </tr>\n",
       "    <tr>\n",
       "      <th>70</th>\n",
       "      <td>../data/preprocess_data/test_data/id/bee0226--...</td>\n",
       "      <td>1</td>\n",
       "    </tr>\n",
       "    <tr>\n",
       "      <th>71</th>\n",
       "      <td>../data/preprocess_data/test_data/id/bee0226--...</td>\n",
       "      <td>1</td>\n",
       "    </tr>\n",
       "    <tr>\n",
       "      <th>72</th>\n",
       "      <td>../data/preprocess_data/test_data/id/bee0240--...</td>\n",
       "      <td>3</td>\n",
       "    </tr>\n",
       "    <tr>\n",
       "      <th>73</th>\n",
       "      <td>../data/preprocess_data/test_data/id/bee0248--...</td>\n",
       "      <td>4</td>\n",
       "    </tr>\n",
       "    <tr>\n",
       "      <th>74</th>\n",
       "      <td>../data/preprocess_data/test_data/id/bee0235--...</td>\n",
       "      <td>2</td>\n",
       "    </tr>\n",
       "    <tr>\n",
       "      <th>75</th>\n",
       "      <td>../data/preprocess_data/test_data/id/bee0240--...</td>\n",
       "      <td>3</td>\n",
       "    </tr>\n",
       "    <tr>\n",
       "      <th>76</th>\n",
       "      <td>../data/preprocess_data/test_data/id/bee0240--...</td>\n",
       "      <td>3</td>\n",
       "    </tr>\n",
       "    <tr>\n",
       "      <th>77</th>\n",
       "      <td>../data/preprocess_data/test_data/id/bee0196--...</td>\n",
       "      <td>0</td>\n",
       "    </tr>\n",
       "    <tr>\n",
       "      <th>78</th>\n",
       "      <td>../data/preprocess_data/test_data/id/bee0226--...</td>\n",
       "      <td>1</td>\n",
       "    </tr>\n",
       "    <tr>\n",
       "      <th>79</th>\n",
       "      <td>../data/preprocess_data/test_data/id/bee0240--...</td>\n",
       "      <td>3</td>\n",
       "    </tr>\n",
       "    <tr>\n",
       "      <th>80</th>\n",
       "      <td>../data/preprocess_data/test_data/id/bee0196--...</td>\n",
       "      <td>0</td>\n",
       "    </tr>\n",
       "    <tr>\n",
       "      <th>81</th>\n",
       "      <td>../data/preprocess_data/test_data/id/bee0248--...</td>\n",
       "      <td>4</td>\n",
       "    </tr>\n",
       "    <tr>\n",
       "      <th>82</th>\n",
       "      <td>../data/preprocess_data/test_data/id/bee0235--...</td>\n",
       "      <td>2</td>\n",
       "    </tr>\n",
       "    <tr>\n",
       "      <th>83</th>\n",
       "      <td>../data/preprocess_data/test_data/id/bee0248--...</td>\n",
       "      <td>4</td>\n",
       "    </tr>\n",
       "    <tr>\n",
       "      <th>84</th>\n",
       "      <td>../data/preprocess_data/test_data/id/bee0226--...</td>\n",
       "      <td>1</td>\n",
       "    </tr>\n",
       "    <tr>\n",
       "      <th>85</th>\n",
       "      <td>../data/preprocess_data/test_data/id/bee0248--...</td>\n",
       "      <td>4</td>\n",
       "    </tr>\n",
       "    <tr>\n",
       "      <th>86</th>\n",
       "      <td>../data/preprocess_data/test_data/id/bee0235--...</td>\n",
       "      <td>2</td>\n",
       "    </tr>\n",
       "    <tr>\n",
       "      <th>87</th>\n",
       "      <td>../data/preprocess_data/test_data/id/bee0235--...</td>\n",
       "      <td>2</td>\n",
       "    </tr>\n",
       "    <tr>\n",
       "      <th>88</th>\n",
       "      <td>../data/preprocess_data/test_data/id/bee0248--...</td>\n",
       "      <td>4</td>\n",
       "    </tr>\n",
       "    <tr>\n",
       "      <th>89</th>\n",
       "      <td>../data/preprocess_data/test_data/id/bee0248--...</td>\n",
       "      <td>4</td>\n",
       "    </tr>\n",
       "    <tr>\n",
       "      <th>90</th>\n",
       "      <td>../data/preprocess_data/test_data/id/bee0226--...</td>\n",
       "      <td>1</td>\n",
       "    </tr>\n",
       "    <tr>\n",
       "      <th>91</th>\n",
       "      <td>../data/preprocess_data/test_data/id/bee0240--...</td>\n",
       "      <td>3</td>\n",
       "    </tr>\n",
       "    <tr>\n",
       "      <th>92</th>\n",
       "      <td>../data/preprocess_data/test_data/id/bee0226--...</td>\n",
       "      <td>1</td>\n",
       "    </tr>\n",
       "    <tr>\n",
       "      <th>93</th>\n",
       "      <td>../data/preprocess_data/test_data/id/bee0240--...</td>\n",
       "      <td>3</td>\n",
       "    </tr>\n",
       "    <tr>\n",
       "      <th>94</th>\n",
       "      <td>../data/preprocess_data/test_data/id/bee0226--...</td>\n",
       "      <td>1</td>\n",
       "    </tr>\n",
       "    <tr>\n",
       "      <th>95</th>\n",
       "      <td>../data/preprocess_data/test_data/id/bee0196--...</td>\n",
       "      <td>0</td>\n",
       "    </tr>\n",
       "    <tr>\n",
       "      <th>96</th>\n",
       "      <td>../data/preprocess_data/test_data/id/bee0196--...</td>\n",
       "      <td>0</td>\n",
       "    </tr>\n",
       "    <tr>\n",
       "      <th>97</th>\n",
       "      <td>../data/preprocess_data/test_data/id/bee0226--...</td>\n",
       "      <td>1</td>\n",
       "    </tr>\n",
       "    <tr>\n",
       "      <th>98</th>\n",
       "      <td>../data/preprocess_data/test_data/id/bee0235--...</td>\n",
       "      <td>2</td>\n",
       "    </tr>\n",
       "    <tr>\n",
       "      <th>99</th>\n",
       "      <td>../data/preprocess_data/test_data/id/bee0226--...</td>\n",
       "      <td>1</td>\n",
       "    </tr>\n",
       "  </tbody>\n",
       "</table>\n",
       "<p>100 rows × 2 columns</p>\n",
       "</div>"
      ],
      "text/plain": [
       "                                               X_test  y\n",
       "0   ../data/preprocess_data/test_data/id/bee0196--...  0\n",
       "1   ../data/preprocess_data/test_data/id/bee0248--...  4\n",
       "2   ../data/preprocess_data/test_data/id/bee0196--...  0\n",
       "3   ../data/preprocess_data/test_data/id/bee0226--...  1\n",
       "4   ../data/preprocess_data/test_data/id/bee0196--...  0\n",
       "5   ../data/preprocess_data/test_data/id/bee0235--...  2\n",
       "6   ../data/preprocess_data/test_data/id/bee0240--...  3\n",
       "7   ../data/preprocess_data/test_data/id/bee0196--...  0\n",
       "8   ../data/preprocess_data/test_data/id/bee0235--...  2\n",
       "9   ../data/preprocess_data/test_data/id/bee0226--...  1\n",
       "10  ../data/preprocess_data/test_data/id/bee0248--...  4\n",
       "11  ../data/preprocess_data/test_data/id/bee0240--...  3\n",
       "12  ../data/preprocess_data/test_data/id/bee0235--...  2\n",
       "13  ../data/preprocess_data/test_data/id/bee0248--...  4\n",
       "14  ../data/preprocess_data/test_data/id/bee0240--...  3\n",
       "15  ../data/preprocess_data/test_data/id/bee0226--...  1\n",
       "16  ../data/preprocess_data/test_data/id/bee0196--...  0\n",
       "17  ../data/preprocess_data/test_data/id/bee0240--...  3\n",
       "18  ../data/preprocess_data/test_data/id/bee0248--...  4\n",
       "19  ../data/preprocess_data/test_data/id/bee0248--...  4\n",
       "20  ../data/preprocess_data/test_data/id/bee0248--...  4\n",
       "21  ../data/preprocess_data/test_data/id/bee0240--...  3\n",
       "22  ../data/preprocess_data/test_data/id/bee0248--...  4\n",
       "23  ../data/preprocess_data/test_data/id/bee0196--...  0\n",
       "24  ../data/preprocess_data/test_data/id/bee0235--...  2\n",
       "25  ../data/preprocess_data/test_data/id/bee0196--...  0\n",
       "26  ../data/preprocess_data/test_data/id/bee0240--...  3\n",
       "27  ../data/preprocess_data/test_data/id/bee0226--...  1\n",
       "28  ../data/preprocess_data/test_data/id/bee0248--...  4\n",
       "29  ../data/preprocess_data/test_data/id/bee0226--...  1\n",
       "..                                                ... ..\n",
       "70  ../data/preprocess_data/test_data/id/bee0226--...  1\n",
       "71  ../data/preprocess_data/test_data/id/bee0226--...  1\n",
       "72  ../data/preprocess_data/test_data/id/bee0240--...  3\n",
       "73  ../data/preprocess_data/test_data/id/bee0248--...  4\n",
       "74  ../data/preprocess_data/test_data/id/bee0235--...  2\n",
       "75  ../data/preprocess_data/test_data/id/bee0240--...  3\n",
       "76  ../data/preprocess_data/test_data/id/bee0240--...  3\n",
       "77  ../data/preprocess_data/test_data/id/bee0196--...  0\n",
       "78  ../data/preprocess_data/test_data/id/bee0226--...  1\n",
       "79  ../data/preprocess_data/test_data/id/bee0240--...  3\n",
       "80  ../data/preprocess_data/test_data/id/bee0196--...  0\n",
       "81  ../data/preprocess_data/test_data/id/bee0248--...  4\n",
       "82  ../data/preprocess_data/test_data/id/bee0235--...  2\n",
       "83  ../data/preprocess_data/test_data/id/bee0248--...  4\n",
       "84  ../data/preprocess_data/test_data/id/bee0226--...  1\n",
       "85  ../data/preprocess_data/test_data/id/bee0248--...  4\n",
       "86  ../data/preprocess_data/test_data/id/bee0235--...  2\n",
       "87  ../data/preprocess_data/test_data/id/bee0235--...  2\n",
       "88  ../data/preprocess_data/test_data/id/bee0248--...  4\n",
       "89  ../data/preprocess_data/test_data/id/bee0248--...  4\n",
       "90  ../data/preprocess_data/test_data/id/bee0226--...  1\n",
       "91  ../data/preprocess_data/test_data/id/bee0240--...  3\n",
       "92  ../data/preprocess_data/test_data/id/bee0226--...  1\n",
       "93  ../data/preprocess_data/test_data/id/bee0240--...  3\n",
       "94  ../data/preprocess_data/test_data/id/bee0226--...  1\n",
       "95  ../data/preprocess_data/test_data/id/bee0196--...  0\n",
       "96  ../data/preprocess_data/test_data/id/bee0196--...  0\n",
       "97  ../data/preprocess_data/test_data/id/bee0226--...  1\n",
       "98  ../data/preprocess_data/test_data/id/bee0235--...  2\n",
       "99  ../data/preprocess_data/test_data/id/bee0226--...  1\n",
       "\n",
       "[100 rows x 2 columns]"
      ]
     },
     "execution_count": 21,
     "metadata": {},
     "output_type": "execute_result"
    }
   ],
   "source": [
    "test_df"
   ]
  },
  {
   "cell_type": "code",
   "execution_count": null,
   "metadata": {
    "collapsed": true
   },
   "outputs": [],
   "source": []
  }
 ],
 "metadata": {
  "kernelspec": {
   "display_name": "Python 3",
   "language": "python",
   "name": "python3"
  },
  "language_info": {
   "codemirror_mode": {
    "name": "ipython",
    "version": 3
   },
   "file_extension": ".py",
   "mimetype": "text/x-python",
   "name": "python",
   "nbconvert_exporter": "python",
   "pygments_lexer": "ipython3",
   "version": "3.6.3"
  }
 },
 "nbformat": 4,
 "nbformat_minor": 2
}
