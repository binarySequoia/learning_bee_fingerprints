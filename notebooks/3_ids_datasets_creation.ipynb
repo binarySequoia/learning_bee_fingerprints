{
 "cells": [
  {
   "cell_type": "markdown",
   "metadata": {},
   "source": [
    "# beeID Datasets Extraction\n",
    "\n",
    "The purpose of this notebook is create a sets of small datasets to test identification."
   ]
  },
  {
   "cell_type": "markdown",
   "metadata": {},
   "source": [
    "#### Dependencies"
   ]
  },
  {
   "cell_type": "code",
   "execution_count": 54,
   "metadata": {
    "collapsed": true
   },
   "outputs": [],
   "source": [
    "%matplotlib inline\n",
    "import numpy as np\n",
    "from skimage import io\n",
    "import pandas as pd\n",
    "from collections import defaultdict\n",
    "import matplotlib.pyplot as plt\n",
    "from ipywidgets import interact\n",
    "import os\n",
    "import sys\n",
    "import shutil\n",
    "\n",
    "sys.path.append(\"../\")\n",
    "\n",
    "from utils.datasets_utils import get_frame_id, get_track_id\n",
    "\n",
    "PREPROCCESSED_DATA_DIR = '../datasets/body_sept/'"
   ]
  },
  {
   "cell_type": "markdown",
   "metadata": {},
   "source": [
    "#### READ Test CSV file"
   ]
  },
  {
   "cell_type": "code",
   "execution_count": 55,
   "metadata": {
    "collapsed": true
   },
   "outputs": [],
   "source": [
    "test_csv_path = os.path.join(PREPROCCESSED_DATA_DIR, \"test_pairs.csv\")\n",
    "test_data = pd.read_csv(test_csv_path)"
   ]
  },
  {
   "cell_type": "code",
   "execution_count": 56,
   "metadata": {
    "collapsed": true
   },
   "outputs": [
    {
     "data": {
      "text/html": [
       "<div>\n",
       "<style scoped>\n",
       "    .dataframe tbody tr th:only-of-type {\n",
       "        vertical-align: middle;\n",
       "    }\n",
       "\n",
       "    .dataframe tbody tr th {\n",
       "        vertical-align: top;\n",
       "    }\n",
       "\n",
       "    .dataframe thead th {\n",
       "        text-align: right;\n",
       "    }\n",
       "</style>\n",
       "<table border=\"1\" class=\"dataframe\">\n",
       "  <thead>\n",
       "    <tr style=\"text-align: right;\">\n",
       "      <th></th>\n",
       "      <th>Unnamed: 0</th>\n",
       "      <th>X1</th>\n",
       "      <th>X2</th>\n",
       "      <th>y</th>\n",
       "    </tr>\n",
       "  </thead>\n",
       "  <tbody>\n",
       "    <tr>\n",
       "      <th>0</th>\n",
       "      <td>114599</td>\n",
       "      <td>../datasets/body_sept/test_data/track/003403/B...</td>\n",
       "      <td>../datasets/body_sept/test_data/track/003403/B...</td>\n",
       "      <td>0</td>\n",
       "    </tr>\n",
       "    <tr>\n",
       "      <th>1</th>\n",
       "      <td>29521</td>\n",
       "      <td>../datasets/body_sept/test_data/frame/017443/B...</td>\n",
       "      <td>../datasets/body_sept/test_data/frame/017443/B...</td>\n",
       "      <td>1</td>\n",
       "    </tr>\n",
       "    <tr>\n",
       "      <th>2</th>\n",
       "      <td>40710</td>\n",
       "      <td>../datasets/body_sept/test_data/frame/017047/B...</td>\n",
       "      <td>../datasets/body_sept/test_data/frame/017047/B...</td>\n",
       "      <td>1</td>\n",
       "    </tr>\n",
       "    <tr>\n",
       "      <th>3</th>\n",
       "      <td>161357</td>\n",
       "      <td>../datasets/body_sept/test_data/track/003068/B...</td>\n",
       "      <td>../datasets/body_sept/test_data/track/003068/B...</td>\n",
       "      <td>0</td>\n",
       "    </tr>\n",
       "    <tr>\n",
       "      <th>4</th>\n",
       "      <td>162363</td>\n",
       "      <td>../datasets/body_sept/test_data/track/003506/B...</td>\n",
       "      <td>../datasets/body_sept/test_data/track/003506/B...</td>\n",
       "      <td>0</td>\n",
       "    </tr>\n",
       "  </tbody>\n",
       "</table>\n",
       "</div>"
      ],
      "text/plain": [
       "   Unnamed: 0                                                 X1  \\\n",
       "0      114599  ../datasets/body_sept/test_data/track/003403/B...   \n",
       "1       29521  ../datasets/body_sept/test_data/frame/017443/B...   \n",
       "2       40710  ../datasets/body_sept/test_data/frame/017047/B...   \n",
       "3      161357  ../datasets/body_sept/test_data/track/003068/B...   \n",
       "4      162363  ../datasets/body_sept/test_data/track/003506/B...   \n",
       "\n",
       "                                                  X2  y  \n",
       "0  ../datasets/body_sept/test_data/track/003403/B...  0  \n",
       "1  ../datasets/body_sept/test_data/frame/017443/B...  1  \n",
       "2  ../datasets/body_sept/test_data/frame/017047/B...  1  \n",
       "3  ../datasets/body_sept/test_data/track/003068/B...  0  \n",
       "4  ../datasets/body_sept/test_data/track/003506/B...  0  "
      ]
     },
     "execution_count": 56,
     "metadata": {},
     "output_type": "execute_result"
    }
   ],
   "source": [
    "test_data.head()"
   ]
  },
  {
   "cell_type": "markdown",
   "metadata": {},
   "source": [
    "Get a list with all images used in the test dataset. Merge X1 and X2 columns and apply unique to avoid duplicate filenames."
   ]
  },
  {
   "cell_type": "code",
   "execution_count": 57,
   "metadata": {},
   "outputs": [
    {
     "name": "stdout",
     "output_type": "stream",
     "text": [
      "(17123,)\n"
     ]
    }
   ],
   "source": [
    "images_list = np.unique(test_data.X1.str.split(\"/\").str[-1])\n",
    "images_list = np.append(images_list, test_data.X2.str.split(\"/\").str[-1])\n",
    "images_list = np.unique(images_list)\n",
    "print(images_list.shape)"
   ]
  },
  {
   "cell_type": "markdown",
   "metadata": {},
   "source": [
    "### Counting amount of bees by frame"
   ]
  },
  {
   "cell_type": "code",
   "execution_count": 58,
   "metadata": {
    "collapsed": true
   },
   "outputs": [],
   "source": [
    "amount_bees_by_frame = defaultdict(int)\n",
    "for im_fname in images_list:\n",
    "    frame = get_frame_id(im_fname)\n",
    "    amount_bees_by_frame[frame] += 1"
   ]
  },
  {
   "cell_type": "code",
   "execution_count": 59,
   "metadata": {},
   "outputs": [],
   "source": [
    "# amount of bees by frame \n",
    "abf_hist = amount_bees_by_frame.values()"
   ]
  },
  {
   "cell_type": "markdown",
   "metadata": {},
   "source": [
    "#### Plotting amount of bees by frame distribution"
   ]
  },
  {
   "cell_type": "code",
   "execution_count": 60,
   "metadata": {
    "scrolled": true
   },
   "outputs": [
    {
     "data": {
      "image/png": "[encoded data removed]",
      "text/plain": [
       "<Figure size 1296x720 with 1 Axes>"
      ]
     },
     "metadata": {
      "needs_background": "light"
     },
     "output_type": "display_data"
    }
   ],
   "source": [
    "plt.figure(figsize=(18,10))\n",
    "plt.title(\"Amount of bees by frame\", fontsize=30)\n",
    "plt.hist(abf_hist, bins=30)\n",
    "plt.yticks(fontsize=20);\n",
    "plt.xticks(np.arange(30), fontsize=20);"
   ]
  },
  {
   "cell_type": "markdown",
   "metadata": {},
   "source": [
    "#### Saving stats for later"
   ]
  },
  {
   "cell_type": "markdown",
   "metadata": {},
   "source": [
    "Creating a dataframe of frames and amount of bees on it."
   ]
  },
  {
   "cell_type": "code",
   "execution_count": 61,
   "metadata": {},
   "outputs": [],
   "source": [
    "ab_by_frames_df = pd.DataFrame({\"frame\" : list(amount_bees_by_frame.keys()),\n",
    "                                \"frame_bee_amount\" : list(amount_bees_by_frame.values())})"
   ]
  },
  {
   "cell_type": "code",
   "execution_count": 62,
   "metadata": {},
   "outputs": [
    {
     "data": {
      "text/html": [
       "<div>\n",
       "<style scoped>\n",
       "    .dataframe tbody tr th:only-of-type {\n",
       "        vertical-align: middle;\n",
       "    }\n",
       "\n",
       "    .dataframe tbody tr th {\n",
       "        vertical-align: top;\n",
       "    }\n",
       "\n",
       "    .dataframe thead th {\n",
       "        text-align: right;\n",
       "    }\n",
       "</style>\n",
       "<table border=\"1\" class=\"dataframe\">\n",
       "  <thead>\n",
       "    <tr style=\"text-align: right;\">\n",
       "      <th></th>\n",
       "      <th>frame</th>\n",
       "      <th>frame_bee_amount</th>\n",
       "    </tr>\n",
       "  </thead>\n",
       "  <tbody>\n",
       "    <tr>\n",
       "      <th>0</th>\n",
       "      <td>016000</td>\n",
       "      <td>14</td>\n",
       "    </tr>\n",
       "    <tr>\n",
       "      <th>1</th>\n",
       "      <td>016001</td>\n",
       "      <td>13</td>\n",
       "    </tr>\n",
       "    <tr>\n",
       "      <th>2</th>\n",
       "      <td>016002</td>\n",
       "      <td>14</td>\n",
       "    </tr>\n",
       "    <tr>\n",
       "      <th>3</th>\n",
       "      <td>016003</td>\n",
       "      <td>14</td>\n",
       "    </tr>\n",
       "    <tr>\n",
       "      <th>4</th>\n",
       "      <td>016004</td>\n",
       "      <td>13</td>\n",
       "    </tr>\n",
       "  </tbody>\n",
       "</table>\n",
       "</div>"
      ],
      "text/plain": [
       "    frame  frame_bee_amount\n",
       "0  016000                14\n",
       "1  016001                13\n",
       "2  016002                14\n",
       "3  016003                14\n",
       "4  016004                13"
      ]
     },
     "execution_count": 62,
     "metadata": {},
     "output_type": "execute_result"
    }
   ],
   "source": [
    "ab_by_frames_df.head()"
   ]
  },
  {
   "cell_type": "code",
   "execution_count": 63,
   "metadata": {},
   "outputs": [],
   "source": [
    "ab_by_frames_df.to_csv(\"../datasets/body_sept/amount_bees_by_frame_test_data.csv\", index=False)"
   ]
  },
  {
   "cell_type": "markdown",
   "metadata": {},
   "source": [
    "### Counting amount of bees by track"
   ]
  },
  {
   "cell_type": "code",
   "execution_count": 64,
   "metadata": {
    "collapsed": true
   },
   "outputs": [],
   "source": [
    "amount_bees_by_track = defaultdict(int)\n",
    "for fname in images_list:\n",
    "    track = get_track_id(fname)\n",
    "    amount_bees_by_track[track] += 1"
   ]
  },
  {
   "cell_type": "code",
   "execution_count": 65,
   "metadata": {
    "collapsed": true
   },
   "outputs": [],
   "source": [
    "# amount of bees by track \n",
    "abt_hist = amount_bees_by_track.values()"
   ]
  },
  {
   "cell_type": "code",
   "execution_count": 66,
   "metadata": {
    "scrolled": true
   },
   "outputs": [
    {
     "data": {
      "image/png": "[encoded data removed]",
      "text/plain": [
       "<Figure size 1296x720 with 1 Axes>"
      ]
     },
     "metadata": {
      "needs_background": "light"
     },
     "output_type": "display_data"
    }
   ],
   "source": [
    "plt.figure(figsize=(18,10))\n",
    "plt.title(\"Amount of bees by track\", fontsize=30)\n",
    "plt.hist(abt_hist)\n",
    "plt.yticks(fontsize=20);\n",
    "plt.xticks(fontsize=20);"
   ]
  },
  {
   "cell_type": "markdown",
   "metadata": {},
   "source": [
    "#### Saving stats for later"
   ]
  },
  {
   "cell_type": "markdown",
   "metadata": {},
   "source": [
    "Creating a dataframe of tracks and amount of bees on it."
   ]
  },
  {
   "cell_type": "code",
   "execution_count": 67,
   "metadata": {},
   "outputs": [],
   "source": [
    "ab_by_track_df = pd.DataFrame({\"track\" : list(amount_bees_by_track.keys()),\n",
    "                                \"track_bee_amount\" : list(amount_bees_by_track.values())})"
   ]
  },
  {
   "cell_type": "code",
   "execution_count": 68,
   "metadata": {},
   "outputs": [
    {
     "data": {
      "text/html": [
       "<div>\n",
       "<style scoped>\n",
       "    .dataframe tbody tr th:only-of-type {\n",
       "        vertical-align: middle;\n",
       "    }\n",
       "\n",
       "    .dataframe tbody tr th {\n",
       "        vertical-align: top;\n",
       "    }\n",
       "\n",
       "    .dataframe thead th {\n",
       "        text-align: right;\n",
       "    }\n",
       "</style>\n",
       "<table border=\"1\" class=\"dataframe\">\n",
       "  <thead>\n",
       "    <tr style=\"text-align: right;\">\n",
       "      <th></th>\n",
       "      <th>track</th>\n",
       "      <th>track_bee_amount</th>\n",
       "    </tr>\n",
       "  </thead>\n",
       "  <tbody>\n",
       "    <tr>\n",
       "      <th>0</th>\n",
       "      <td>002623</td>\n",
       "      <td>105</td>\n",
       "    </tr>\n",
       "    <tr>\n",
       "      <th>1</th>\n",
       "      <td>002765</td>\n",
       "      <td>410</td>\n",
       "    </tr>\n",
       "    <tr>\n",
       "      <th>2</th>\n",
       "      <td>002803</td>\n",
       "      <td>288</td>\n",
       "    </tr>\n",
       "    <tr>\n",
       "      <th>3</th>\n",
       "      <td>002959</td>\n",
       "      <td>1</td>\n",
       "    </tr>\n",
       "    <tr>\n",
       "      <th>4</th>\n",
       "      <td>002977</td>\n",
       "      <td>311</td>\n",
       "    </tr>\n",
       "  </tbody>\n",
       "</table>\n",
       "</div>"
      ],
      "text/plain": [
       "    track  track_bee_amount\n",
       "0  002623               105\n",
       "1  002765               410\n",
       "2  002803               288\n",
       "3  002959                 1\n",
       "4  002977               311"
      ]
     },
     "execution_count": 68,
     "metadata": {},
     "output_type": "execute_result"
    }
   ],
   "source": [
    "ab_by_track_df.head()"
   ]
  },
  {
   "cell_type": "code",
   "execution_count": 69,
   "metadata": {},
   "outputs": [],
   "source": [
    "ab_by_track_df.to_csv(\"../datasets/body_sept/amount_bees_by_track_test_data.csv\", index=False)"
   ]
  },
  {
   "cell_type": "markdown",
   "metadata": {},
   "source": [
    "### Preparing a DataFrame with Frame and Track Info"
   ]
  },
  {
   "cell_type": "code",
   "execution_count": 70,
   "metadata": {},
   "outputs": [],
   "source": [
    "# list of images\n",
    "images_list;"
   ]
  },
  {
   "cell_type": "code",
   "execution_count": 71,
   "metadata": {},
   "outputs": [],
   "source": [
    "# list of frame for each image\n",
    "images_frame_list = [get_frame_id(im_file) for im_file in images_list]"
   ]
  },
  {
   "cell_type": "code",
   "execution_count": 72,
   "metadata": {},
   "outputs": [],
   "source": [
    "# list of tracks for each image\n",
    "images_track_list = [get_track_id(im_file) for im_file in images_list]"
   ]
  },
  {
   "cell_type": "code",
   "execution_count": 73,
   "metadata": {},
   "outputs": [],
   "source": [
    "test_dataset_stats = pd.DataFrame({\"filename\" : images_list,\n",
    "                                   \"frame\" : images_frame_list,\n",
    "                                   \"track\" : images_track_list\n",
    "                                  })"
   ]
  },
  {
   "cell_type": "code",
   "execution_count": 74,
   "metadata": {},
   "outputs": [],
   "source": [
    "merged_df = test_dataset_stats.merge(ab_by_frames_df, on=\"frame\", suffixes=[\"\", \"frame\"])\n",
    "merged_df = merged_df.merge(ab_by_track_df, on=\"track\", suffixes=[\"\", \"track\"])"
   ]
  },
  {
   "cell_type": "markdown",
   "metadata": {},
   "source": [
    "SHOW all the images of the frame with highest amount of bees."
   ]
  },
  {
   "cell_type": "code",
   "execution_count": 75,
   "metadata": {},
   "outputs": [
    {
     "data": {
      "text/html": [
       "<div>\n",
       "<style scoped>\n",
       "    .dataframe tbody tr th:only-of-type {\n",
       "        vertical-align: middle;\n",
       "    }\n",
       "\n",
       "    .dataframe tbody tr th {\n",
       "        vertical-align: top;\n",
       "    }\n",
       "\n",
       "    .dataframe thead th {\n",
       "        text-align: right;\n",
       "    }\n",
       "</style>\n",
       "<table border=\"1\" class=\"dataframe\">\n",
       "  <thead>\n",
       "    <tr style=\"text-align: right;\">\n",
       "      <th></th>\n",
       "      <th>filename</th>\n",
       "      <th>frame</th>\n",
       "      <th>track</th>\n",
       "      <th>frame_bee_amount</th>\n",
       "      <th>track_bee_amount</th>\n",
       "    </tr>\n",
       "  </thead>\n",
       "  <tbody>\n",
       "    <tr>\n",
       "      <th>389</th>\n",
       "      <td>Bee-016583-002765.jpg</td>\n",
       "      <td>016583</td>\n",
       "      <td>002765</td>\n",
       "      <td>22</td>\n",
       "      <td>410</td>\n",
       "    </tr>\n",
       "    <tr>\n",
       "      <th>1083</th>\n",
       "      <td>Bee-016583-002977.jpg</td>\n",
       "      <td>016583</td>\n",
       "      <td>002977</td>\n",
       "      <td>22</td>\n",
       "      <td>311</td>\n",
       "    </tr>\n",
       "    <tr>\n",
       "      <th>3519</th>\n",
       "      <td>Bee-016583-003091.jpg</td>\n",
       "      <td>016583</td>\n",
       "      <td>003091</td>\n",
       "      <td>22</td>\n",
       "      <td>305</td>\n",
       "    </tr>\n",
       "    <tr>\n",
       "      <th>4593</th>\n",
       "      <td>Bee-016583-003114.jpg</td>\n",
       "      <td>016583</td>\n",
       "      <td>003114</td>\n",
       "      <td>22</td>\n",
       "      <td>303</td>\n",
       "    </tr>\n",
       "    <tr>\n",
       "      <th>799</th>\n",
       "      <td>Bee-016583-002803.jpg</td>\n",
       "      <td>016583</td>\n",
       "      <td>002803</td>\n",
       "      <td>22</td>\n",
       "      <td>288</td>\n",
       "    </tr>\n",
       "    <tr>\n",
       "      <th>4191</th>\n",
       "      <td>Bee-016583-003106.jpg</td>\n",
       "      <td>016583</td>\n",
       "      <td>003106</td>\n",
       "      <td>22</td>\n",
       "      <td>156</td>\n",
       "    </tr>\n",
       "    <tr>\n",
       "      <th>4038</th>\n",
       "      <td>Bee-016583-003104.jpg</td>\n",
       "      <td>016583</td>\n",
       "      <td>003104</td>\n",
       "      <td>22</td>\n",
       "      <td>155</td>\n",
       "    </tr>\n",
       "    <tr>\n",
       "      <th>3885</th>\n",
       "      <td>Bee-016583-003102.jpg</td>\n",
       "      <td>016583</td>\n",
       "      <td>003102</td>\n",
       "      <td>22</td>\n",
       "      <td>154</td>\n",
       "    </tr>\n",
       "    <tr>\n",
       "      <th>5301</th>\n",
       "      <td>Bee-016583-003135.jpg</td>\n",
       "      <td>016583</td>\n",
       "      <td>003135</td>\n",
       "      <td>22</td>\n",
       "      <td>153</td>\n",
       "    </tr>\n",
       "    <tr>\n",
       "      <th>5181</th>\n",
       "      <td>Bee-016583-003132.jpg</td>\n",
       "      <td>016583</td>\n",
       "      <td>003132</td>\n",
       "      <td>22</td>\n",
       "      <td>116</td>\n",
       "    </tr>\n",
       "    <tr>\n",
       "      <th>4907</th>\n",
       "      <td>Bee-016583-003120.jpg</td>\n",
       "      <td>016583</td>\n",
       "      <td>003120</td>\n",
       "      <td>22</td>\n",
       "      <td>87</td>\n",
       "    </tr>\n",
       "    <tr>\n",
       "      <th>5758</th>\n",
       "      <td>Bee-016583-003159.jpg</td>\n",
       "      <td>016583</td>\n",
       "      <td>003159</td>\n",
       "      <td>22</td>\n",
       "      <td>78</td>\n",
       "    </tr>\n",
       "    <tr>\n",
       "      <th>5053</th>\n",
       "      <td>Bee-016583-003125.jpg</td>\n",
       "      <td>016583</td>\n",
       "      <td>003125</td>\n",
       "      <td>22</td>\n",
       "      <td>75</td>\n",
       "    </tr>\n",
       "    <tr>\n",
       "      <th>5580</th>\n",
       "      <td>Bee-016583-003144.jpg</td>\n",
       "      <td>016583</td>\n",
       "      <td>003144</td>\n",
       "      <td>22</td>\n",
       "      <td>70</td>\n",
       "    </tr>\n",
       "    <tr>\n",
       "      <th>5455</th>\n",
       "      <td>Bee-016583-003137.jpg</td>\n",
       "      <td>016583</td>\n",
       "      <td>003137</td>\n",
       "      <td>22</td>\n",
       "      <td>68</td>\n",
       "    </tr>\n",
       "    <tr>\n",
       "      <th>5119</th>\n",
       "      <td>Bee-016583-003127.jpg</td>\n",
       "      <td>016583</td>\n",
       "      <td>003127</td>\n",
       "      <td>22</td>\n",
       "      <td>67</td>\n",
       "    </tr>\n",
       "    <tr>\n",
       "      <th>5536</th>\n",
       "      <td>Bee-016583-003141.jpg</td>\n",
       "      <td>016583</td>\n",
       "      <td>003141</td>\n",
       "      <td>22</td>\n",
       "      <td>50</td>\n",
       "    </tr>\n",
       "    <tr>\n",
       "      <th>5655</th>\n",
       "      <td>Bee-016583-003147.jpg</td>\n",
       "      <td>016583</td>\n",
       "      <td>003147</td>\n",
       "      <td>22</td>\n",
       "      <td>49</td>\n",
       "    </tr>\n",
       "    <tr>\n",
       "      <th>5711</th>\n",
       "      <td>Bee-016583-003151.jpg</td>\n",
       "      <td>016583</td>\n",
       "      <td>003151</td>\n",
       "      <td>22</td>\n",
       "      <td>47</td>\n",
       "    </tr>\n",
       "    <tr>\n",
       "      <th>5871</th>\n",
       "      <td>Bee-016583-003162.jpg</td>\n",
       "      <td>016583</td>\n",
       "      <td>003162</td>\n",
       "      <td>22</td>\n",
       "      <td>45</td>\n",
       "    </tr>\n",
       "    <tr>\n",
       "      <th>5835</th>\n",
       "      <td>Bee-016583-003160.jpg</td>\n",
       "      <td>016583</td>\n",
       "      <td>003160</td>\n",
       "      <td>22</td>\n",
       "      <td>44</td>\n",
       "    </tr>\n",
       "    <tr>\n",
       "      <th>5914</th>\n",
       "      <td>Bee-016583-003158.jpg</td>\n",
       "      <td>016583</td>\n",
       "      <td>003158</td>\n",
       "      <td>22</td>\n",
       "      <td>28</td>\n",
       "    </tr>\n",
       "    <tr>\n",
       "      <th>7463</th>\n",
       "      <td>Bee-016765-003176.jpg</td>\n",
       "      <td>016765</td>\n",
       "      <td>003176</td>\n",
       "      <td>21</td>\n",
       "      <td>666</td>\n",
       "    </tr>\n",
       "  </tbody>\n",
       "</table>\n",
       "</div>"
      ],
      "text/plain": [
       "                   filename   frame   track  frame_bee_amount  \\\n",
       "389   Bee-016583-002765.jpg  016583  002765                22   \n",
       "1083  Bee-016583-002977.jpg  016583  002977                22   \n",
       "3519  Bee-016583-003091.jpg  016583  003091                22   \n",
       "4593  Bee-016583-003114.jpg  016583  003114                22   \n",
       "799   Bee-016583-002803.jpg  016583  002803                22   \n",
       "4191  Bee-016583-003106.jpg  016583  003106                22   \n",
       "4038  Bee-016583-003104.jpg  016583  003104                22   \n",
       "3885  Bee-016583-003102.jpg  016583  003102                22   \n",
       "5301  Bee-016583-003135.jpg  016583  003135                22   \n",
       "5181  Bee-016583-003132.jpg  016583  003132                22   \n",
       "4907  Bee-016583-003120.jpg  016583  003120                22   \n",
       "5758  Bee-016583-003159.jpg  016583  003159                22   \n",
       "5053  Bee-016583-003125.jpg  016583  003125                22   \n",
       "5580  Bee-016583-003144.jpg  016583  003144                22   \n",
       "5455  Bee-016583-003137.jpg  016583  003137                22   \n",
       "5119  Bee-016583-003127.jpg  016583  003127                22   \n",
       "5536  Bee-016583-003141.jpg  016583  003141                22   \n",
       "5655  Bee-016583-003147.jpg  016583  003147                22   \n",
       "5711  Bee-016583-003151.jpg  016583  003151                22   \n",
       "5871  Bee-016583-003162.jpg  016583  003162                22   \n",
       "5835  Bee-016583-003160.jpg  016583  003160                22   \n",
       "5914  Bee-016583-003158.jpg  016583  003158                22   \n",
       "7463  Bee-016765-003176.jpg  016765  003176                21   \n",
       "\n",
       "      track_bee_amount  \n",
       "389                410  \n",
       "1083               311  \n",
       "3519               305  \n",
       "4593               303  \n",
       "799                288  \n",
       "4191               156  \n",
       "4038               155  \n",
       "3885               154  \n",
       "5301               153  \n",
       "5181               116  \n",
       "4907                87  \n",
       "5758                78  \n",
       "5053                75  \n",
       "5580                70  \n",
       "5455                68  \n",
       "5119                67  \n",
       "5536                50  \n",
       "5655                49  \n",
       "5711                47  \n",
       "5871                45  \n",
       "5835                44  \n",
       "5914                28  \n",
       "7463               666  "
      ]
     },
     "execution_count": 75,
     "metadata": {},
     "output_type": "execute_result"
    }
   ],
   "source": [
    "merged_df.sort_values([\"frame_bee_amount\", \"track_bee_amount\"], ascending=False).head(23)"
   ]
  },
  {
   "cell_type": "markdown",
   "metadata": {},
   "source": [
    "#### Extracting ID using Frame and Track Information\n",
    "\n",
    "We create ID dataset using the frame with highest amount of bees, and create a random sample of each trackId that appears in the selected frame."
   ]
  },
  {
   "cell_type": "code",
   "execution_count": 76,
   "metadata": {},
   "outputs": [],
   "source": [
    "def save_dataset(im_dir, out_dir, im_list):\n",
    "    \"\"\"\n",
    "    Create the dataset folder with the images inside.\n",
    "    \"\"\"\n",
    "    for im in im_list:\n",
    "        path = os.path.join(im_dir, im)\n",
    "        \n",
    "        if not os.path.exists(path):\n",
    "            print(\"{} not found.\".format(path))\n",
    "            continue\n",
    "        else:\n",
    "            out_im_path = os.path.join(out_dir, im)\n",
    "            shutil.copyfile(path, out_im_path)\n",
    "            #print(\"{} saved.\".format(out_im_path))\n",
    "\n",
    "def create_id_dataset(frame, images_dir, output_dir):\n",
    "    # GET all tracks that appears in frame\n",
    "    tracks = merged_df[merged_df.frame == frame].track.values\n",
    "    sample_by_track = list()\n",
    "    # Sample size == min(track_bee_amuount)\n",
    "    sample_size = merged_df[merged_df.frame == frame].track_bee_amount.min()\n",
    "    \n",
    "    # Create a random sample of size \"sample_size\" \n",
    "    # for each trackID\n",
    "    for tr in tracks:\n",
    "        fnames = merged_df[merged_df.track == tr].filename.values\n",
    "        amount = len(merged_df[merged_df.track == tr])\n",
    "        \n",
    "        perm = np.random.permutation(amount)[:sample_size]\n",
    "\n",
    "        sample_by_track += list(fnames[perm])\n",
    "    \n",
    "    output_dir = os.path.join(output_dir, \"ID_\" + frame)\n",
    "    \n",
    "    if not os.path.exists(output_dir):\n",
    "        os.mkdir(output_dir)\n",
    "    \n",
    "    save_dataset(images_dir, output_dir, sample_by_track)\n",
    "    return"
   ]
  },
  {
   "cell_type": "markdown",
   "metadata": {},
   "source": [
    "We sort thre frames by highest amount of bee on it."
   ]
  },
  {
   "cell_type": "code",
   "execution_count": 77,
   "metadata": {},
   "outputs": [],
   "source": [
    "sorted_frames = merged_df.sort_values([\"frame_bee_amount\"], ascending=False).frame.values"
   ]
  },
  {
   "cell_type": "code",
   "execution_count": 78,
   "metadata": {},
   "outputs": [],
   "source": [
    "_, idx = np.unique(sorted_frames, return_index=True)\n",
    "sorted_frames = sorted_frames[np.sort(idx)]"
   ]
  },
  {
   "cell_type": "markdown",
   "metadata": {},
   "source": [
    "Show how stats filtered by frameID."
   ]
  },
  {
   "cell_type": "code",
   "execution_count": 79,
   "metadata": {},
   "outputs": [
    {
     "data": {
      "application/vnd.jupyter.widget-view+json": {
       "model_id": "74f5415c92734b85b7f21221977f1960",
       "version_major": 2,
       "version_minor": 0
      },
      "text/plain": [
       "interactive(children=(Dropdown(description='f', options=('016583', '016536', '016766', '016765', '016775', '01…"
      ]
     },
     "metadata": {},
     "output_type": "display_data"
    },
    {
     "data": {
      "text/plain": [
       "<function __main__.show_tracks(f)>"
      ]
     },
     "execution_count": 79,
     "metadata": {},
     "output_type": "execute_result"
    }
   ],
   "source": [
    "def show_tracks(f):\n",
    "    return merged_df[merged_df.frame == f]\n",
    "    \n",
    "interact(show_tracks, f=sorted_frames)"
   ]
  },
  {
   "cell_type": "markdown",
   "metadata": {},
   "source": [
    "### We create 10 datasets using the top 10 frames with highest amount of bee on it."
   ]
  },
  {
   "cell_type": "code",
   "execution_count": 80,
   "metadata": {},
   "outputs": [],
   "source": [
    "for frame in sorted_frames[:10]:\n",
    "    create_id_dataset(frame, \"../raw_data/body_sept/\", \"../datasets/body_sept/ids_datasets\");"
   ]
  },
  {
   "cell_type": "code",
   "execution_count": null,
   "metadata": {},
   "outputs": [],
   "source": []
  }
 ],
 "metadata": {
  "kernelspec": {
   "display_name": "Python 3",
   "language": "python",
   "name": "python3"
  },
  "language_info": {
   "codemirror_mode": {
    "name": "ipython",
    "version": 3
   },
   "file_extension": ".py",
   "mimetype": "text/x-python",
   "name": "python",
   "nbconvert_exporter": "python",
   "pygments_lexer": "ipython3",
   "version": "3.6.6"
  }
 },
 "nbformat": 4,
 "nbformat_minor": 2
}
