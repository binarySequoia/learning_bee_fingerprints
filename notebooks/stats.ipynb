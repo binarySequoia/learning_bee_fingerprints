{
 "cells": [
  {
   "cell_type": "code",
   "execution_count": 19,
   "metadata": {},
   "outputs": [],
   "source": [
    "%matplotlib inline\n",
    "import sys\n",
    "import os\n",
    "import argparse\n",
    "sys.path.append(\"../\")\n",
    "from utils.plot import *\n",
    "from utils.load_data import *\n",
    "from utils.paths import *\n",
    "from utils.utils import *\n",
    "from networks.networks import *\n",
    "from keras.layers import Input\n",
    "from keras.models import Model"
   ]
  },
  {
   "cell_type": "code",
   "execution_count": 2,
   "metadata": {},
   "outputs": [],
   "source": [
    "# parser = argparse.ArgumentParser(description='Produce stats about an model')\n",
    "\n",
    "# parser.add_argument('-n', '--net', metavar='', required=True,\n",
    "#                     help='network architeture name')\n",
    "# parser.add_argument('-w', '--weights', metavar='', default='',\n",
    "#                    help='model weights file name')\n",
    "# parser.add_argument('-o', '--output', metavar='', default='',\n",
    "#                    help='output name')\n",
    "# parser.add_argument('-t', '--train', metavar='', default='../data/csv/train_pairs.csv',\n",
    "#                     help='train data csv file')\n",
    "# parser.add_argument('-s', '--test', metavar='', default='../data/csv/test_pairs.csv',\n",
    "#                     help='test data csv file')\n",
    "\n",
    "# args = parser.parse_args()\n",
    "# NETWORK_NAME = args.net\n",
    "# OUTPUT_NAME = args.output\n",
    "# TRAIN_CSV = args.train\n",
    "# TEST_CSV = args.test\n",
    "# WEIGHTS_FILE = args.weights"
   ]
  },
  {
   "cell_type": "code",
   "execution_count": 3,
   "metadata": {},
   "outputs": [],
   "source": [
    "OUTPUT_PATH = \"../stats/\"\n",
    "\n",
    "OUTPUT_PATH += 'alex_net'\n",
    "\n",
    "WEIGHTS_FILE = os.path.join(WEIGHTS_DIR, \"alex_net-w.h5\")"
   ]
  },
  {
   "cell_type": "code",
   "execution_count": 4,
   "metadata": {},
   "outputs": [
    {
     "name": "stdout",
     "output_type": "stream",
     "text": [
      "Loading Data...\n"
     ]
    }
   ],
   "source": [
    "# Load Data\n",
    "print(\"Loading Data...\")\n",
    "([X1, X2], y), ([X1_test, X2_test], y_test) = load_data(\"../data/csv/train_pairs.csv\", \"../data/csv/test_pairs.csv\")"
   ]
  },
  {
   "cell_type": "code",
   "execution_count": 5,
   "metadata": {},
   "outputs": [
    {
     "name": "stdout",
     "output_type": "stream",
     "text": [
      "Loading Model...\n"
     ]
    }
   ],
   "source": [
    "# Load Model\n",
    "#######################################\n",
    "print(\"Loading Model...\")\n",
    "network = base_network('alex_net')\n",
    "\n",
    "network_input = Input([230, 105, 3])\n",
    "\n",
    "model = network(network_input)\n",
    "\n",
    "model = Model(network_input, model)\n",
    "\n",
    "model.load_weights('../weights/alex_net-w.h5')\n",
    "#######################################"
   ]
  },
  {
   "cell_type": "code",
   "execution_count": 6,
   "metadata": {},
   "outputs": [
    {
     "name": "stdout",
     "output_type": "stream",
     "text": [
      "Predicting Training Data...\n",
      "Predicting Testing Data...\n"
     ]
    }
   ],
   "source": [
    "# Predict on training and testing data\n",
    "print(\"Predicting Training Data...\")\n",
    "train_pred_x1 = model.predict(X1)\n",
    "train_pred_x2 = model.predict(X2)\n",
    "\n",
    "print(\"Predicting Testing Data...\")\n",
    "test_pred_x1 = model.predict(X1_test)\n",
    "test_pred_x2 = model.predict(X2_test)"
   ]
  },
  {
   "cell_type": "code",
   "execution_count": 12,
   "metadata": {},
   "outputs": [],
   "source": [
    "y_pred = distance(train_pred_x1, train_pred_x2)"
   ]
  },
  {
   "cell_type": "code",
   "execution_count": 13,
   "metadata": {},
   "outputs": [],
   "source": [
    "from sklearn.metrics import mean_squared_error"
   ]
  },
  {
   "cell_type": "code",
   "execution_count": 14,
   "metadata": {},
   "outputs": [
    {
     "data": {
      "text/plain": [
       "0.40242926252044686"
      ]
     },
     "execution_count": 14,
     "metadata": {},
     "output_type": "execute_result"
    }
   ],
   "source": [
    "mean_squared_error(y, y_pred)"
   ]
  },
  {
   "cell_type": "code",
   "execution_count": 15,
   "metadata": {},
   "outputs": [
    {
     "data": {
      "text/plain": [
       "array([ 0.,  0.,  0., ...,  0.,  0.,  0.], dtype=float32)"
      ]
     },
     "execution_count": 15,
     "metadata": {},
     "output_type": "execute_result"
    }
   ],
   "source": [
    "y_pred"
   ]
  },
  {
   "cell_type": "code",
   "execution_count": 17,
   "metadata": {},
   "outputs": [
    {
     "data": {
      "text/plain": [
       "0.0"
      ]
     },
     "execution_count": 17,
     "metadata": {},
     "output_type": "execute_result"
    }
   ],
   "source": [
    "np.sum(np.sum(train_pred_x1, axis=1))"
   ]
  },
  {
   "cell_type": "code",
   "execution_count": 21,
   "metadata": {},
   "outputs": [
    {
     "data": {
      "image/png": "[encoded data removed]",
      "text/plain": [
       "<matplotlib.figure.Figure at 0x7f4b301d2c88>"
      ]
     },
     "metadata": {},
     "output_type": "display_data"
    }
   ],
   "source": [
    "plt.hist(y_pred);"
   ]
  },
  {
   "cell_type": "code",
   "execution_count": null,
   "metadata": {},
   "outputs": [],
   "source": []
  }
 ],
 "metadata": {
  "kernelspec": {
   "display_name": "Python 3",
   "language": "python",
   "name": "python3"
  },
  "language_info": {
   "codemirror_mode": {
    "name": "ipython",
    "version": 3
   },
   "file_extension": ".py",
   "mimetype": "text/x-python",
   "name": "python",
   "nbconvert_exporter": "python",
   "pygments_lexer": "ipython3",
   "version": "3.6.3"
  }
 },
 "nbformat": 4,
 "nbformat_minor": 2
}
