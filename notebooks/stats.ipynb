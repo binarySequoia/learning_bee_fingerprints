{
 "cells": [
  {
   "cell_type": "code",
   "execution_count": 1,
   "metadata": {},
   "outputs": [
    {
     "name": "stderr",
     "output_type": "stream",
     "text": [
      "Using TensorFlow backend.\n"
     ]
    }
   ],
   "source": [
    "%matplotlib inline\n",
    "import sys\n",
    "import os\n",
    "\n",
    "os.environ[\"CUDA_DEVICE_ORDER\"]=\"PCI_BUS_ID\"\n",
    "# The GPU id to use, usually either \"0\" or \"1\"\n",
    "#os.environ[\"CUDA_VISIBLE_DEVICES\"]=\"0\" \n",
    "import argparse\n",
    "from skimage import io\n",
    "from keras.models import load_model\n",
    "sys.path.append(\"../\")\n",
    "sys.path.append(\"../\")\n",
    "from utils.load_data import *\n",
    "from utils.paths import *\n",
    "from utils.utils import *\n",
    "from utils.metadata import *\n",
    "from utils.dataflows import *\n",
    "from utils.generator import *\n",
    "from networks.networks import *\n",
    "from networks.networks import *\n",
    "from keras.layers import Input\n",
    "from keras.models import Model"
   ]
  },
  {
   "cell_type": "code",
   "execution_count": 2,
   "metadata": {},
   "outputs": [],
   "source": [
    "mod = load_model(\"../models/body_sept_alex_net64_margin2_reg.h5\", compile=False)"
   ]
  },
  {
   "cell_type": "code",
   "execution_count": 3,
   "metadata": {},
   "outputs": [
    {
     "name": "stdout",
     "output_type": "stream",
     "text": [
      "__________________________________________________________________________________________________\n",
      "Layer (type)                    Output Shape         Param #     Connected to                     \n",
      "==================================================================================================\n",
      "input_1 (InputLayer)            (None, 320, 250, 3)  0                                            \n",
      "__________________________________________________________________________________________________\n",
      "input_2 (InputLayer)            (None, 320, 250, 3)  0                                            \n",
      "__________________________________________________________________________________________________\n",
      "sequential_1 (Sequential)       (None, 64)           31755904    input_1[0][0]                    \n",
      "                                                                 input_2[0][0]                    \n",
      "__________________________________________________________________________________________________\n",
      "lambda_1 (Lambda)               (None, 1)            0           sequential_1[1][0]               \n",
      "                                                                 sequential_1[2][0]               \n",
      "==================================================================================================\n",
      "Total params: 31,755,904\n",
      "Trainable params: 31,755,264\n",
      "Non-trainable params: 640\n",
      "__________________________________________________________________________________________________\n"
     ]
    }
   ],
   "source": [
    "mod.summary()"
   ]
  },
  {
   "cell_type": "code",
   "execution_count": 4,
   "metadata": {},
   "outputs": [],
   "source": [
    "OUTPUT_PATH = \"../stats/\"\n",
    "\n",
    "OUTPUT_PATH += 'body_sept_alex_net64_margin2_reg'\n",
    "\n",
    "WEIGHTS_FILE = os.path.join(WEIGHTS_DIR, \"body_sept_alex_net64_margin2_reg-w.h5\")"
   ]
  },
  {
   "cell_type": "code",
   "execution_count": 2,
   "metadata": {},
   "outputs": [],
   "source": [
    "train_data = pd.read_csv(\"../datasets/body_sept/train_pairs.csv\")\n",
    "test_data = pd.read_csv(\"../datasets/body_sept/test_pairs.csv\")"
   ]
  },
  {
   "cell_type": "code",
   "execution_count": 3,
   "metadata": {},
   "outputs": [],
   "source": [
    "X1 = train_data.X1[:25]\n",
    "X2 = train_data.X2[:25]\n",
    "\n",
    "X1_test = test_data.X1[:25]\n",
    "X2_test = test_data.X2[:25]"
   ]
  },
  {
   "cell_type": "code",
   "execution_count": 4,
   "metadata": {},
   "outputs": [],
   "source": [
    "X1_gen = TestGenerator(X1)\n",
    "X2_gen = TestGenerator(X2)\n",
    "\n",
    "X1_t_gen = TestGenerator(X1_test)\n",
    "X2_t_gen = TestGenerator(X2_test)"
   ]
  },
  {
   "cell_type": "code",
   "execution_count": 5,
   "metadata": {},
   "outputs": [
    {
     "data": {
      "text/plain": [
       "array([[[[ 63, 138, 170],\n",
       "         [ 64, 139, 171],\n",
       "         [ 64, 139, 171],\n",
       "         ..., \n",
       "         [ 66, 139, 172],\n",
       "         [ 65, 138, 171],\n",
       "         [ 65, 138, 171]],\n",
       "\n",
       "        [[ 64, 139, 171],\n",
       "         [ 64, 139, 171],\n",
       "         [ 64, 139, 171],\n",
       "         ..., \n",
       "         [ 66, 139, 172],\n",
       "         [ 65, 138, 171],\n",
       "         [ 65, 138, 171]],\n",
       "\n",
       "        [[ 64, 139, 171],\n",
       "         [ 64, 139, 171],\n",
       "         [ 64, 139, 171],\n",
       "         ..., \n",
       "         [ 66, 139, 172],\n",
       "         [ 65, 138, 171],\n",
       "         [ 65, 138, 171]],\n",
       "\n",
       "        ..., \n",
       "        [[ 79, 150, 182],\n",
       "         [ 79, 150, 182],\n",
       "         [ 79, 150, 182],\n",
       "         ..., \n",
       "         [ 77, 146, 177],\n",
       "         [ 77, 146, 177],\n",
       "         [ 77, 146, 177]],\n",
       "\n",
       "        [[ 79, 150, 182],\n",
       "         [ 79, 150, 182],\n",
       "         [ 79, 150, 182],\n",
       "         ..., \n",
       "         [ 77, 146, 177],\n",
       "         [ 77, 146, 177],\n",
       "         [ 77, 146, 177]],\n",
       "\n",
       "        [[ 79, 150, 182],\n",
       "         [ 79, 150, 182],\n",
       "         [ 79, 150, 182],\n",
       "         ..., \n",
       "         [ 77, 146, 177],\n",
       "         [ 77, 146, 177],\n",
       "         [ 77, 146, 177]]]], dtype=uint8)"
      ]
     },
     "execution_count": 5,
     "metadata": {},
     "output_type": "execute_result"
    }
   ],
   "source": [
    "X1_gen[0]"
   ]
  },
  {
   "cell_type": "code",
   "execution_count": 7,
   "metadata": {},
   "outputs": [
    {
     "name": "stdout",
     "output_type": "stream",
     "text": [
      "Loading Model...\n",
      "_________________________________________________________________\n",
      "Layer (type)                 Output Shape              Param #   \n",
      "=================================================================\n",
      "input_1 (InputLayer)         (None, 320, 250, 3)       0         \n",
      "_________________________________________________________________\n",
      "sequential_2 (Sequential)    (None, 64)                31755904  \n",
      "=================================================================\n",
      "Total params: 31,755,904\n",
      "Trainable params: 31,755,264\n",
      "Non-trainable params: 640\n",
      "_________________________________________________________________\n"
     ]
    }
   ],
   "source": [
    "# Load Model\n",
    "#######################################\n",
    "print(\"Loading Model...\")\n",
    "network = base_network('alex_net64_reg', [320, 250, 3])\n",
    "\n",
    "network_input = Input([320, 250, 3])\n",
    "\n",
    "model = network(network_input)\n",
    "\n",
    "model = Model(network_input, model)\n",
    "model.summary()\n",
    "model.load_weights(WEIGHTS_FILE)\n",
    "#######################################"
   ]
  },
  {
   "cell_type": "code",
   "execution_count": 9,
   "metadata": {},
   "outputs": [
    {
     "data": {
      "text/plain": [
       "(458397, 458397)"
      ]
     },
     "execution_count": 9,
     "metadata": {},
     "output_type": "execute_result"
    }
   ],
   "source": [
    "len(X1_gen), len(X1)"
   ]
  },
  {
   "cell_type": "code",
   "execution_count": null,
   "metadata": {},
   "outputs": [
    {
     "name": "stdout",
     "output_type": "stream",
     "text": [
      "Predicting Training Data...\n"
     ]
    }
   ],
   "source": [
    "# Predict on training and testing data\n",
    "print(\"Predicting Training Data...\")\n",
    "train_pred_x1 = model.predict_generator(X1_gen)\n",
    "train_pred_x2 = model.predict_generator(X2_gen)\n",
    "\n",
    "print(\"Predicting Testing Data...\")\n",
    "test_pred_x1 = model.predict_generator(X1_t_gen)\n",
    "test_pred_x2 = model.predict_generator(X2_t_gen)"
   ]
  },
  {
   "cell_type": "code",
   "execution_count": 12,
   "metadata": {},
   "outputs": [
    {
     "data": {
      "text/plain": [
       "array(['../datasets/body_sept/train_data/frame/001356/Bee-001356-000245.jpg',\n",
       "       '../datasets/body_sept/train_data/frame/007325/Bee-007325-001470.jpg',\n",
       "       '../datasets/body_sept/train_data/frame/007673/Bee-007673-001193.jpg',\n",
       "       '../datasets/body_sept/train_data/track/001719/Bee-008899-001719.jpg',\n",
       "       '../datasets/body_sept/train_data/frame/008181/Bee-008181-001607.jpg',\n",
       "       '../datasets/body_sept/train_data/track/001630/Bee-008290-001630.jpg',\n",
       "       '../datasets/body_sept/train_data/frame/000091/Bee-000091-000025.jpg',\n",
       "       '../datasets/body_sept/train_data/frame/003035/Bee-003035-000271.jpg',\n",
       "       '../datasets/body_sept/train_data/track/001610/Bee-008181-001610.jpg',\n",
       "       '../datasets/body_sept/train_data/track/000689/Bee-003084-000689.jpg',\n",
       "       '../datasets/body_sept/train_data/track/001493/Bee-007642-001493.jpg',\n",
       "       '../datasets/body_sept/train_data/track/000351/Bee-001716-000351.jpg',\n",
       "       '../datasets/body_sept/train_data/frame/008651/Bee-008651-001534.jpg',\n",
       "       '../datasets/body_sept/train_data/track/001160/Bee-005704-001160.jpg',\n",
       "       '../datasets/body_sept/train_data/track/001336/Bee-006727-001336.jpg'], dtype=object)"
      ]
     },
     "execution_count": 12,
     "metadata": {},
     "output_type": "execute_result"
    }
   ],
   "source": [
    "X1[0:15].values"
   ]
  },
  {
   "cell_type": "code",
   "execution_count": 7,
   "metadata": {},
   "outputs": [],
   "source": [
    "output_dim = 64 #model.output.shape.as_list()[1]"
   ]
  },
  {
   "cell_type": "code",
   "execution_count": 8,
   "metadata": {},
   "outputs": [
    {
     "name": "stdout",
     "output_type": "stream",
     "text": [
      "0\n",
      "10\n",
      "20\n"
     ]
    }
   ],
   "source": [
    "size = len(X1)\n",
    "batch = 10\n",
    "\n",
    "x1_emb = np.empty((0,output_dim))\n",
    "x2_emb =  np.empty((0,output_dim))\n",
    "for i in range(0, size, batch):\n",
    "    if i + batch >= size:\n",
    "        x1_batch = X1[i:].values\n",
    "        x2_batch = X2[i:].values\n",
    "    else:   \n",
    "        x1_batch = X1[i:i+batch].values\n",
    "        x2_batch = X2[i:i+batch].values\n",
    "    x1_imgs = np.array(io.imread_collection(x1_batch))/255.\n",
    "    x2_imgs = np.array(io.imread_collection(x2_batch))/255.\n",
    "    #x1_emb = np.append(x1_emb, model.predict(x1_imgs), axis=0)\n",
    "    #x2_emb = np.append(x2_emb, model.predict(x2_imgs), axis=0)\n",
    "    print(i)\n",
    "    "
   ]
  },
  {
   "cell_type": "code",
   "execution_count": 9,
   "metadata": {},
   "outputs": [
    {
     "data": {
      "text/plain": [
       "array([[[ 48, 109, 140],\n",
       "        [ 49, 110, 141],\n",
       "        [ 50, 111, 142],\n",
       "        ..., \n",
       "        [ 70, 143, 176],\n",
       "        [ 67, 140, 173],\n",
       "        [ 67, 140, 173]],\n",
       "\n",
       "       [[ 48, 109, 140],\n",
       "        [ 48, 109, 140],\n",
       "        [ 49, 110, 141],\n",
       "        ..., \n",
       "        [ 70, 143, 176],\n",
       "        [ 67, 140, 173],\n",
       "        [ 67, 140, 173]],\n",
       "\n",
       "       [[ 48, 109, 140],\n",
       "        [ 48, 109, 140],\n",
       "        [ 49, 110, 141],\n",
       "        ..., \n",
       "        [ 71, 144, 177],\n",
       "        [ 67, 140, 173],\n",
       "        [ 67, 140, 173]],\n",
       "\n",
       "       ..., \n",
       "       [[ 49, 105, 132],\n",
       "        [ 49, 105, 132],\n",
       "        [ 50, 106, 133],\n",
       "        ..., \n",
       "        [ 61, 130, 159],\n",
       "        [ 60, 129, 158],\n",
       "        [ 60, 129, 158]],\n",
       "\n",
       "       [[ 49, 105, 132],\n",
       "        [ 49, 105, 132],\n",
       "        [ 50, 106, 133],\n",
       "        ..., \n",
       "        [ 61, 130, 159],\n",
       "        [ 61, 130, 159],\n",
       "        [ 61, 130, 159]],\n",
       "\n",
       "       [[ 49, 105, 132],\n",
       "        [ 49, 105, 132],\n",
       "        [ 50, 106, 133],\n",
       "        ..., \n",
       "        [ 60, 129, 158],\n",
       "        [ 62, 131, 160],\n",
       "        [ 62, 131, 160]]], dtype=uint8)"
      ]
     },
     "execution_count": 9,
     "metadata": {},
     "output_type": "execute_result"
    }
   ],
   "source": [
    "x1_imgs[0]"
   ]
  },
  {
   "cell_type": "code",
   "execution_count": 34,
   "metadata": {},
   "outputs": [],
   "source": [
    "train_dist = distance(x1_emb , x2_emb) \n",
    "#test_dist = distance(test_pred_x1, test_pred_x2) "
   ]
  },
  {
   "cell_type": "code",
   "execution_count": 35,
   "metadata": {},
   "outputs": [
    {
     "data": {
      "text/plain": [
       "((25,), (458397,), (25,))"
      ]
     },
     "execution_count": 35,
     "metadata": {},
     "output_type": "execute_result"
    }
   ],
   "source": [
    "train_dist.shape, train_data.y.shape, X1.shape"
   ]
  },
  {
   "cell_type": "code",
   "execution_count": 15,
   "metadata": {},
   "outputs": [
    {
     "data": {
      "text/plain": [
       "((164352,), (164434,), (164434,))"
      ]
     },
     "execution_count": 15,
     "metadata": {},
     "output_type": "execute_result"
    }
   ],
   "source": [
    "test_dist.shape, test_data.y.shape, X1_test.shape"
   ]
  },
  {
   "cell_type": "code",
   "execution_count": 28,
   "metadata": {},
   "outputs": [
    {
     "data": {
      "text/plain": [
       "3581"
      ]
     },
     "execution_count": 28,
     "metadata": {},
     "output_type": "execute_result"
    }
   ],
   "source": [
    "len(X1_gen)"
   ]
  },
  {
   "cell_type": "code",
   "execution_count": 18,
   "metadata": {},
   "outputs": [],
   "source": [
    "##########################################################\n",
    "# Save Train and Test predictions\n",
    "# TODO: Refactor this code\n",
    "df_dict_train = {\n",
    "    \"X1\": X1,\n",
    "    \"X2\": X2,\n",
    "    \"y_pred\": train_dist,\n",
    "    \"y_true\": train_data.y\n",
    "}\n",
    "\n",
    "df_dict_test = {\n",
    "    \"X1\": X1_test,\n",
    "    \"X2\": X2_test,\n",
    "    \"y_pred\": test_dist,\n",
    "    \"y_true\": test_data.y\n",
    "}"
   ]
  },
  {
   "cell_type": "code",
   "execution_count": 19,
   "metadata": {},
   "outputs": [],
   "source": [
    "output_name = 'body_sept_alex_net64_margin2_reg'\n",
    "train_csv_filename = OUTPUT_PATH + \"/{0}-train_results.csv\".format(output_name)\n",
    "test_csv_filename = OUTPUT_PATH + \"/{0}-test_results.csv\".format(output_name)"
   ]
  },
  {
   "cell_type": "code",
   "execution_count": 20,
   "metadata": {},
   "outputs": [
    {
     "ename": "ValueError",
     "evalue": "array length 458368 does not match index length 458397",
     "output_type": "error",
     "traceback": [
      "\u001b[0;31m---------------------------------------------------------------------------\u001b[0m",
      "\u001b[0;31mValueError\u001b[0m                                Traceback (most recent call last)",
      "\u001b[0;32m<ipython-input-20-22a7d7f837f9>\u001b[0m in \u001b[0;36m<module>\u001b[0;34m()\u001b[0m\n\u001b[0;32m----> 1\u001b[0;31m \u001b[0mtrain_df\u001b[0m \u001b[0;34m=\u001b[0m \u001b[0mpd\u001b[0m\u001b[0;34m.\u001b[0m\u001b[0mDataFrame\u001b[0m\u001b[0;34m.\u001b[0m\u001b[0mfrom_dict\u001b[0m\u001b[0;34m(\u001b[0m\u001b[0mdf_dict_train\u001b[0m\u001b[0;34m)\u001b[0m\u001b[0;34m\u001b[0m\u001b[0m\n\u001b[0m\u001b[1;32m      2\u001b[0m \u001b[0mtrain_df\u001b[0m\u001b[0;34m[\u001b[0m\u001b[0;34m\"training\"\u001b[0m\u001b[0;34m]\u001b[0m \u001b[0;34m=\u001b[0m \u001b[0;36m1\u001b[0m\u001b[0;34m\u001b[0m\u001b[0m\n\u001b[1;32m      3\u001b[0m \u001b[0mprint\u001b[0m\u001b[0;34m(\u001b[0m\u001b[0;34m\"Saving train csv in {}\"\u001b[0m\u001b[0;34m.\u001b[0m\u001b[0mformat\u001b[0m\u001b[0;34m(\u001b[0m\u001b[0mtrain_csv_filename\u001b[0m\u001b[0;34m)\u001b[0m\u001b[0;34m)\u001b[0m\u001b[0;34m\u001b[0m\u001b[0m\n\u001b[1;32m      4\u001b[0m \u001b[0mtrain_df\u001b[0m\u001b[0;34m.\u001b[0m\u001b[0mto_csv\u001b[0m\u001b[0;34m(\u001b[0m\u001b[0mtrain_csv_filename\u001b[0m\u001b[0;34m,\u001b[0m \u001b[0mindex\u001b[0m\u001b[0;34m=\u001b[0m\u001b[0;32mFalse\u001b[0m\u001b[0;34m)\u001b[0m\u001b[0;34m\u001b[0m\u001b[0m\n",
      "\u001b[0;32m~/anaconda3/lib/python3.6/site-packages/pandas/core/frame.py\u001b[0m in \u001b[0;36mfrom_dict\u001b[0;34m(cls, data, orient, dtype)\u001b[0m\n\u001b[1;32m    849\u001b[0m             \u001b[0;32mraise\u001b[0m \u001b[0mValueError\u001b[0m\u001b[0;34m(\u001b[0m\u001b[0;34m'only recognize index or columns for orient'\u001b[0m\u001b[0;34m)\u001b[0m\u001b[0;34m\u001b[0m\u001b[0m\n\u001b[1;32m    850\u001b[0m \u001b[0;34m\u001b[0m\u001b[0m\n\u001b[0;32m--> 851\u001b[0;31m         \u001b[0;32mreturn\u001b[0m \u001b[0mcls\u001b[0m\u001b[0;34m(\u001b[0m\u001b[0mdata\u001b[0m\u001b[0;34m,\u001b[0m \u001b[0mindex\u001b[0m\u001b[0;34m=\u001b[0m\u001b[0mindex\u001b[0m\u001b[0;34m,\u001b[0m \u001b[0mcolumns\u001b[0m\u001b[0;34m=\u001b[0m\u001b[0mcolumns\u001b[0m\u001b[0;34m,\u001b[0m \u001b[0mdtype\u001b[0m\u001b[0;34m=\u001b[0m\u001b[0mdtype\u001b[0m\u001b[0;34m)\u001b[0m\u001b[0;34m\u001b[0m\u001b[0m\n\u001b[0m\u001b[1;32m    852\u001b[0m \u001b[0;34m\u001b[0m\u001b[0m\n\u001b[1;32m    853\u001b[0m     \u001b[0;32mdef\u001b[0m \u001b[0mto_dict\u001b[0m\u001b[0;34m(\u001b[0m\u001b[0mself\u001b[0m\u001b[0;34m,\u001b[0m \u001b[0morient\u001b[0m\u001b[0;34m=\u001b[0m\u001b[0;34m'dict'\u001b[0m\u001b[0;34m)\u001b[0m\u001b[0;34m:\u001b[0m\u001b[0;34m\u001b[0m\u001b[0m\n",
      "\u001b[0;32m~/anaconda3/lib/python3.6/site-packages/pandas/core/frame.py\u001b[0m in \u001b[0;36m__init__\u001b[0;34m(self, data, index, columns, dtype, copy)\u001b[0m\n\u001b[1;32m    273\u001b[0m                                  dtype=dtype, copy=copy)\n\u001b[1;32m    274\u001b[0m         \u001b[0;32melif\u001b[0m \u001b[0misinstance\u001b[0m\u001b[0;34m(\u001b[0m\u001b[0mdata\u001b[0m\u001b[0;34m,\u001b[0m \u001b[0mdict\u001b[0m\u001b[0;34m)\u001b[0m\u001b[0;34m:\u001b[0m\u001b[0;34m\u001b[0m\u001b[0m\n\u001b[0;32m--> 275\u001b[0;31m             \u001b[0mmgr\u001b[0m \u001b[0;34m=\u001b[0m \u001b[0mself\u001b[0m\u001b[0;34m.\u001b[0m\u001b[0m_init_dict\u001b[0m\u001b[0;34m(\u001b[0m\u001b[0mdata\u001b[0m\u001b[0;34m,\u001b[0m \u001b[0mindex\u001b[0m\u001b[0;34m,\u001b[0m \u001b[0mcolumns\u001b[0m\u001b[0;34m,\u001b[0m \u001b[0mdtype\u001b[0m\u001b[0;34m=\u001b[0m\u001b[0mdtype\u001b[0m\u001b[0;34m)\u001b[0m\u001b[0;34m\u001b[0m\u001b[0m\n\u001b[0m\u001b[1;32m    276\u001b[0m         \u001b[0;32melif\u001b[0m \u001b[0misinstance\u001b[0m\u001b[0;34m(\u001b[0m\u001b[0mdata\u001b[0m\u001b[0;34m,\u001b[0m \u001b[0mma\u001b[0m\u001b[0;34m.\u001b[0m\u001b[0mMaskedArray\u001b[0m\u001b[0;34m)\u001b[0m\u001b[0;34m:\u001b[0m\u001b[0;34m\u001b[0m\u001b[0m\n\u001b[1;32m    277\u001b[0m             \u001b[0;32mimport\u001b[0m \u001b[0mnumpy\u001b[0m\u001b[0;34m.\u001b[0m\u001b[0mma\u001b[0m\u001b[0;34m.\u001b[0m\u001b[0mmrecords\u001b[0m \u001b[0;32mas\u001b[0m \u001b[0mmrecords\u001b[0m\u001b[0;34m\u001b[0m\u001b[0m\n",
      "\u001b[0;32m~/anaconda3/lib/python3.6/site-packages/pandas/core/frame.py\u001b[0m in \u001b[0;36m_init_dict\u001b[0;34m(self, data, index, columns, dtype)\u001b[0m\n\u001b[1;32m    409\u001b[0m             \u001b[0marrays\u001b[0m \u001b[0;34m=\u001b[0m \u001b[0;34m[\u001b[0m\u001b[0mdata\u001b[0m\u001b[0;34m[\u001b[0m\u001b[0mk\u001b[0m\u001b[0;34m]\u001b[0m \u001b[0;32mfor\u001b[0m \u001b[0mk\u001b[0m \u001b[0;32min\u001b[0m \u001b[0mkeys\u001b[0m\u001b[0;34m]\u001b[0m\u001b[0;34m\u001b[0m\u001b[0m\n\u001b[1;32m    410\u001b[0m \u001b[0;34m\u001b[0m\u001b[0m\n\u001b[0;32m--> 411\u001b[0;31m         \u001b[0;32mreturn\u001b[0m \u001b[0m_arrays_to_mgr\u001b[0m\u001b[0;34m(\u001b[0m\u001b[0marrays\u001b[0m\u001b[0;34m,\u001b[0m \u001b[0mdata_names\u001b[0m\u001b[0;34m,\u001b[0m \u001b[0mindex\u001b[0m\u001b[0;34m,\u001b[0m \u001b[0mcolumns\u001b[0m\u001b[0;34m,\u001b[0m \u001b[0mdtype\u001b[0m\u001b[0;34m=\u001b[0m\u001b[0mdtype\u001b[0m\u001b[0;34m)\u001b[0m\u001b[0;34m\u001b[0m\u001b[0m\n\u001b[0m\u001b[1;32m    412\u001b[0m \u001b[0;34m\u001b[0m\u001b[0m\n\u001b[1;32m    413\u001b[0m     \u001b[0;32mdef\u001b[0m \u001b[0m_init_ndarray\u001b[0m\u001b[0;34m(\u001b[0m\u001b[0mself\u001b[0m\u001b[0;34m,\u001b[0m \u001b[0mvalues\u001b[0m\u001b[0;34m,\u001b[0m \u001b[0mindex\u001b[0m\u001b[0;34m,\u001b[0m \u001b[0mcolumns\u001b[0m\u001b[0;34m,\u001b[0m \u001b[0mdtype\u001b[0m\u001b[0;34m=\u001b[0m\u001b[0;32mNone\u001b[0m\u001b[0;34m,\u001b[0m \u001b[0mcopy\u001b[0m\u001b[0;34m=\u001b[0m\u001b[0;32mFalse\u001b[0m\u001b[0;34m)\u001b[0m\u001b[0;34m:\u001b[0m\u001b[0;34m\u001b[0m\u001b[0m\n",
      "\u001b[0;32m~/anaconda3/lib/python3.6/site-packages/pandas/core/frame.py\u001b[0m in \u001b[0;36m_arrays_to_mgr\u001b[0;34m(arrays, arr_names, index, columns, dtype)\u001b[0m\n\u001b[1;32m   5494\u001b[0m     \u001b[0;31m# figure out the index, if necessary\u001b[0m\u001b[0;34m\u001b[0m\u001b[0;34m\u001b[0m\u001b[0m\n\u001b[1;32m   5495\u001b[0m     \u001b[0;32mif\u001b[0m \u001b[0mindex\u001b[0m \u001b[0;32mis\u001b[0m \u001b[0;32mNone\u001b[0m\u001b[0;34m:\u001b[0m\u001b[0;34m\u001b[0m\u001b[0m\n\u001b[0;32m-> 5496\u001b[0;31m         \u001b[0mindex\u001b[0m \u001b[0;34m=\u001b[0m \u001b[0mextract_index\u001b[0m\u001b[0;34m(\u001b[0m\u001b[0marrays\u001b[0m\u001b[0;34m)\u001b[0m\u001b[0;34m\u001b[0m\u001b[0m\n\u001b[0m\u001b[1;32m   5497\u001b[0m     \u001b[0;32melse\u001b[0m\u001b[0;34m:\u001b[0m\u001b[0;34m\u001b[0m\u001b[0m\n\u001b[1;32m   5498\u001b[0m         \u001b[0mindex\u001b[0m \u001b[0;34m=\u001b[0m \u001b[0m_ensure_index\u001b[0m\u001b[0;34m(\u001b[0m\u001b[0mindex\u001b[0m\u001b[0;34m)\u001b[0m\u001b[0;34m\u001b[0m\u001b[0m\n",
      "\u001b[0;32m~/anaconda3/lib/python3.6/site-packages/pandas/core/frame.py\u001b[0m in \u001b[0;36mextract_index\u001b[0;34m(data)\u001b[0m\n\u001b[1;32m   5552\u001b[0m                     msg = ('array length %d does not match index length %d' %\n\u001b[1;32m   5553\u001b[0m                            (lengths[0], len(index)))\n\u001b[0;32m-> 5554\u001b[0;31m                     \u001b[0;32mraise\u001b[0m \u001b[0mValueError\u001b[0m\u001b[0;34m(\u001b[0m\u001b[0mmsg\u001b[0m\u001b[0;34m)\u001b[0m\u001b[0;34m\u001b[0m\u001b[0m\n\u001b[0m\u001b[1;32m   5555\u001b[0m             \u001b[0;32melse\u001b[0m\u001b[0;34m:\u001b[0m\u001b[0;34m\u001b[0m\u001b[0m\n\u001b[1;32m   5556\u001b[0m                 \u001b[0mindex\u001b[0m \u001b[0;34m=\u001b[0m \u001b[0m_default_index\u001b[0m\u001b[0;34m(\u001b[0m\u001b[0mlengths\u001b[0m\u001b[0;34m[\u001b[0m\u001b[0;36m0\u001b[0m\u001b[0;34m]\u001b[0m\u001b[0;34m)\u001b[0m\u001b[0;34m\u001b[0m\u001b[0m\n",
      "\u001b[0;31mValueError\u001b[0m: array length 458368 does not match index length 458397"
     ]
    }
   ],
   "source": [
    "train_df = pd.DataFrame.from_dict(df_dict_train)\n",
    "train_df[\"training\"] = 1\n",
    "print(\"Saving train csv in {}\".format(train_csv_filename))\n",
    "train_df.to_csv(train_csv_filename, index=False)"
   ]
  },
  {
   "cell_type": "code",
   "execution_count": null,
   "metadata": {},
   "outputs": [],
   "source": [
    "test_df = pd.DataFrame.from_dict(df_dict_test)\n",
    "test_df[\"training\"] = 0\n",
    "print(\"Saving test csv in {}\".format(test_csv_filename))\n",
    "test_df.to_csv(test_csv_filename, index=False)"
   ]
  }
 ],
 "metadata": {
  "kernelspec": {
   "display_name": "Python 3",
   "language": "python",
   "name": "python3"
  },
  "language_info": {
   "codemirror_mode": {
    "name": "ipython",
    "version": 3
   },
   "file_extension": ".py",
   "mimetype": "text/x-python",
   "name": "python",
   "nbconvert_exporter": "python",
   "pygments_lexer": "ipython3",
   "version": "3.6.3"
  }
 },
 "nbformat": 4,
 "nbformat_minor": 2
}
