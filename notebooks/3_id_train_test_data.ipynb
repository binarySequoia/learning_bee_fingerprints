{
 "cells": [
  {
   "cell_type": "code",
   "execution_count": 1,
   "metadata": {
    "collapsed": true
   },
   "outputs": [],
   "source": [
    "%matplotlib inline\n",
    "import numpy as np\n",
    "from skimage import io\n",
    "import matplotlib.pyplot as plt\n",
    "import os\n",
    "\n",
    "PREPROCCESSED_DATA_DIR = '../data/preprocess_data'"
   ]
  },
  {
   "cell_type": "code",
   "execution_count": 2,
   "metadata": {
    "collapsed": true
   },
   "outputs": [],
   "source": [
    "def get_frame_id(fname):\n",
    "    return fname.split(\"--\")[1].split('.')[0]\n",
    "\n",
    "def get_track_id(fname):\n",
    "    return fname.split(\"--\")[0].split('bee')[1]\n",
    "\n",
    "def get_name(fname):\n",
    "    return fname.split('/')[-1]"
   ]
  },
  {
   "cell_type": "code",
   "execution_count": 3,
   "metadata": {
    "collapsed": true
   },
   "outputs": [],
   "source": [
    "images = io.imread_collection(\"../data/clean_raw/bee*\")"
   ]
  },
  {
   "cell_type": "markdown",
   "metadata": {},
   "source": [
    "## Count Bees By Frames"
   ]
  },
  {
   "cell_type": "code",
   "execution_count": 4,
   "metadata": {
    "collapsed": true
   },
   "outputs": [],
   "source": [
    "bees_count_by_frame = dict()\n",
    "for fname in images.files:\n",
    "    frame = get_frame_id(fname)\n",
    "    if frame in bees_count_by_frame:\n",
    "        bees_count_by_frame[frame] += 1\n",
    "    else:\n",
    "        bees_count_by_frame[frame] = 1"
   ]
  },
  {
   "cell_type": "code",
   "execution_count": 5,
   "metadata": {},
   "outputs": [],
   "source": [
    "frames_bee_count = list()\n",
    "for key, val in bees_count_by_frame.items():\n",
    "#     print(key, val)\n",
    "    frames_bee_count.append(val)\n",
    "frames_bee_count = np.array(frames_bee_count)"
   ]
  },
  {
   "cell_type": "code",
   "execution_count": 6,
   "metadata": {
    "collapsed": true
   },
   "outputs": [],
   "source": [
    "# sorted(bees_count_by_frame.keys())"
   ]
  },
  {
   "cell_type": "code",
   "execution_count": 7,
   "metadata": {
    "scrolled": true
   },
   "outputs": [
    {
     "data": {
      "image/png": "[encoded data removed]",
      "text/plain": [
       "<matplotlib.figure.Figure at 0x7fe42d364390>"
      ]
     },
     "metadata": {},
     "output_type": "display_data"
    }
   ],
   "source": [
    "plt.hist(frames_bee_count, bins=10)\n",
    "plt.xticks(np.arange(20));"
   ]
  },
  {
   "cell_type": "markdown",
   "metadata": {},
   "source": [
    "## Count Bees by Tracks"
   ]
  },
  {
   "cell_type": "code",
   "execution_count": 8,
   "metadata": {
    "collapsed": true
   },
   "outputs": [],
   "source": [
    "bees_count_by_track = dict()\n",
    "for fname in images.files:\n",
    "    track = get_track_id(fname)\n",
    "    if track in bees_count_by_track:\n",
    "        bees_count_by_track[track] += 1\n",
    "    else:\n",
    "        bees_count_by_track[track] = 1"
   ]
  },
  {
   "cell_type": "code",
   "execution_count": 9,
   "metadata": {
    "collapsed": true
   },
   "outputs": [],
   "source": [
    "tracks_bee_count = list()\n",
    "for key, val in bees_count_by_track.items():\n",
    "#     print(key, val)\n",
    "    tracks_bee_count.append(val)\n",
    "tracks_bee_count = np.array(tracks_bee_count)"
   ]
  },
  {
   "cell_type": "code",
   "execution_count": 10,
   "metadata": {
    "collapsed": true
   },
   "outputs": [],
   "source": [
    "# sorted(bees_count_by_track.keys())"
   ]
  },
  {
   "cell_type": "code",
   "execution_count": 11,
   "metadata": {
    "scrolled": true
   },
   "outputs": [
    {
     "data": {
      "image/png": "[encoded data removed]",
      "text/plain": [
       "<matplotlib.figure.Figure at 0x7fe42d3ceb70>"
      ]
     },
     "metadata": {},
     "output_type": "display_data"
    }
   ],
   "source": [
    "plt.hist(tracks_bee_count, bins=600);\n",
    "# plt.xticks(np.arange(20));"
   ]
  },
  {
   "cell_type": "code",
   "execution_count": 12,
   "metadata": {},
   "outputs": [],
   "source": [
    "tracks_count_by_frame = dict()\n",
    "for fname in images.files:\n",
    "    frame = get_frame_id(fname)\n",
    "    track = get_track_id(fname)\n",
    "    if frame in tracks_count_by_frame:\n",
    "        tracks_count_by_frame[frame]['count'] += 1\n",
    "        if tracks_count_by_frame[frame]['min'] >  bees_count_by_track[track]:\n",
    "            tracks_count_by_frame[frame]['min'] = bees_count_by_track[track]\n",
    "        if tracks_count_by_frame[frame]['max'] <  bees_count_by_track[track]:\n",
    "            tracks_count_by_frame[frame]['max'] = bees_count_by_track[track]\n",
    "    else:\n",
    "        tracks_count_by_frame[frame] = {'count': 1, 'min': bees_count_by_track[track], 'max': bees_count_by_track[track]}"
   ]
  },
  {
   "cell_type": "code",
   "execution_count": 13,
   "metadata": {},
   "outputs": [],
   "source": [
    "for k, v in tracks_count_by_frame.items():\n",
    "    if v['min'] < 40:\n",
    "        continue\n",
    "    if v['count'] < 10:\n",
    "        continue\n",
    "    print(k, v)"
   ]
  },
  {
   "cell_type": "code",
   "execution_count": 14,
   "metadata": {},
   "outputs": [],
   "source": [
    "ids = [get_track_id(fname) for fname in images.files if get_frame_id(fname) == \"0846\"]\n",
    "amount = [bees_count_by_track[i] for i in ids]"
   ]
  },
  {
   "cell_type": "code",
   "execution_count": 15,
   "metadata": {},
   "outputs": [
    {
     "name": "stdout",
     "output_type": "stream",
     "text": [
      "0099 632\n",
      "0196 333\n",
      "0226 187\n",
      "0235 54\n",
      "0240 41\n",
      "0248 48\n"
     ]
    }
   ],
   "source": [
    "for i, a in zip(ids, amount):\n",
    "    print(i,a)"
   ]
  },
  {
   "cell_type": "code",
   "execution_count": 16,
   "metadata": {
    "collapsed": true
   },
   "outputs": [],
   "source": [
    "del ids[0] # appears in the first tracks and last ones but not in between"
   ]
  },
  {
   "cell_type": "code",
   "execution_count": 17,
   "metadata": {},
   "outputs": [
    {
     "data": {
      "text/plain": [
       "['0196', '0226', '0235', '0240', '0248']"
      ]
     },
     "execution_count": 17,
     "metadata": {},
     "output_type": "execute_result"
    }
   ],
   "source": [
    "ids"
   ]
  },
  {
   "cell_type": "code",
   "execution_count": 18,
   "metadata": {},
   "outputs": [],
   "source": [
    "ids_frames = dict()\n",
    "\n",
    "for fname in images.files:\n",
    "    track = get_track_id(fname)\n",
    "    frame = get_frame_id(fname)\n",
    "    \n",
    "    if track not in ids:\n",
    "        continue\n",
    "    \n",
    "    if track in ids_frames:\n",
    "        ids_frames[track].append(frame)\n",
    "    else:\n",
    "        ids_frames[track] = list([frame])\n",
    "        "
   ]
  },
  {
   "cell_type": "code",
   "execution_count": 19,
   "metadata": {},
   "outputs": [],
   "source": [
    "train_frames = dict()\n",
    "\n",
    "for k, val in ids_frames.items():\n",
    "    train_frames[k] = sorted(val)[:20]"
   ]
  },
  {
   "cell_type": "code",
   "execution_count": 20,
   "metadata": {},
   "outputs": [],
   "source": [
    "# train_frames"
   ]
  },
  {
   "cell_type": "code",
   "execution_count": 21,
   "metadata": {
    "collapsed": true
   },
   "outputs": [],
   "source": [
    "test_frames = dict()\n",
    "\n",
    "for k, val in ids_frames.items():\n",
    "    test_frames[k] = sorted(val)[-20:]"
   ]
  },
  {
   "cell_type": "code",
   "execution_count": 22,
   "metadata": {},
   "outputs": [],
   "source": [
    "# test_frames"
   ]
  },
  {
   "cell_type": "code",
   "execution_count": 23,
   "metadata": {},
   "outputs": [],
   "source": [
    "train_id_data_path = os.path.join(PREPROCCESSED_DATA_DIR, 'train_data', 'id')\n",
    "\n",
    "if not os.path.isdir(train_id_data_path):\n",
    "    os.mkdir(train_id_data_path)"
   ]
  },
  {
   "cell_type": "code",
   "execution_count": 24,
   "metadata": {},
   "outputs": [],
   "source": [
    "for img, fname in zip(images, images.files):\n",
    "    frame = get_frame_id(fname)\n",
    "    track = get_track_id(fname)\n",
    "    \n",
    "    if track not in ids:\n",
    "        continue\n",
    "    \n",
    "    if frame not in train_frames[track]:\n",
    "        continue\n",
    "    \n",
    "    filepath = os.path.join(train_id_data_path, get_name(fname))\n",
    "    \n",
    "    io.imsave(filepath, img)\n",
    "\n",
    "       "
   ]
  },
  {
   "cell_type": "code",
   "execution_count": 25,
   "metadata": {
    "collapsed": true
   },
   "outputs": [],
   "source": [
    "test_id_data_path = os.path.join(PREPROCCESSED_DATA_DIR, 'test_data', 'id')\n",
    "\n",
    "if not os.path.isdir(test_id_data_path):\n",
    "    os.mkdir(test_id_data_path)"
   ]
  },
  {
   "cell_type": "code",
   "execution_count": 26,
   "metadata": {
    "collapsed": true
   },
   "outputs": [],
   "source": [
    "for img, fname in zip(images, images.files):\n",
    "    frame = get_frame_id(fname)\n",
    "    track = get_track_id(fname)\n",
    "    \n",
    "    if track not in ids:\n",
    "        continue\n",
    "    \n",
    "    if frame not in test_frames[track]:\n",
    "        continue\n",
    "    \n",
    "    filepath = os.path.join(test_id_data_path, get_name(fname))\n",
    "    \n",
    "    io.imsave(filepath, img)\n",
    "\n",
    "       "
   ]
  },
  {
   "cell_type": "code",
   "execution_count": null,
   "metadata": {},
   "outputs": [],
   "source": []
  }
 ],
 "metadata": {
  "kernelspec": {
   "display_name": "Python 3",
   "language": "python",
   "name": "python3"
  },
  "language_info": {
   "codemirror_mode": {
    "name": "ipython",
    "version": 3
   },
   "file_extension": ".py",
   "mimetype": "text/x-python",
   "name": "python",
   "nbconvert_exporter": "python",
   "pygments_lexer": "ipython3",
   "version": "3.6.3"
  }
 },
 "nbformat": 4,
 "nbformat_minor": 2
}
